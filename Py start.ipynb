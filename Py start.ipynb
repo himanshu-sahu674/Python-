{
 "cells": [
  {
   "cell_type": "code",
   "execution_count": 7,
   "id": "43b347c4",
   "metadata": {},
   "outputs": [
    {
     "data": {
      "text/plain": [
       "(10+6j)"
      ]
     },
     "execution_count": 7,
     "metadata": {},
     "output_type": "execute_result"
    }
   ],
   "source": [
    "v = 10+6j\n",
    "v"
   ]
  },
  {
   "cell_type": "code",
   "execution_count": 8,
   "id": "72f011a5",
   "metadata": {},
   "outputs": [
    {
     "data": {
      "text/plain": [
       "complex"
      ]
     },
     "execution_count": 8,
     "metadata": {},
     "output_type": "execute_result"
    }
   ],
   "source": [
    "type(v)"
   ]
  },
  {
   "cell_type": "code",
   "execution_count": 10,
   "id": "1399cf5d",
   "metadata": {},
   "outputs": [
    {
     "data": {
      "text/plain": [
       "6.0"
      ]
     },
     "execution_count": 10,
     "metadata": {},
     "output_type": "execute_result"
    }
   ],
   "source": [
    "v.imag"
   ]
  },
  {
   "cell_type": "code",
   "execution_count": 8,
   "id": "32e78c5d",
   "metadata": {},
   "outputs": [
    {
     "data": {
      "text/plain": [
       "2"
      ]
     },
     "execution_count": 8,
     "metadata": {},
     "output_type": "execute_result"
    }
   ],
   "source": [
    "c = True + True    #1+1 = 2\n",
    "c"
   ]
  },
  {
   "cell_type": "code",
   "execution_count": 7,
   "id": "00a75606",
   "metadata": {},
   "outputs": [
    {
     "data": {
      "text/plain": [
       "1"
      ]
     },
     "execution_count": 7,
     "metadata": {},
     "output_type": "execute_result"
    }
   ],
   "source": [
    "d = True + False #1+0\n",
    "d"
   ]
  },
  {
   "cell_type": "code",
   "execution_count": 24,
   "id": "8b82ce2f",
   "metadata": {},
   "outputs": [
    {
     "data": {
      "text/plain": [
       "'multi\\nline\\ncomments'"
      ]
     },
     "execution_count": 24,
     "metadata": {},
     "output_type": "execute_result"
    }
   ],
   "source": [
    "# sinhle line comment\n",
    "'''multi\n",
    "line\n",
    "comments'''"
   ]
  },
  {
   "cell_type": "code",
   "execution_count": 29,
   "id": "f5253dd0",
   "metadata": {},
   "outputs": [
    {
     "name": "stdout",
     "output_type": "stream",
     "text": [
      "himanshu's laptop\n"
     ]
    }
   ],
   "source": [
    "a = \"himanshu's laptop\"\n",
    "print(a)"
   ]
  },
  {
   "cell_type": "code",
   "execution_count": 34,
   "id": "75332519",
   "metadata": {},
   "outputs": [
    {
     "data": {
      "text/plain": [
       "'Himan'"
      ]
     },
     "execution_count": 34,
     "metadata": {},
     "output_type": "execute_result"
    }
   ],
   "source": [
    "name = \"Himanshu\"\n",
    "name[0:5]   #slicing always exclude the upper bounds "
   ]
  },
  {
   "cell_type": "code",
   "execution_count": 32,
   "id": "da942561",
   "metadata": {},
   "outputs": [
    {
     "data": {
      "text/plain": [
       "'Hmn'"
      ]
     },
     "execution_count": 32,
     "metadata": {},
     "output_type": "execute_result"
    }
   ],
   "source": [
    "name[0:5:2]"
   ]
  },
  {
   "cell_type": "code",
   "execution_count": 33,
   "id": "fbb51bb8",
   "metadata": {},
   "outputs": [
    {
     "data": {
      "text/plain": [
       "'uhsnamiH'"
      ]
     },
     "execution_count": 33,
     "metadata": {},
     "output_type": "execute_result"
    }
   ],
   "source": [
    "name[::-1] #reversing "
   ]
  },
  {
   "cell_type": "code",
   "execution_count": 35,
   "id": "7f2f3f5d",
   "metadata": {},
   "outputs": [
    {
     "data": {
      "text/plain": [
       "''"
      ]
     },
     "execution_count": 35,
     "metadata": {},
     "output_type": "execute_result"
    }
   ],
   "source": [
    "name[0:6:-1]  #we can't get any data - forward indexing & negative jumping -  both are in opposite direction"
   ]
  },
  {
   "cell_type": "code",
   "execution_count": 36,
   "id": "f853959d",
   "metadata": {},
   "outputs": [
    {
     "data": {
      "text/plain": [
       "'hsnami'"
      ]
     },
     "execution_count": 36,
     "metadata": {},
     "output_type": "execute_result"
    }
   ],
   "source": [
    "name[6:0:-1]  # we can get data - reverse indexing & negative jumping - both are in same directions"
   ]
  },
  {
   "cell_type": "markdown",
   "id": "4e0bae71",
   "metadata": {},
   "source": [
    "**list** - collection of homogeneous or heterogeneous data sets"
   ]
  },
  {
   "cell_type": "code",
   "execution_count": 44,
   "id": "c98150f8",
   "metadata": {},
   "outputs": [
    {
     "data": {
      "text/plain": [
       "list"
      ]
     },
     "execution_count": 44,
     "metadata": {},
     "output_type": "execute_result"
    }
   ],
   "source": [
    "variable = []\n",
    "type(variable)\n"
   ]
  },
  {
   "cell_type": "code",
   "execution_count": 43,
   "id": "713dc71a",
   "metadata": {},
   "outputs": [
    {
     "name": "stdout",
     "output_type": "stream",
     "text": [
      "[]\n"
     ]
    }
   ],
   "source": [
    "print(variable)"
   ]
  },
  {
   "cell_type": "code",
   "execution_count": 46,
   "id": "8601de27",
   "metadata": {},
   "outputs": [
    {
     "data": {
      "text/plain": [
       "list"
      ]
     },
     "execution_count": 46,
     "metadata": {},
     "output_type": "execute_result"
    }
   ],
   "source": [
    "# list can be created by \n",
    "var = list()\n",
    "type(var)"
   ]
  },
  {
   "cell_type": "code",
   "execution_count": 47,
   "id": "508f31f6",
   "metadata": {},
   "outputs": [
    {
     "name": "stdout",
     "output_type": "stream",
     "text": [
      "[]\n"
     ]
    }
   ],
   "source": [
    "print(var)"
   ]
  },
  {
   "cell_type": "code",
   "execution_count": 48,
   "id": "6658a1f6",
   "metadata": {},
   "outputs": [],
   "source": [
    "# but there is some difference between these two list they are not exactly the same"
   ]
  },
  {
   "cell_type": "code",
   "execution_count": 50,
   "id": "3c4d86c7",
   "metadata": {},
   "outputs": [
    {
     "data": {
      "text/plain": [
       "[1, 2, 3, 4, 5]"
      ]
     },
     "execution_count": 50,
     "metadata": {},
     "output_type": "execute_result"
    }
   ],
   "source": [
    "ac = [1,2,3,4,5] #homogeneous data set\n",
    "ac"
   ]
  },
  {
   "cell_type": "code",
   "execution_count": 52,
   "id": "65c9a5e2",
   "metadata": {},
   "outputs": [
    {
     "data": {
      "text/plain": [
       "[1, 'raj', True, 45.6, (4+2j)]"
      ]
     },
     "execution_count": 52,
     "metadata": {},
     "output_type": "execute_result"
    }
   ],
   "source": [
    "ab = [1,'raj',True,45.6, 4+2j]\n",
    "ab"
   ]
  },
  {
   "cell_type": "code",
   "execution_count": 53,
   "id": "d7c82bdf",
   "metadata": {},
   "outputs": [
    {
     "data": {
      "text/plain": [
       "'raj'"
      ]
     },
     "execution_count": 53,
     "metadata": {},
     "output_type": "execute_result"
    }
   ],
   "source": [
    "#list store data as sequential indexes\n",
    "ab[1]"
   ]
  },
  {
   "cell_type": "code",
   "execution_count": 54,
   "id": "9fedc78c",
   "metadata": {},
   "outputs": [
    {
     "data": {
      "text/plain": [
       "5"
      ]
     },
     "execution_count": 54,
     "metadata": {},
     "output_type": "execute_result"
    }
   ],
   "source": [
    "len(ab)"
   ]
  },
  {
   "cell_type": "code",
   "execution_count": 55,
   "id": "93b466dd",
   "metadata": {},
   "outputs": [
    {
     "data": {
      "text/plain": [
       "[(4+2j), 45.6, True, 'raj', 1]"
      ]
     },
     "execution_count": 55,
     "metadata": {},
     "output_type": "execute_result"
    }
   ],
   "source": [
    "ab[::-1] #reversing the list"
   ]
  },
  {
   "cell_type": "code",
   "execution_count": 57,
   "id": "a40b8499",
   "metadata": {},
   "outputs": [
    {
     "data": {
      "text/plain": [
       "list"
      ]
     },
     "execution_count": 57,
     "metadata": {},
     "output_type": "execute_result"
    }
   ],
   "source": [
    "type(ab)"
   ]
  },
  {
   "cell_type": "code",
   "execution_count": 56,
   "id": "52859298",
   "metadata": {},
   "outputs": [
    {
     "data": {
      "text/plain": [
       "bool"
      ]
     },
     "execution_count": 56,
     "metadata": {},
     "output_type": "execute_result"
    }
   ],
   "source": [
    "type(ab[2])"
   ]
  },
  {
   "cell_type": "code",
   "execution_count": 70,
   "id": "588e5c8e",
   "metadata": {},
   "outputs": [
    {
     "data": {
      "text/plain": [
       "[1, 'raj', True, 45.6, (4+2j), [8, 4, 'python']]"
      ]
     },
     "execution_count": 70,
     "metadata": {},
     "output_type": "execute_result"
    }
   ],
   "source": [
    "# we can also store list inside a list and acces that list too\n",
    "abc = [1,'raj',True,45.6, 4+2j,[8,4,\"python\"]]\n",
    "abc"
   ]
  },
  {
   "cell_type": "code",
   "execution_count": 59,
   "id": "82e4dcdd",
   "metadata": {},
   "outputs": [
    {
     "data": {
      "text/plain": [
       "list"
      ]
     },
     "execution_count": 59,
     "metadata": {},
     "output_type": "execute_result"
    }
   ],
   "source": [
    "type(abc)"
   ]
  },
  {
   "cell_type": "code",
   "execution_count": 60,
   "id": "18f39c28",
   "metadata": {},
   "outputs": [
    {
     "data": {
      "text/plain": [
       "list"
      ]
     },
     "execution_count": 60,
     "metadata": {},
     "output_type": "execute_result"
    }
   ],
   "source": [
    "type(abc[5])"
   ]
  },
  {
   "cell_type": "code",
   "execution_count": 61,
   "id": "9fccf11b",
   "metadata": {},
   "outputs": [
    {
     "data": {
      "text/plain": [
       "complex"
      ]
     },
     "execution_count": 61,
     "metadata": {},
     "output_type": "execute_result"
    }
   ],
   "source": [
    "type(abc[4])"
   ]
  },
  {
   "cell_type": "code",
   "execution_count": 62,
   "id": "6b05ae27",
   "metadata": {},
   "outputs": [
    {
     "name": "stdout",
     "output_type": "stream",
     "text": [
      "[8, 4, 'python']\n"
     ]
    }
   ],
   "source": [
    "print(abc[5])"
   ]
  },
  {
   "cell_type": "code",
   "execution_count": 63,
   "id": "b9428eef",
   "metadata": {},
   "outputs": [
    {
     "data": {
      "text/plain": [
       "str"
      ]
     },
     "execution_count": 63,
     "metadata": {},
     "output_type": "execute_result"
    }
   ],
   "source": [
    "type(abc[5][2])"
   ]
  },
  {
   "cell_type": "code",
   "execution_count": 64,
   "id": "e4d3c6d8",
   "metadata": {},
   "outputs": [
    {
     "name": "stdout",
     "output_type": "stream",
     "text": [
      "python\n"
     ]
    }
   ],
   "source": [
    "print(abc[5][2])"
   ]
  },
  {
   "cell_type": "code",
   "execution_count": 69,
   "id": "749cdbf6",
   "metadata": {},
   "outputs": [
    {
     "name": "stdout",
     "output_type": "stream",
     "text": [
      "['python', 4, 8]\n"
     ]
    }
   ],
   "source": [
    "print(abc[5][::-1])"
   ]
  },
  {
   "cell_type": "code",
   "execution_count": 71,
   "id": "6e9fe271",
   "metadata": {},
   "outputs": [
    {
     "name": "stdout",
     "output_type": "stream",
     "text": [
      "[1, 'raj', True, 45.6, (4+2j)]\n"
     ]
    }
   ],
   "source": [
    "abc = [1,'raj',True,45.6, 4+2j,[8,4,\"python\"]]\n",
    "print(abc[0:5])"
   ]
  },
  {
   "cell_type": "code",
   "execution_count": 74,
   "id": "0f0d91d1",
   "metadata": {},
   "outputs": [
    {
     "name": "stdout",
     "output_type": "stream",
     "text": [
      "[]\n"
     ]
    }
   ],
   "source": [
    "print(abc[-1:-5])  #it is giving me blank space because we are going from -1 to -5 which is possible but there\n",
    "#is a default step size postive one so both are in opposite direction so it is giving me nothing."
   ]
  },
  {
   "cell_type": "code",
   "execution_count": 75,
   "id": "2e78cb5a",
   "metadata": {},
   "outputs": [
    {
     "name": "stdout",
     "output_type": "stream",
     "text": [
      "[[8, 4, 'python'], (4+2j), 45.6, True]\n"
     ]
    }
   ],
   "source": [
    "print(abc[-1:-5:-1])"
   ]
  },
  {
   "cell_type": "code",
   "execution_count": 76,
   "id": "b619f1e3",
   "metadata": {},
   "outputs": [
    {
     "data": {
      "text/plain": [
       "range(0, 10)"
      ]
     },
     "execution_count": 76,
     "metadata": {},
     "output_type": "execute_result"
    }
   ],
   "source": [
    "range(10)"
   ]
  },
  {
   "cell_type": "code",
   "execution_count": 77,
   "id": "9794f4a0",
   "metadata": {},
   "outputs": [
    {
     "data": {
      "text/plain": [
       "[0, 1, 2, 3, 4, 5, 6, 7, 8, 9]"
      ]
     },
     "execution_count": 77,
     "metadata": {},
     "output_type": "execute_result"
    }
   ],
   "source": [
    "list(range(10))"
   ]
  },
  {
   "cell_type": "code",
   "execution_count": 78,
   "id": "848c9de3",
   "metadata": {},
   "outputs": [
    {
     "data": {
      "text/plain": [
       "[5, 6, 7, 8, 9, 10]"
      ]
     },
     "execution_count": 78,
     "metadata": {},
     "output_type": "execute_result"
    }
   ],
   "source": [
    "list(range(5,11))"
   ]
  },
  {
   "cell_type": "code",
   "execution_count": 79,
   "id": "848da47c",
   "metadata": {},
   "outputs": [
    {
     "data": {
      "text/plain": [
       "[]"
      ]
     },
     "execution_count": 79,
     "metadata": {},
     "output_type": "execute_result"
    }
   ],
   "source": [
    "list(range(10,6))"
   ]
  },
  {
   "cell_type": "code",
   "execution_count": 82,
   "id": "5f536688",
   "metadata": {},
   "outputs": [
    {
     "data": {
      "text/plain": [
       "[10, 9, 8, 7, 6, 5]"
      ]
     },
     "execution_count": 82,
     "metadata": {},
     "output_type": "execute_result"
    }
   ],
   "source": [
    "list(range(10,4,-1))  #we are going in reverse direction so we need to use negative step size"
   ]
  },
  {
   "cell_type": "code",
   "execution_count": 84,
   "id": "e6961e72",
   "metadata": {},
   "outputs": [
    {
     "ename": "TypeError",
     "evalue": "'float' object cannot be interpreted as an integer",
     "output_type": "error",
     "traceback": [
      "\u001b[1;31m---------------------------------------------------------------------------\u001b[0m",
      "\u001b[1;31mTypeError\u001b[0m                                 Traceback (most recent call last)",
      "\u001b[1;32m<ipython-input-84-a08b57f958ed>\u001b[0m in \u001b[0;36m<module>\u001b[1;34m\u001b[0m\n\u001b[1;32m----> 1\u001b[1;33m \u001b[0mlist\u001b[0m\u001b[1;33m(\u001b[0m\u001b[0mrange\u001b[0m\u001b[1;33m(\u001b[0m\u001b[1;36m3.5\u001b[0m\u001b[1;33m,\u001b[0m\u001b[1;36m11\u001b[0m\u001b[1;33m)\u001b[0m\u001b[1;33m)\u001b[0m\u001b[1;33m\u001b[0m\u001b[1;33m\u001b[0m\u001b[0m\n\u001b[0m",
      "\u001b[1;31mTypeError\u001b[0m: 'float' object cannot be interpreted as an integer"
     ]
    }
   ],
   "source": [
    "list(range(3.5,11))"
   ]
  },
  {
   "cell_type": "code",
   "execution_count": 85,
   "id": "8bf0d385",
   "metadata": {},
   "outputs": [],
   "source": [
    "#range function is not able to take floating point, we need to use numpy's arange function to get a list which include floating points"
   ]
  },
  {
   "cell_type": "code",
   "execution_count": 100,
   "id": "898b4e1f",
   "metadata": {},
   "outputs": [
    {
     "data": {
      "text/plain": [
       "[0, 1, 2, 3, 4, 5, 6, 7, 8, 9]"
      ]
     },
     "execution_count": 100,
     "metadata": {},
     "output_type": "execute_result"
    }
   ],
   "source": [
    " l =list(range(10))\n",
    "l\n"
   ]
  },
  {
   "cell_type": "code",
   "execution_count": 101,
   "id": "1e8a1653",
   "metadata": {},
   "outputs": [
    {
     "name": "stdout",
     "output_type": "stream",
     "text": [
      "0\n",
      "1\n",
      "2\n",
      "3\n",
      "4\n",
      "5\n",
      "6\n",
      "7\n",
      "8\n",
      "9\n"
     ]
    }
   ],
   "source": [
    "for i in l:\n",
    "    print(i)"
   ]
  },
  {
   "cell_type": "code",
   "execution_count": 106,
   "id": "b4a3633b",
   "metadata": {},
   "outputs": [
    {
     "name": "stdout",
     "output_type": "stream",
     "text": [
      "2\n",
      "3\n",
      "4\n",
      "5\n",
      "6\n",
      "7\n",
      "8\n",
      "9\n",
      "10\n",
      "11\n"
     ]
    }
   ],
   "source": [
    "for i in l:\n",
    "    print(i+2)"
   ]
  },
  {
   "cell_type": "code",
   "execution_count": 110,
   "id": "07eef7f0",
   "metadata": {},
   "outputs": [],
   "source": [
    "# but i need that manipulated new data as a list , so we will use append function\n",
    "l = [1,2,3,4,5,6,7,8,9]\n",
    "m=[]\n",
    "for i in l:\n",
    "    m.append(i+2)"
   ]
  },
  {
   "cell_type": "code",
   "execution_count": 111,
   "id": "18baa4fb",
   "metadata": {},
   "outputs": [
    {
     "name": "stdout",
     "output_type": "stream",
     "text": [
      "[3, 4, 5, 6, 7, 8, 9, 10, 11]\n"
     ]
    }
   ],
   "source": [
    "print(m)    #i got a new list with manipulated data"
   ]
  },
  {
   "cell_type": "code",
   "execution_count": 39,
   "id": "aa7b27d5",
   "metadata": {},
   "outputs": [
    {
     "name": "stdout",
     "output_type": "stream",
     "text": [
      "0\n",
      "3\n",
      "5\n",
      "3\n",
      "2\n",
      "6\n",
      "7\n",
      "4\n",
      "7\n",
      "4\n"
     ]
    }
   ],
   "source": [
    "ll = [0,3,5,3,2,6,7,4,7,4]  #extacting data from list by using range function in for loop\n",
    "for i in range(len(ll)):\n",
    "    print(ll[i])"
   ]
  },
  {
   "cell_type": "code",
   "execution_count": 11,
   "id": "10b6a834",
   "metadata": {},
   "outputs": [],
   "source": [
    "# manipulating list in range function\n",
    "ll = [0,3,5,3,2,6,7,4,7,4]\n",
    "new_l = []\n",
    "for i in range(len(ll)):\n",
    "    new_l.append(ll[i]+2)"
   ]
  },
  {
   "cell_type": "code",
   "execution_count": 12,
   "id": "1563310f",
   "metadata": {},
   "outputs": [
    {
     "name": "stdout",
     "output_type": "stream",
     "text": [
      "[2, 5, 7, 5, 4, 8, 9, 6, 9, 6]\n"
     ]
    }
   ],
   "source": [
    "print(new_l)"
   ]
  },
  {
   "cell_type": "code",
   "execution_count": 31,
   "id": "f5ff7c77",
   "metadata": {},
   "outputs": [
    {
     "name": "stdout",
     "output_type": "stream",
     "text": [
      "none of the above are correct\n"
     ]
    }
   ],
   "source": [
    "s = 10\n",
    "if s > 10:\n",
    "    print('no it is not greater than 10')\n",
    "elif s==50:\n",
    "    print('yes it is less than 50')\n",
    "else:\n",
    "    print('none of the above are correct')"
   ]
  },
  {
   "cell_type": "code",
   "execution_count": 32,
   "id": "efac09a0",
   "metadata": {},
   "outputs": [
    {
     "name": "stdout",
     "output_type": "stream",
     "text": [
      "raj\n",
      "sahu\n"
     ]
    }
   ],
   "source": [
    "ll = [1,2,3,4,6,7,8,4,34,'raj','sahu']\n",
    "nl = []\n",
    "for i in ll:\n",
    "    if type(i)==str:\n",
    "        print(i)"
   ]
  },
  {
   "cell_type": "code",
   "execution_count": 33,
   "id": "2bc8874d",
   "metadata": {},
   "outputs": [],
   "source": [
    "ll = [1,2,3,4,6,7,8,4,34,'raj','sahu']\n",
    "nl = []\n",
    "for i in ll:\n",
    "    if type(i)==str:\n",
    "        nl.append(i)"
   ]
  },
  {
   "cell_type": "code",
   "execution_count": 34,
   "id": "11051b19",
   "metadata": {},
   "outputs": [
    {
     "data": {
      "text/plain": [
       "['raj', 'sahu']"
      ]
     },
     "execution_count": 34,
     "metadata": {},
     "output_type": "execute_result"
    }
   ],
   "source": [
    "nl"
   ]
  },
  {
   "cell_type": "code",
   "execution_count": 36,
   "id": "665380b0",
   "metadata": {},
   "outputs": [
    {
     "name": "stdout",
     "output_type": "stream",
     "text": [
      "yes it is greater than 5\n",
      "it is an integer value\n"
     ]
    }
   ],
   "source": [
    "s = 10\n",
    "if s > 5:\n",
    "    print('yes it is greater than 5')\n",
    "    if type(s)==int:\n",
    "        print(\"it is an integer value\")\n",
    "elif s==50:\n",
    "    print('yes it is less than 50')\n",
    "else:\n",
    "    print('none of the above are correct')"
   ]
  },
  {
   "cell_type": "code",
   "execution_count": 41,
   "id": "b8b79bfe",
   "metadata": {},
   "outputs": [
    {
     "name": "stdout",
     "output_type": "stream",
     "text": [
      "1\n",
      "2\n",
      "3\n",
      "4\n",
      "4\n",
      "5\n",
      "6\n",
      "4\n",
      "nothing has left in my collection\n"
     ]
    }
   ],
   "source": [
    "l = [1,2,3,4,4,5,6,4]\n",
    "for i in l:\n",
    "    print(i)\n",
    "else:\n",
    "    print('nothing has left in my collection')"
   ]
  },
  {
   "cell_type": "code",
   "execution_count": 3,
   "id": "163136e0",
   "metadata": {},
   "outputs": [
    {
     "name": "stdout",
     "output_type": "stream",
     "text": [
      "0\n",
      "1\n",
      "3\n",
      "6\n",
      "10\n",
      "15\n",
      "21\n",
      "28\n",
      "36\n",
      "45\n",
      "55\n"
     ]
    }
   ],
   "source": [
    "i = 0\n",
    "s = 0\n",
    "while i <=10:\n",
    "    s = s+i\n",
    "    print(s)\n",
    "    i = i+1"
   ]
  },
  {
   "cell_type": "code",
   "execution_count": 4,
   "id": "abe19c46",
   "metadata": {},
   "outputs": [
    {
     "name": "stdout",
     "output_type": "stream",
     "text": [
      "55\n"
     ]
    }
   ],
   "source": [
    "i = 0\n",
    "s = 0 \n",
    "while i <=10:\n",
    "    s = s+i\n",
    "    i = i+1\n",
    "print(s)"
   ]
  },
  {
   "cell_type": "code",
   "execution_count": 8,
   "id": "014b1258",
   "metadata": {},
   "outputs": [
    {
     "name": "stdout",
     "output_type": "stream",
     "text": [
      "0 0\n",
      "1 1\n",
      "2 3\n",
      "3 6\n",
      "4 10\n",
      "5 15\n",
      "6 21\n",
      "7 28\n",
      "8 36\n",
      "9 45\n",
      "10 55\n",
      "55\n"
     ]
    }
   ],
   "source": [
    "i = 0\n",
    "s = 0 \n",
    "while i <=10:\n",
    "    s = s+i\n",
    "    print(i,s)          # it will show in every step how it is adding\n",
    "    i = i+1\n",
    "print(s) #also final print again printed\n"
   ]
  },
  {
   "cell_type": "code",
   "execution_count": 13,
   "id": "8808fb92",
   "metadata": {},
   "outputs": [
    {
     "name": "stdout",
     "output_type": "stream",
     "text": [
      "h\n",
      "i\n",
      "m\n",
      "a\n",
      "n\n",
      "s\n",
      "h\n",
      "u\n"
     ]
    }
   ],
   "source": [
    "var = \"himanshu\"\n",
    "for x in var:\n",
    "    print(x)"
   ]
  },
  {
   "cell_type": "code",
   "execution_count": 16,
   "id": "f4e4716a",
   "metadata": {},
   "outputs": [
    {
     "name": "stdout",
     "output_type": "stream",
     "text": [
      "['H', 'i', 'm', 'a', 'n', 's', 'h', 'u']\n"
     ]
    }
   ],
   "source": [
    "var = \"Himanshu\"\n",
    "m = []\n",
    "for x in var:\n",
    "    m.append(x)\n",
    "print(m)"
   ]
  },
  {
   "cell_type": "code",
   "execution_count": null,
   "id": "084f3bcc",
   "metadata": {},
   "outputs": [],
   "source": []
  },
  {
   "cell_type": "code",
   "execution_count": 33,
   "id": "1b3423b7",
   "metadata": {},
   "outputs": [
    {
     "name": "stdout",
     "output_type": "stream",
     "text": [
      "h\n",
      "i\n",
      "m\n",
      "a\n",
      "out of loop\n"
     ]
    }
   ],
   "source": [
    "var = \"himanshu\"\n",
    "for x in var:\n",
    "    if x == \"n\":\n",
    "        break\n",
    "    print(x)\n",
    "print('out of loop')\n",
    "    "
   ]
  },
  {
   "cell_type": "code",
   "execution_count": 46,
   "id": "990b2f33",
   "metadata": {},
   "outputs": [
    {
     "name": "stdout",
     "output_type": "stream",
     "text": [
      "h\n",
      "i\n",
      "m\n",
      "a\n",
      "out of loop\n"
     ]
    }
   ],
   "source": [
    "var = \"himanshu\"\n",
    "for x in var:\n",
    "    if x =='n':\n",
    "        break\n",
    "    print(x)\n",
    "else:\n",
    "    print(\"i am able to extract the full data\")\n",
    "    \n",
    "print('out of loop')\n",
    "    "
   ]
  },
  {
   "cell_type": "code",
   "execution_count": 47,
   "id": "484368aa",
   "metadata": {},
   "outputs": [
    {
     "name": "stdout",
     "output_type": "stream",
     "text": [
      "h\n",
      "i\n",
      "m\n",
      "a\n",
      "n\n",
      "s\n",
      "h\n",
      "u\n",
      "i am able to extract the full data\n",
      "out of loop\n"
     ]
    }
   ],
   "source": [
    "var = \"himanshu\"\n",
    "for x in var:\n",
    "    if x =='z':\n",
    "        break\n",
    "    print(x)\n",
    "else:\n",
    "    print(\"i am able to extract the full data\")\n",
    "    \n",
    "print('out of loop')"
   ]
  },
  {
   "cell_type": "code",
   "execution_count": 48,
   "id": "ab95d940",
   "metadata": {},
   "outputs": [
    {
     "name": "stdout",
     "output_type": "stream",
     "text": [
      "h\n",
      "i\n",
      "m\n",
      "a\n",
      "s\n",
      "h\n",
      "u\n",
      "out of loop\n"
     ]
    }
   ],
   "source": [
    "# continue statement\n",
    "var = \"himanshu\"\n",
    "for x in var:\n",
    "    if x == \"n\":\n",
    "        continue\n",
    "    print(x)\n",
    "print(\"out of loop\")"
   ]
  },
  {
   "cell_type": "code",
   "execution_count": 61,
   "id": "bc79853d",
   "metadata": {},
   "outputs": [
    {
     "name": "stdout",
     "output_type": "stream",
     "text": [
      "enter any value3\n",
      "[3, 3, 3]\n"
     ]
    }
   ],
   "source": [
    "# input functions always takes data in string formate only \n",
    "a = int(input('enter any value'))\n",
    "l = [1,2,3,4,5,5,6,7,8,6,5,3,6,7,8,4.8,9,9,3]\n",
    "new_list = []\n",
    "for i in l:\n",
    "    if i == a:\n",
    "        new_list.append(i)\n",
    "print(new_list)"
   ]
  },
  {
   "cell_type": "code",
   "execution_count": 5,
   "id": "b27c7025",
   "metadata": {},
   "outputs": [
    {
     "name": "stdout",
     "output_type": "stream",
     "text": [
      "enter any integer value3\n",
      "inserted integer\n",
      "[3, 3, 3]\n"
     ]
    }
   ],
   "source": [
    "a = int(input('enter any integer value'))\n",
    "if type(a) == int:\n",
    "    print(\"inserted integer\")\n",
    "l = [1,2,3,4,5,5,6,7,8,6,5,3,6,7,8,4.8,9,9,3]\n",
    "new_list = []\n",
    "for i in l:\n",
    "    if i == a:\n",
    "        new_list.append(i)\n",
    "print(new_list)"
   ]
  },
  {
   "cell_type": "code",
   "execution_count": 6,
   "id": "0defcb57",
   "metadata": {},
   "outputs": [
    {
     "data": {
      "text/plain": [
       "[1, 2, 3, 4, 5, 'raj']"
      ]
     },
     "execution_count": 6,
     "metadata": {},
     "output_type": "execute_result"
    }
   ],
   "source": [
    "#  + operator only perform in similar data type\n",
    "[1,2,3,4,5]+['raj']"
   ]
  },
  {
   "cell_type": "code",
   "execution_count": 7,
   "id": "1ad28f02",
   "metadata": {},
   "outputs": [
    {
     "data": {
      "text/plain": [
       "[1, 2, 3, 4, 5, 'raj']"
      ]
     },
     "execution_count": 7,
     "metadata": {},
     "output_type": "execute_result"
    }
   ],
   "source": [
    "# conncetination only apply with same data type\n",
    "[1,2,3,4,5]+['raj']"
   ]
  },
  {
   "cell_type": "code",
   "execution_count": 8,
   "id": "04a5a587",
   "metadata": {},
   "outputs": [
    {
     "data": {
      "text/plain": [
       "[1, 2, 3, 4, 5, 1, 2, 3, 4, 5, 1, 2, 3, 4, 5]"
      ]
     },
     "execution_count": 8,
     "metadata": {},
     "output_type": "execute_result"
    }
   ],
   "source": [
    "# multiplication in list \n",
    "[1,2,3,4,5]*3"
   ]
  },
  {
   "cell_type": "code",
   "execution_count": 9,
   "id": "7a128260",
   "metadata": {},
   "outputs": [
    {
     "data": {
      "text/plain": [
       "'HIMANSHU'"
      ]
     },
     "execution_count": 9,
     "metadata": {},
     "output_type": "execute_result"
    }
   ],
   "source": [
    "H = \"Himanshu\"\n",
    "H.upper()"
   ]
  },
  {
   "cell_type": "code",
   "execution_count": 10,
   "id": "cfca2a2e",
   "metadata": {},
   "outputs": [
    {
     "data": {
      "text/plain": [
       "'himanshu'"
      ]
     },
     "execution_count": 10,
     "metadata": {},
     "output_type": "execute_result"
    }
   ],
   "source": [
    "H.lower()"
   ]
  },
  {
   "cell_type": "code",
   "execution_count": 22,
   "id": "10417a0e",
   "metadata": {},
   "outputs": [
    {
     "data": {
      "text/plain": [
       "['my', 'name', 'is', 'himanshu', 'sahu']"
      ]
     },
     "execution_count": 22,
     "metadata": {},
     "output_type": "execute_result"
    }
   ],
   "source": [
    "h = \"my name is himanshu sahu\"\n",
    "h.split()                           #in final data it won't contain delimiter value \n"
   ]
  },
  {
   "cell_type": "code",
   "execution_count": 26,
   "id": "c8df2ca3",
   "metadata": {},
   "outputs": [
    {
     "name": "stdout",
     "output_type": "stream",
     "text": [
      "['my', 'name', 'is', 'himanshu', 'sahu']\n"
     ]
    },
    {
     "data": {
      "text/plain": [
       "list"
      ]
     },
     "execution_count": 26,
     "metadata": {},
     "output_type": "execute_result"
    }
   ],
   "source": [
    "h = \"my name is himanshu sahu\"\n",
    "a = h.split()\n",
    "print(a)\n",
    "type(a)"
   ]
  },
  {
   "cell_type": "code",
   "execution_count": 27,
   "id": "1170ed7b",
   "metadata": {},
   "outputs": [
    {
     "data": {
      "text/plain": [
       "'is'"
      ]
     },
     "execution_count": 27,
     "metadata": {},
     "output_type": "execute_result"
    }
   ],
   "source": [
    "a[2]"
   ]
  },
  {
   "cell_type": "code",
   "execution_count": 33,
   "id": "98ef7d3c",
   "metadata": {},
   "outputs": [
    {
     "data": {
      "text/plain": [
       "['my@name@is@himanshu@sahu']"
      ]
     },
     "execution_count": 33,
     "metadata": {},
     "output_type": "execute_result"
    }
   ],
   "source": [
    "# split function takes white space as seperator, so here it will make list but it isn't able to seperate it because no space\n",
    "# delimiter = whitespace\n",
    "\n",
    "h = \"my@name@is@himanshu@sahu\"\n",
    "h.split()"
   ]
  },
  {
   "cell_type": "code",
   "execution_count": 34,
   "id": "2cf32f30",
   "metadata": {},
   "outputs": [
    {
     "data": {
      "text/plain": [
       "['my', 'name', 'is', 'Himanshu', 'sahu']"
      ]
     },
     "execution_count": 34,
     "metadata": {},
     "output_type": "execute_result"
    }
   ],
   "source": [
    "h = \"my@name@is@Himanshu@sahu\"\n",
    "h.split('@')"
   ]
  },
  {
   "cell_type": "code",
   "execution_count": 35,
   "id": "ff2c5f51",
   "metadata": {},
   "outputs": [
    {
     "data": {
      "text/plain": [
       "['my', 'name@is@Himanshu@sahu']"
      ]
     },
     "execution_count": 35,
     "metadata": {},
     "output_type": "execute_result"
    }
   ],
   "source": [
    "h = \"my#name@is@Himanshu@sahu\"\n",
    "h.split('#') # we can only use one delimiter at a time"
   ]
  },
  {
   "cell_type": "markdown",
   "id": "e15d9327",
   "metadata": {},
   "source": [
    "# split and partition difference"
   ]
  },
  {
   "cell_type": "code",
   "execution_count": 38,
   "id": "c95259c4",
   "metadata": {},
   "outputs": [
    {
     "data": {
      "text/plain": [
       "['sdlasd', 'dfmds']"
      ]
     },
     "execution_count": 38,
     "metadata": {},
     "output_type": "execute_result"
    }
   ],
   "source": [
    "a = \"sdlasdEFdfmds\"\n",
    "a.split(\"EF\")\n"
   ]
  },
  {
   "cell_type": "code",
   "execution_count": 40,
   "id": "f949d012",
   "metadata": {},
   "outputs": [
    {
     "data": {
      "text/plain": [
       "['sdlasdEFdfmds']"
      ]
     },
     "execution_count": 40,
     "metadata": {},
     "output_type": "execute_result"
    }
   ],
   "source": [
    "a = \"sdlasdEFdfmds\"\n",
    "a.split()                   #it takes sep = none/whitespace by default"
   ]
  },
  {
   "cell_type": "code",
   "execution_count": 39,
   "id": "0a283382",
   "metadata": {},
   "outputs": [
    {
     "ename": "TypeError",
     "evalue": "partition() takes exactly one argument (0 given)",
     "output_type": "error",
     "traceback": [
      "\u001b[1;31m---------------------------------------------------------------------------\u001b[0m",
      "\u001b[1;31mTypeError\u001b[0m                                 Traceback (most recent call last)",
      "\u001b[1;32m<ipython-input-39-d247367f0db4>\u001b[0m in \u001b[0;36m<module>\u001b[1;34m\u001b[0m\n\u001b[0;32m      1\u001b[0m \u001b[0ma\u001b[0m \u001b[1;33m=\u001b[0m \u001b[1;34m\"sdlasdEFdfmds\"\u001b[0m\u001b[1;33m\u001b[0m\u001b[1;33m\u001b[0m\u001b[0m\n\u001b[1;32m----> 2\u001b[1;33m \u001b[0ma\u001b[0m\u001b[1;33m.\u001b[0m\u001b[0mpartition\u001b[0m\u001b[1;33m(\u001b[0m\u001b[1;33m)\u001b[0m\u001b[1;33m\u001b[0m\u001b[1;33m\u001b[0m\u001b[0m\n\u001b[0m",
      "\u001b[1;31mTypeError\u001b[0m: partition() takes exactly one argument (0 given)"
     ]
    }
   ],
   "source": [
    "a = \"sdlasdEFdfmds\"\n",
    "a.partition()               #it needs some sep value otherwise error,cant keep it blank"
   ]
  },
  {
   "cell_type": "code",
   "execution_count": 41,
   "id": "733c5ef8",
   "metadata": {},
   "outputs": [
    {
     "data": {
      "text/plain": [
       "('sdlasd', 'EF', 'dfmds')"
      ]
     },
     "execution_count": 41,
     "metadata": {},
     "output_type": "execute_result"
    }
   ],
   "source": [
    "a = \"sdlasdEFdfmds\"\n",
    "a.partition(\"EF\")           #in final data it will contain delimiter also"
   ]
  },
  {
   "cell_type": "code",
   "execution_count": 42,
   "id": "973dba11",
   "metadata": {},
   "outputs": [],
   "source": [
    "# partition only consider for first encountered delimiter and split consider for every delimiter that it encounters"
   ]
  },
  {
   "cell_type": "code",
   "execution_count": 43,
   "id": "4d3a187d",
   "metadata": {},
   "outputs": [
    {
     "data": {
      "text/plain": [
       "['sdlasd', 'dD', 'mds']"
      ]
     },
     "execution_count": 43,
     "metadata": {},
     "output_type": "execute_result"
    }
   ],
   "source": [
    "a = \"sdlasdEFdDEFmds\"\n",
    "a.split('EF')"
   ]
  },
  {
   "cell_type": "code",
   "execution_count": 44,
   "id": "8613c440",
   "metadata": {},
   "outputs": [
    {
     "data": {
      "text/plain": [
       "('sdlasd', 'EF', 'dDEFmds')"
      ]
     },
     "execution_count": 44,
     "metadata": {},
     "output_type": "execute_result"
    }
   ],
   "source": [
    "a.partition(\"EF\")"
   ]
  },
  {
   "cell_type": "code",
   "execution_count": 46,
   "id": "23c16b72",
   "metadata": {},
   "outputs": [
    {
     "data": {
      "text/plain": [
       "9"
      ]
     },
     "execution_count": 46,
     "metadata": {},
     "output_type": "execute_result"
    }
   ],
   "source": [
    "d = \"drilling fluid is used to lubricate the bit,fluid circulate the cuttings,fluid supports to keep wellbore stable by hydro press\"\n",
    "d.find('fluid')"
   ]
  },
  {
   "cell_type": "code",
   "execution_count": 47,
   "id": "c953fe4c",
   "metadata": {},
   "outputs": [
    {
     "data": {
      "text/plain": [
       "44"
      ]
     },
     "execution_count": 47,
     "metadata": {},
     "output_type": "execute_result"
    }
   ],
   "source": [
    "d.find('fluid',10)"
   ]
  },
  {
   "cell_type": "code",
   "execution_count": 52,
   "id": "09e15428",
   "metadata": {},
   "outputs": [
    {
     "data": {
      "text/plain": [
       "'$$$RAJ$$$$'"
      ]
     },
     "execution_count": 52,
     "metadata": {},
     "output_type": "execute_result"
    }
   ],
   "source": [
    "f = \"RAJ\"\n",
    "f.center(10,\"$\")      #syntax .centre(width,fillcharacter)   fill"
   ]
  },
  {
   "cell_type": "code",
   "execution_count": 53,
   "id": "f9cf8624",
   "metadata": {},
   "outputs": [
    {
     "name": "stdout",
     "output_type": "stream",
     "text": [
      "my name?Himanshu sahu\n",
      "my name is Himanshu sahu\n"
     ]
    }
   ],
   "source": [
    "e = input(\"my name?\")\n",
    "print(\"my name is {}\".format(e))"
   ]
  },
  {
   "cell_type": "code",
   "execution_count": 56,
   "id": "0909d0d6",
   "metadata": {},
   "outputs": [
    {
     "name": "stdout",
     "output_type": "stream",
     "text": [
      "my nameRaj\n",
      "My name is Raj\n"
     ]
    }
   ],
   "source": [
    "name = input(\"my name\")\n",
    "print(f\"My name is {name}\") "
   ]
  },
  {
   "cell_type": "code",
   "execution_count": 60,
   "id": "ff091f2d",
   "metadata": {},
   "outputs": [
    {
     "name": "stdout",
     "output_type": "stream",
     "text": [
      "enter your first nameRAJ\n",
      "enter your last nameSAHU\n",
      "my name is RAJ SAHU\n"
     ]
    }
   ],
   "source": [
    "x = input(\"enter your first name\")\n",
    "y = input(\"enter your last name\")\n",
    "print(\"my name is {} {}\".format(x,y))"
   ]
  },
  {
   "cell_type": "code",
   "execution_count": 66,
   "id": "de4e93d3",
   "metadata": {},
   "outputs": [
    {
     "data": {
      "text/plain": [
       "True"
      ]
     },
     "execution_count": 66,
     "metadata": {},
     "output_type": "execute_result"
    }
   ],
   "source": [
    "# function start with is = try to check that data falls under that category or not if yes then true otherwise false\n",
    "# always returns booleans value\n",
    "S = \"rajsahu\"\n",
    "s.isalnum()"
   ]
  },
  {
   "cell_type": "code",
   "execution_count": 67,
   "id": "a2c5442c",
   "metadata": {},
   "outputs": [
    {
     "data": {
      "text/plain": [
       "True"
      ]
     },
     "execution_count": 67,
     "metadata": {},
     "output_type": "execute_result"
    }
   ],
   "source": [
    "s = \"4343\"\n",
    "s.isalnum()"
   ]
  },
  {
   "cell_type": "code",
   "execution_count": 72,
   "id": "fed71199",
   "metadata": {},
   "outputs": [
    {
     "data": {
      "text/plain": [
       "True"
      ]
     },
     "execution_count": 72,
     "metadata": {},
     "output_type": "execute_result"
    }
   ],
   "source": [
    "S_ = \"rajsahu123\"\n",
    "s.isalnum()"
   ]
  },
  {
   "cell_type": "code",
   "execution_count": 70,
   "id": "ba33fa3e",
   "metadata": {},
   "outputs": [
    {
     "data": {
      "text/plain": [
       "False"
      ]
     },
     "execution_count": 70,
     "metadata": {},
     "output_type": "execute_result"
    }
   ],
   "source": [
    "S_.isalpha()"
   ]
  },
  {
   "cell_type": "code",
   "execution_count": 74,
   "id": "8e195f53",
   "metadata": {},
   "outputs": [
    {
     "data": {
      "text/plain": [
       "True"
      ]
     },
     "execution_count": 74,
     "metadata": {},
     "output_type": "execute_result"
    }
   ],
   "source": [
    "S_.islower()"
   ]
  },
  {
   "cell_type": "code",
   "execution_count": 75,
   "id": "35fdc73e",
   "metadata": {},
   "outputs": [
    {
     "data": {
      "text/plain": [
       "False"
      ]
     },
     "execution_count": 75,
     "metadata": {},
     "output_type": "execute_result"
    }
   ],
   "source": [
    "f = \"FCGFCGkm\"\n",
    "f.isupper()"
   ]
  },
  {
   "cell_type": "code",
   "execution_count": 77,
   "id": "e20fe932",
   "metadata": {},
   "outputs": [
    {
     "data": {
      "text/plain": [
       "True"
      ]
     },
     "execution_count": 77,
     "metadata": {},
     "output_type": "execute_result"
    }
   ],
   "source": [
    "F = \"FCGFCG\"\n",
    "F.isupper()"
   ]
  },
  {
   "cell_type": "code",
   "execution_count": 78,
   "id": "534d5172",
   "metadata": {},
   "outputs": [
    {
     "data": {
      "text/plain": [
       "False"
      ]
     },
     "execution_count": 78,
     "metadata": {},
     "output_type": "execute_result"
    }
   ],
   "source": [
    "F = \"FCGFCG\"\n",
    "F.istitle()"
   ]
  },
  {
   "cell_type": "code",
   "execution_count": 80,
   "id": "9e898993",
   "metadata": {},
   "outputs": [
    {
     "data": {
      "text/plain": [
       "False"
      ]
     },
     "execution_count": 80,
     "metadata": {},
     "output_type": "execute_result"
    }
   ],
   "source": [
    "F.endswith(\"g\")\n"
   ]
  },
  {
   "cell_type": "code",
   "execution_count": 81,
   "id": "498d8088",
   "metadata": {},
   "outputs": [
    {
     "data": {
      "text/plain": [
       "True"
      ]
     },
     "execution_count": 81,
     "metadata": {},
     "output_type": "execute_result"
    }
   ],
   "source": [
    "F.endswith(\"G\")"
   ]
  },
  {
   "cell_type": "code",
   "execution_count": 85,
   "id": "a8e4e543",
   "metadata": {},
   "outputs": [
    {
     "name": "stdout",
     "output_type": "stream",
     "text": [
      "1\n",
      "2\n",
      "3\n",
      "5\n",
      "33\n",
      "45.4\n",
      "RAJ\n",
      "SAHU\n",
      "[4, 3, 2]\n"
     ]
    }
   ],
   "source": [
    "A = [1,2,3,5,33,45.4,\"RAJ\",'SAHU', [4,3,2]]\n",
    "B = [1,5,6,'HLS',\"JOHN\"]\n",
    "for i in A:\n",
    "    print(i)"
   ]
  },
  {
   "cell_type": "code",
   "execution_count": 5,
   "id": "f70dc15f",
   "metadata": {},
   "outputs": [
    {
     "data": {
      "text/plain": [
       "[1, 2, 3, 5, 33, 45.4, 'RAJ', 'SAHU', [4, 3, 2]]"
      ]
     },
     "execution_count": 5,
     "metadata": {},
     "output_type": "execute_result"
    }
   ],
   "source": [
    "A = [1,2,3,5,33,45.4,\"RAJ\",'SAHU', [4,3,2]]\n",
    "B = [1,5,6,'HLS',\"JOHN\"]\n",
    "m = []\n",
    "for i in A:\n",
    "    m.append(i)\n",
    "m"
   ]
  },
  {
   "cell_type": "code",
   "execution_count": 88,
   "id": "49785a2e",
   "metadata": {},
   "outputs": [
    {
     "name": "stdout",
     "output_type": "stream",
     "text": [
      "[1, 2, 3, 5, 33, 45.4, 'RAJ', 'SAHU', [4, 3, 2], 1, 5, 6, 'HLS', 'JOHN']\n"
     ]
    }
   ],
   "source": [
    "print(A+B)"
   ]
  },
  {
   "cell_type": "code",
   "execution_count": 89,
   "id": "58ecb388",
   "metadata": {},
   "outputs": [
    {
     "ename": "TypeError",
     "evalue": "can only concatenate list (not \"str\") to list",
     "output_type": "error",
     "traceback": [
      "\u001b[1;31m---------------------------------------------------------------------------\u001b[0m",
      "\u001b[1;31mTypeError\u001b[0m                                 Traceback (most recent call last)",
      "\u001b[1;32m<ipython-input-89-ce3d44286b56>\u001b[0m in \u001b[0;36m<module>\u001b[1;34m\u001b[0m\n\u001b[1;32m----> 1\u001b[1;33m \u001b[0mB\u001b[0m \u001b[1;33m+\u001b[0m \u001b[1;34m\"himanshu\"\u001b[0m\u001b[1;33m\u001b[0m\u001b[1;33m\u001b[0m\u001b[0m\n\u001b[0m",
      "\u001b[1;31mTypeError\u001b[0m: can only concatenate list (not \"str\") to list"
     ]
    }
   ],
   "source": [
    "B + \"himanshu\""
   ]
  },
  {
   "cell_type": "markdown",
   "id": "4fdb5505",
   "metadata": {},
   "source": [
    "# difference b/w [] and list() formates"
   ]
  },
  {
   "cell_type": "code",
   "execution_count": 91,
   "id": "cc31bb8a",
   "metadata": {},
   "outputs": [
    {
     "data": {
      "text/plain": [
       "[1, 5, 6, 'HLS', 'JOHN', 'Himanshu']"
      ]
     },
     "execution_count": 91,
     "metadata": {},
     "output_type": "execute_result"
    }
   ],
   "source": [
    "B + [\"Himanshu\"]"
   ]
  },
  {
   "cell_type": "code",
   "execution_count": 92,
   "id": "88662c42",
   "metadata": {},
   "outputs": [
    {
     "data": {
      "text/plain": [
       "[1, 5, 6, 'HLS', 'JOHN', 'H', 'i', 'm', 'a', 'n', 's', 'h', 'u']"
      ]
     },
     "execution_count": 92,
     "metadata": {},
     "output_type": "execute_result"
    }
   ],
   "source": [
    "B + list(\"Himanshu\")"
   ]
  },
  {
   "cell_type": "code",
   "execution_count": 2,
   "id": "dde6f8af",
   "metadata": {},
   "outputs": [
    {
     "data": {
      "text/plain": [
       "[3]"
      ]
     },
     "execution_count": 2,
     "metadata": {},
     "output_type": "execute_result"
    }
   ],
   "source": [
    "list([3])  #int is not iterable "
   ]
  },
  {
   "cell_type": "code",
   "execution_count": 2,
   "id": "1dab5851",
   "metadata": {},
   "outputs": [
    {
     "data": {
      "text/plain": [
       "[1, 3, 5, 33, 5.5, 'TAX', 'RAJ']"
      ]
     },
     "execution_count": 2,
     "metadata": {},
     "output_type": "execute_result"
    }
   ],
   "source": [
    "D = [1,3,5,33,5.5,\"TAX\",'RAJ']\n",
    "D"
   ]
  },
  {
   "cell_type": "code",
   "execution_count": 3,
   "id": "2352ed13",
   "metadata": {},
   "outputs": [],
   "source": [
    "D.append(\"Himanshu\")     #append function will only add any thing at last place in the list"
   ]
  },
  {
   "cell_type": "code",
   "execution_count": 4,
   "id": "b5a7f2aa",
   "metadata": {},
   "outputs": [
    {
     "name": "stdout",
     "output_type": "stream",
     "text": [
      "[1, 3, 5, 33, 5.5, 'TAX', 'RAJ', 'Himanshu']\n"
     ]
    }
   ],
   "source": [
    "print(D)"
   ]
  },
  {
   "cell_type": "code",
   "execution_count": 5,
   "id": "464e81fe",
   "metadata": {},
   "outputs": [],
   "source": [
    "D.insert(4,\"Hello\")     #insert function can add any object at specific defined index\n",
    "                        # and shift that index value to right hand side"
   ]
  },
  {
   "cell_type": "code",
   "execution_count": 6,
   "id": "84d5800b",
   "metadata": {},
   "outputs": [
    {
     "name": "stdout",
     "output_type": "stream",
     "text": [
      "[1, 3, 5, 33, 'Hello', 5.5, 'TAX', 'RAJ', 'Himanshu']\n"
     ]
    }
   ],
   "source": [
    "print(D)"
   ]
  },
  {
   "cell_type": "code",
   "execution_count": 7,
   "id": "c2d4d529",
   "metadata": {},
   "outputs": [],
   "source": [
    "D.insert(-1,\"hello\")\n"
   ]
  },
  {
   "cell_type": "code",
   "execution_count": 8,
   "id": "3c898714",
   "metadata": {},
   "outputs": [
    {
     "name": "stdout",
     "output_type": "stream",
     "text": [
      "[1, 3, 5, 33, 'Hello', 5.5, 'TAX', 'RAJ', 'hello', 'Himanshu']\n"
     ]
    }
   ],
   "source": [
    "print(D)"
   ]
  },
  {
   "cell_type": "code",
   "execution_count": 25,
   "id": "71f2acd9",
   "metadata": {},
   "outputs": [],
   "source": [
    "D = [1,3,5,33,5.5,\"TAX\",'RAJ']"
   ]
  },
  {
   "cell_type": "code",
   "execution_count": 10,
   "id": "a1df87c1",
   "metadata": {},
   "outputs": [
    {
     "data": {
      "text/plain": [
       "7"
      ]
     },
     "execution_count": 10,
     "metadata": {},
     "output_type": "execute_result"
    }
   ],
   "source": [
    "# i can also insert an intire list itself\n",
    "len(D)"
   ]
  },
  {
   "cell_type": "code",
   "execution_count": 26,
   "id": "3585bf81",
   "metadata": {},
   "outputs": [],
   "source": [
    "D.insert(7,[16,25,36])"
   ]
  },
  {
   "cell_type": "code",
   "execution_count": 27,
   "id": "bde11ed4",
   "metadata": {},
   "outputs": [
    {
     "name": "stdout",
     "output_type": "stream",
     "text": [
      "[1, 3, 5, 33, 5.5, 'TAX', 'RAJ', [16, 25, 36]]\n"
     ]
    }
   ],
   "source": [
    "print(D)"
   ]
  },
  {
   "cell_type": "code",
   "execution_count": 28,
   "id": "59768fd0",
   "metadata": {},
   "outputs": [
    {
     "data": {
      "text/plain": [
       "[16, 25, 36]"
      ]
     },
     "execution_count": 28,
     "metadata": {},
     "output_type": "execute_result"
    }
   ],
   "source": [
    "D.pop()     #remove the last data or tail data from the list permanentely"
   ]
  },
  {
   "cell_type": "code",
   "execution_count": 29,
   "id": "88fe1ada",
   "metadata": {},
   "outputs": [
    {
     "name": "stdout",
     "output_type": "stream",
     "text": [
      "[1, 3, 5, 33, 5.5, 'TAX', 'RAJ']\n"
     ]
    }
   ],
   "source": [
    "print(D)"
   ]
  },
  {
   "cell_type": "code",
   "execution_count": 30,
   "id": "9cc5d846",
   "metadata": {},
   "outputs": [
    {
     "data": {
      "text/plain": [
       "5"
      ]
     },
     "execution_count": 30,
     "metadata": {},
     "output_type": "execute_result"
    }
   ],
   "source": [
    "D.pop(2)   #permanently remove the data from second index"
   ]
  },
  {
   "cell_type": "code",
   "execution_count": 39,
   "id": "ddcce8f1",
   "metadata": {},
   "outputs": [
    {
     "data": {
      "text/plain": [
       "['saturation', 'phi', 'kksd', 2, 5, 3]"
      ]
     },
     "execution_count": 39,
     "metadata": {},
     "output_type": "execute_result"
    }
   ],
   "source": [
    "# reversing the list  by    variable_name[::-1]\n",
    "rlist = [3,5,2,'kksd',\"phi\",\"saturation\"]         \n",
    "rlist[::-1]                                    #can not change list permanently"
   ]
  },
  {
   "cell_type": "code",
   "execution_count": 42,
   "id": "549fb201",
   "metadata": {},
   "outputs": [
    {
     "name": "stdout",
     "output_type": "stream",
     "text": [
      "[3, 5, 2, 'kksd', 'phi', 'saturation']\n"
     ]
    }
   ],
   "source": [
    "print(rlist)         #here printed original list"
   ]
  },
  {
   "cell_type": "code",
   "execution_count": 45,
   "id": "2a2ff97e",
   "metadata": {},
   "outputs": [],
   "source": [
    "# reverssing the list by using reverse function\n",
    "rlist.reverse()              #reverse the list permanently"
   ]
  },
  {
   "cell_type": "code",
   "execution_count": 44,
   "id": "842ca054",
   "metadata": {},
   "outputs": [
    {
     "name": "stdout",
     "output_type": "stream",
     "text": [
      "['saturation', 'phi', 'kksd', 2, 5, 3]\n"
     ]
    }
   ],
   "source": [
    "print(rlist)        #here printed the chnaged list"
   ]
  },
  {
   "cell_type": "code",
   "execution_count": 62,
   "id": "c38974d6",
   "metadata": {},
   "outputs": [],
   "source": [
    "# sort function - not supported when different data types are present - int & str or int & list\n",
    "rl = [3,5,2,'kksd',\"phi\",\"saturation\",[1,2,3,4]] \n",
    "r = [2,4,124,43.65,35,13,54,]\n",
    "rn = ['kksd',\"phi\",\"saturation\"]"
   ]
  },
  {
   "cell_type": "code",
   "execution_count": 49,
   "id": "93e4a396",
   "metadata": {},
   "outputs": [
    {
     "ename": "TypeError",
     "evalue": "'<' not supported between instances of 'str' and 'int'",
     "output_type": "error",
     "traceback": [
      "\u001b[1;31m---------------------------------------------------------------------------\u001b[0m",
      "\u001b[1;31mTypeError\u001b[0m                                 Traceback (most recent call last)",
      "\u001b[1;32m<ipython-input-49-bbc6cad4f515>\u001b[0m in \u001b[0;36m<module>\u001b[1;34m\u001b[0m\n\u001b[1;32m----> 1\u001b[1;33m \u001b[0mrl\u001b[0m\u001b[1;33m.\u001b[0m\u001b[0msort\u001b[0m\u001b[1;33m(\u001b[0m\u001b[1;33m)\u001b[0m\u001b[1;33m\u001b[0m\u001b[1;33m\u001b[0m\u001b[0m\n\u001b[0m",
      "\u001b[1;31mTypeError\u001b[0m: '<' not supported between instances of 'str' and 'int'"
     ]
    }
   ],
   "source": [
    "rl.sort()"
   ]
  },
  {
   "cell_type": "code",
   "execution_count": 63,
   "id": "20a0e791",
   "metadata": {},
   "outputs": [
    {
     "data": {
      "text/plain": [
       "[2, 4, 13, 35, 43.65, 54, 124]"
      ]
     },
     "execution_count": 63,
     "metadata": {},
     "output_type": "execute_result"
    }
   ],
   "source": [
    "r.sort()         #by default accending order\n",
    "r"
   ]
  },
  {
   "cell_type": "code",
   "execution_count": 65,
   "id": "246b2e40",
   "metadata": {},
   "outputs": [
    {
     "data": {
      "text/plain": [
       "[124, 54, 43.65, 35, 13, 4, 2]"
      ]
     },
     "execution_count": 65,
     "metadata": {},
     "output_type": "execute_result"
    }
   ],
   "source": [
    "r.sort(reverse=True)        #decending order\n",
    "r"
   ]
  },
  {
   "cell_type": "code",
   "execution_count": 55,
   "id": "4a25957c",
   "metadata": {},
   "outputs": [
    {
     "data": {
      "text/plain": [
       "['kksd', 'phi', 'saturation']"
      ]
     },
     "execution_count": 55,
     "metadata": {},
     "output_type": "execute_result"
    }
   ],
   "source": [
    "rn.sort()\n",
    "rn"
   ]
  },
  {
   "cell_type": "code",
   "execution_count": 144,
   "id": "c37607fc",
   "metadata": {},
   "outputs": [
    {
     "name": "stdout",
     "output_type": "stream",
     "text": [
      "[[1, 2, 3, 4, 5], [1, 2, 3, 4, 5, 6], [1, 2, 3, 4, 5, 6, 7]]\n"
     ]
    }
   ],
   "source": [
    "al = [1,2,3,4,5,]\n",
    "bl = [1,2,3,4,5,6]\n",
    "cl = [1,2,3,4,5,6,7]\n",
    "\n",
    "dl = [al,bl,cl]\n",
    "print(dl)"
   ]
  },
  {
   "cell_type": "code",
   "execution_count": 145,
   "id": "4170aae3",
   "metadata": {},
   "outputs": [
    {
     "data": {
      "text/plain": [
       "3"
      ]
     },
     "execution_count": 145,
     "metadata": {},
     "output_type": "execute_result"
    }
   ],
   "source": [
    "# now i need to acces a data from a particula place like 3rd list ka 3rd data then using indexing\n",
    "dl[2][2]"
   ]
  },
  {
   "cell_type": "code",
   "execution_count": 146,
   "id": "9a8a05d1",
   "metadata": {},
   "outputs": [
    {
     "data": {
      "text/plain": [
       "3"
      ]
     },
     "execution_count": 146,
     "metadata": {},
     "output_type": "execute_result"
    }
   ],
   "source": [
    "# or by using\n",
    "dl[-1][2]"
   ]
  },
  {
   "cell_type": "code",
   "execution_count": 147,
   "id": "de203459",
   "metadata": {},
   "outputs": [
    {
     "data": {
      "text/plain": [
       "[1, 3, 5, 7]"
      ]
     },
     "execution_count": 147,
     "metadata": {},
     "output_type": "execute_result"
    }
   ],
   "source": [
    "# if i want to get only alternate elements\n",
    "dl[-1][::2]"
   ]
  },
  {
   "cell_type": "code",
   "execution_count": 148,
   "id": "dc296811",
   "metadata": {},
   "outputs": [
    {
     "data": {
      "text/plain": [
       "[[1, 2, 3, 4, 5], [1, 2, 3, 4, 5, 6], [1, 2, 3, 4, 5, 6, 7]]"
      ]
     },
     "execution_count": 148,
     "metadata": {},
     "output_type": "execute_result"
    }
   ],
   "source": [
    "# i need to reverse each and every list inside the list \n",
    "dl"
   ]
  },
  {
   "cell_type": "code",
   "execution_count": 149,
   "id": "ef5829d3",
   "metadata": {},
   "outputs": [
    {
     "data": {
      "text/plain": [
       "[[1, 2, 3, 4, 5, 6, 7], [1, 2, 3, 4, 5, 6], [1, 2, 3, 4, 5]]"
      ]
     },
     "execution_count": 149,
     "metadata": {},
     "output_type": "execute_result"
    }
   ],
   "source": [
    "x = dl[::-1]\n",
    "x                      #reverse of first list"
   ]
  },
  {
   "cell_type": "code",
   "execution_count": 150,
   "id": "280d3a81",
   "metadata": {},
   "outputs": [],
   "source": [
    "# now reversing the nested list \n",
    " t = al[::-1]"
   ]
  },
  {
   "cell_type": "code",
   "execution_count": 151,
   "id": "70fd08c2",
   "metadata": {},
   "outputs": [],
   "source": [
    " u = bl[::-1]"
   ]
  },
  {
   "cell_type": "code",
   "execution_count": 152,
   "id": "4552f623",
   "metadata": {},
   "outputs": [],
   "source": [
    "v = cl[::-1]"
   ]
  },
  {
   "cell_type": "code",
   "execution_count": 153,
   "id": "adbc264a",
   "metadata": {},
   "outputs": [],
   "source": [
    "w =[v,u,t]"
   ]
  },
  {
   "cell_type": "code",
   "execution_count": 172,
   "id": "b863498b",
   "metadata": {},
   "outputs": [
    {
     "name": "stdout",
     "output_type": "stream",
     "text": [
      "[[7, 6, 5, 4, 3, 2, 1], [6, 5, 4, 3, 2, 1], [5, 4, 3, 2, 1]]\n"
     ]
    }
   ],
   "source": [
    "print(w)"
   ]
  },
  {
   "cell_type": "code",
   "execution_count": 173,
   "id": "f4250552",
   "metadata": {},
   "outputs": [
    {
     "name": "stdout",
     "output_type": "stream",
     "text": [
      "[[5, 4, 3, 2, 1], [6, 5, 4, 3, 2, 1], [7, 6, 5, 4, 3, 2, 1]]\n"
     ]
    }
   ],
   "source": [
    "# above mentioned method is long method \n",
    "m =[]\n",
    "dc = dl[::-1]\n",
    "for i in dc:\n",
    "    m.append(i[::-1])\n",
    "print(m)"
   ]
  },
  {
   "cell_type": "code",
   "execution_count": 177,
   "id": "12206905",
   "metadata": {},
   "outputs": [
    {
     "name": "stdout",
     "output_type": "stream",
     "text": [
      "[[7, 6, 5, 4, 3, 2, 1], [6, 5, 4, 3, 2, 1], [5, 4, 3, 2, 1]]\n"
     ]
    }
   ],
   "source": [
    "m = []\n",
    "dl.reverse()\n",
    "for i in dl:\n",
    "    m.append(i[::-1])\n",
    "print(m)"
   ]
  },
  {
   "cell_type": "code",
   "execution_count": 179,
   "id": "e99365d8",
   "metadata": {},
   "outputs": [],
   "source": [
    "# removing data from particular index and making list\n",
    "n =[]\n",
    "for i in m:\n",
    "    n.append(i[2])"
   ]
  },
  {
   "cell_type": "code",
   "execution_count": 180,
   "id": "d683af88",
   "metadata": {},
   "outputs": [
    {
     "name": "stdout",
     "output_type": "stream",
     "text": [
      "[5, 4, 3]\n"
     ]
    }
   ],
   "source": [
    "print(n)"
   ]
  },
  {
   "cell_type": "code",
   "execution_count": 184,
   "id": "26d296f4",
   "metadata": {},
   "outputs": [],
   "source": [
    "# removing data from particular index and perform any mathematicl operation and making list\n",
    "a = []\n",
    "for i in m:\n",
    "    a.append(i[2]*2)"
   ]
  },
  {
   "cell_type": "code",
   "execution_count": 185,
   "id": "1cec8b5e",
   "metadata": {},
   "outputs": [
    {
     "name": "stdout",
     "output_type": "stream",
     "text": [
      "[10, 8, 6]\n"
     ]
    }
   ],
   "source": [
    "print(a)"
   ]
  },
  {
   "cell_type": "code",
   "execution_count": 186,
   "id": "86651470",
   "metadata": {},
   "outputs": [
    {
     "data": {
      "text/plain": [
       "[10, 8, 6]"
      ]
     },
     "execution_count": 186,
     "metadata": {},
     "output_type": "execute_result"
    }
   ],
   "source": [
    "# list comprehension - to reduce the code in a single line\n",
    "[i[2]*2 for i in m]\n"
   ]
  },
  {
   "cell_type": "code",
   "execution_count": 189,
   "id": "4feadda8",
   "metadata": {},
   "outputs": [
    {
     "data": {
      "text/plain": [
       "[2, 3, 4, 5, 2, [2, 2, 3, 5]]"
      ]
     },
     "execution_count": 189,
     "metadata": {},
     "output_type": "execute_result"
    }
   ],
   "source": [
    "f = [2,3,4,5,2,]                #it created the nested list \n",
    "f.append([2,2,3,5])\n",
    "f"
   ]
  },
  {
   "cell_type": "code",
   "execution_count": 195,
   "id": "13dbb748",
   "metadata": {},
   "outputs": [
    {
     "name": "stdout",
     "output_type": "stream",
     "text": [
      "[2, 3, 4, 5, 2, 'dsa', 2, 3, 4, 3]\n"
     ]
    }
   ],
   "source": [
    "fs = [2,3,4,5,2,\"dsa\"]        #it extended the previous list by adding the new lists objects into previous list\n",
    "fs.extend([2,3,4,3])\n",
    "print(fs)"
   ]
  },
  {
   "cell_type": "code",
   "execution_count": 196,
   "id": "0e5f0be3",
   "metadata": {},
   "outputs": [
    {
     "name": "stdout",
     "output_type": "stream",
     "text": [
      "[2, 3, 4, 5, 2, 'dsa', 9, 7, 6, [2, 3, 4, 3]]\n"
     ]
    }
   ],
   "source": [
    "fsa = [2,3,4,5,2,\"dsa\"]        #it extended the previous list by adding the new lists objects into previous list\n",
    "fsa.extend([9,7,6,[2,3,4,3]])  #and it can only remove brackets of one list and the second list will be same\n",
    "print(fsa)"
   ]
  },
  {
   "cell_type": "code",
   "execution_count": 198,
   "id": "757a4863",
   "metadata": {},
   "outputs": [
    {
     "data": {
      "text/plain": [
       "3"
      ]
     },
     "execution_count": 198,
     "metadata": {},
     "output_type": "execute_result"
    }
   ],
   "source": [
    "fs.index(5)      #only give the index of first occurance"
   ]
  },
  {
   "cell_type": "code",
   "execution_count": 209,
   "id": "aad16384",
   "metadata": {},
   "outputs": [],
   "source": [
    "m = [8,7,6,5,4,3,2,1,[7, 6, 5, 4, 3, 2, 1]]"
   ]
  },
  {
   "cell_type": "code",
   "execution_count": 211,
   "id": "8ca42f2f",
   "metadata": {},
   "outputs": [
    {
     "name": "stdout",
     "output_type": "stream",
     "text": [
      "nothing left to remove\n",
      "nothing left to remove\n",
      "nothing left to remove\n",
      "nothing left to remove\n",
      "nothing left to remove\n",
      "nothing left to remove\n"
     ]
    }
   ],
   "source": [
    "for i in m:\n",
    "    if i == 3:\n",
    "        m.remove(3)\n",
    "    elif type(i) == list:\n",
    "        i.remove(3)\n",
    "    else:\n",
    "        print(\"nothing left to remove\")"
   ]
  },
  {
   "cell_type": "code",
   "execution_count": 212,
   "id": "c75d2aae",
   "metadata": {},
   "outputs": [
    {
     "name": "stdout",
     "output_type": "stream",
     "text": [
      "[8, 7, 6, 5, 4, 2, 1, [7, 6, 5, 4, 2, 1]]\n"
     ]
    }
   ],
   "source": [
    "print(m)      #removed 3, got new list"
   ]
  },
  {
   "cell_type": "code",
   "execution_count": 259,
   "id": "0861dec0",
   "metadata": {},
   "outputs": [],
   "source": [
    "new = [8,7,6,5,4,3,2,1,[7, 6, 5, 4, 3, 2, 1], [6, 5, 4, 3, 2, 1], [5, 4, 3, 2, 1]]\n",
    "# for i in new:\n",
    "#     if i == 1:\n",
    "#         new.remove(1)\n",
    "#     elif type(i) == list:\n",
    "#         i.remove(1)"
   ]
  },
  {
   "cell_type": "code",
   "execution_count": 260,
   "id": "bda718a4",
   "metadata": {},
   "outputs": [
    {
     "name": "stdout",
     "output_type": "stream",
     "text": [
      "[8, 7, 6, 5, 4, 3, 2, 1, [7, 6, 5, 4, 3, 2, 1], [6, 5, 4, 3, 2, 1], [5, 4, 3, 2, 1]]\n"
     ]
    }
   ],
   "source": [
    "print(new)"
   ]
  },
  {
   "cell_type": "code",
   "execution_count": 289,
   "id": "7a82b55e",
   "metadata": {},
   "outputs": [],
   "source": [
    "# making the list of agiven string by removing unwanted , \n",
    "x = '2,,3,,4,,'      "
   ]
  },
  {
   "cell_type": "code",
   "execution_count": 292,
   "id": "77ee7c68",
   "metadata": {},
   "outputs": [
    {
     "data": {
      "text/plain": [
       "['2', '', '3', '', '4', '', '']"
      ]
     },
     "execution_count": 292,
     "metadata": {},
     "output_type": "execute_result"
    }
   ],
   "source": [
    "a=x.split(',')        #now it is in list formate, we need to remove the ,\n",
    "a"
   ]
  },
  {
   "cell_type": "code",
   "execution_count": 295,
   "id": "f5a58ff4",
   "metadata": {},
   "outputs": [
    {
     "data": {
      "text/plain": [
       "str"
      ]
     },
     "execution_count": 295,
     "metadata": {},
     "output_type": "execute_result"
    }
   ],
   "source": [
    "type(a[1])       # every index have same data type str"
   ]
  },
  {
   "cell_type": "code",
   "execution_count": 296,
   "id": "55e920d3",
   "metadata": {},
   "outputs": [
    {
     "data": {
      "text/plain": [
       "1"
      ]
     },
     "execution_count": 296,
     "metadata": {},
     "output_type": "execute_result"
    }
   ],
   "source": [
    "len(a[0])     #length of 0 index data"
   ]
  },
  {
   "cell_type": "code",
   "execution_count": 297,
   "id": "6eaf5cea",
   "metadata": {},
   "outputs": [
    {
     "data": {
      "text/plain": [
       "0"
      ]
     },
     "execution_count": 297,
     "metadata": {},
     "output_type": "execute_result"
    }
   ],
   "source": [
    "len(a[1])      #length of 1 index data"
   ]
  },
  {
   "cell_type": "code",
   "execution_count": 304,
   "id": "ad49ff07",
   "metadata": {},
   "outputs": [
    {
     "name": "stdout",
     "output_type": "stream",
     "text": [
      "['2', '3', '4']\n"
     ]
    }
   ],
   "source": [
    "X = []\n",
    "for i in a:\n",
    "    if len(i) != 0:\n",
    "         X.append(i)\n",
    "print(X)"
   ]
  },
  {
   "cell_type": "code",
   "execution_count": 305,
   "id": "b583ff99",
   "metadata": {},
   "outputs": [
    {
     "data": {
      "text/plain": [
       "[3, 4, 5, 6, 7]"
      ]
     },
     "execution_count": 305,
     "metadata": {},
     "output_type": "execute_result"
    }
   ],
   "source": [
    "# list comprehension\n",
    "[i for i in [3,4,5,6,7]]"
   ]
  },
  {
   "cell_type": "markdown",
   "id": "5c96dd08",
   "metadata": {},
   "source": [
    "# TUPLES"
   ]
  },
  {
   "cell_type": "code",
   "execution_count": 306,
   "id": "6bc74764",
   "metadata": {},
   "outputs": [],
   "source": [
    "L =[]\n",
    "t = ()"
   ]
  },
  {
   "cell_type": "code",
   "execution_count": 307,
   "id": "c61f161f",
   "metadata": {},
   "outputs": [
    {
     "data": {
      "text/plain": [
       "list"
      ]
     },
     "execution_count": 307,
     "metadata": {},
     "output_type": "execute_result"
    }
   ],
   "source": [
    "type(L)"
   ]
  },
  {
   "cell_type": "code",
   "execution_count": 308,
   "id": "6134d995",
   "metadata": {},
   "outputs": [
    {
     "data": {
      "text/plain": [
       "tuple"
      ]
     },
     "execution_count": 308,
     "metadata": {},
     "output_type": "execute_result"
    }
   ],
   "source": [
    "type(t)"
   ]
  },
  {
   "cell_type": "code",
   "execution_count": 310,
   "id": "bad180cc",
   "metadata": {},
   "outputs": [
    {
     "data": {
      "text/plain": [
       "[1, 2, 3, 4, 'RAJ']"
      ]
     },
     "execution_count": 310,
     "metadata": {},
     "output_type": "execute_result"
    }
   ],
   "source": [
    "Li =[1,2,3,4,\"RAJ\"]\n",
    "Li"
   ]
  },
  {
   "cell_type": "code",
   "execution_count": 313,
   "id": "f28ea2cf",
   "metadata": {},
   "outputs": [
    {
     "data": {
      "text/plain": [
       "(1, 2, 3, 4, 'raj', 45.3, True, (4+5j))"
      ]
     },
     "execution_count": 313,
     "metadata": {},
     "output_type": "execute_result"
    }
   ],
   "source": [
    "t = (1,2,3,4,\"raj\",45.3,True,4+5j)\n",
    "t"
   ]
  },
  {
   "cell_type": "code",
   "execution_count": 314,
   "id": "07cac132",
   "metadata": {},
   "outputs": [
    {
     "data": {
      "text/plain": [
       "8"
      ]
     },
     "execution_count": 314,
     "metadata": {},
     "output_type": "execute_result"
    }
   ],
   "source": [
    "len(t)"
   ]
  },
  {
   "cell_type": "code",
   "execution_count": 315,
   "id": "a3de0370",
   "metadata": {},
   "outputs": [
    {
     "data": {
      "text/plain": [
       "(4+5j)"
      ]
     },
     "execution_count": 315,
     "metadata": {},
     "output_type": "execute_result"
    }
   ],
   "source": [
    "t[7]"
   ]
  },
  {
   "cell_type": "code",
   "execution_count": 316,
   "id": "84cd1075",
   "metadata": {},
   "outputs": [
    {
     "ename": "TypeError",
     "evalue": "'tuple' object does not support item assignment",
     "output_type": "error",
     "traceback": [
      "\u001b[1;31m---------------------------------------------------------------------------\u001b[0m",
      "\u001b[1;31mTypeError\u001b[0m                                 Traceback (most recent call last)",
      "\u001b[1;32m<ipython-input-316-3e4bb775b93c>\u001b[0m in \u001b[0;36m<module>\u001b[1;34m\u001b[0m\n\u001b[1;32m----> 1\u001b[1;33m \u001b[0mt\u001b[0m\u001b[1;33m[\u001b[0m\u001b[1;36m0\u001b[0m\u001b[1;33m]\u001b[0m \u001b[1;33m=\u001b[0m \u001b[1;34m\"sahu\"\u001b[0m\u001b[1;33m\u001b[0m\u001b[1;33m\u001b[0m\u001b[0m\n\u001b[0m",
      "\u001b[1;31mTypeError\u001b[0m: 'tuple' object does not support item assignment"
     ]
    }
   ],
   "source": [
    "t[0] = \"sahu\""
   ]
  },
  {
   "cell_type": "code",
   "execution_count": 318,
   "id": "fcb39cea",
   "metadata": {},
   "outputs": [
    {
     "data": {
      "text/plain": [
       "['sahu', 2, 3, 4, 'RAJ']"
      ]
     },
     "execution_count": 318,
     "metadata": {},
     "output_type": "execute_result"
    }
   ],
   "source": [
    "Li[0] = \"sahu\"\n",
    "Li"
   ]
  },
  {
   "cell_type": "code",
   "execution_count": 2,
   "id": "e8cad90f",
   "metadata": {},
   "outputs": [
    {
     "data": {
      "text/plain": [
       "'d'"
      ]
     },
     "execution_count": 2,
     "metadata": {},
     "output_type": "execute_result"
    }
   ],
   "source": [
    "# tuples and strings are immutable entities\n",
    "var = \"rajdahu\"\n",
    "var[3]"
   ]
  },
  {
   "cell_type": "code",
   "execution_count": 3,
   "id": "c6df7656",
   "metadata": {},
   "outputs": [
    {
     "ename": "TypeError",
     "evalue": "'str' object does not support item assignment",
     "output_type": "error",
     "traceback": [
      "\u001b[1;31m---------------------------------------------------------------------------\u001b[0m",
      "\u001b[1;31mTypeError\u001b[0m                                 Traceback (most recent call last)",
      "\u001b[1;32m<ipython-input-3-d33c0fa6158b>\u001b[0m in \u001b[0;36m<module>\u001b[1;34m\u001b[0m\n\u001b[1;32m----> 1\u001b[1;33m \u001b[0mvar\u001b[0m\u001b[1;33m[\u001b[0m\u001b[1;36m3\u001b[0m\u001b[1;33m]\u001b[0m \u001b[1;33m=\u001b[0m \u001b[1;34m's'\u001b[0m\u001b[1;33m\u001b[0m\u001b[1;33m\u001b[0m\u001b[0m\n\u001b[0m",
      "\u001b[1;31mTypeError\u001b[0m: 'str' object does not support item assignment"
     ]
    }
   ],
   "source": [
    "var[3] = 's'"
   ]
  },
  {
   "cell_type": "code",
   "execution_count": 8,
   "id": "772c65aa",
   "metadata": {},
   "outputs": [
    {
     "name": "stdout",
     "output_type": "stream",
     "text": [
      "1\n",
      "2\n",
      "3\n",
      "4\n"
     ]
    }
   ],
   "source": [
    "tup = (1,2,3,4)\n",
    "for i in tup:\n",
    "    print(i)"
   ]
  },
  {
   "cell_type": "code",
   "execution_count": 14,
   "id": "9e3a8903",
   "metadata": {},
   "outputs": [
    {
     "name": "stdout",
     "output_type": "stream",
     "text": [
      "1\n",
      "2\n",
      "3\n",
      "4\n"
     ]
    }
   ],
   "source": [
    "for i in range(len(tup)):\n",
    "    print(tup[i])"
   ]
  },
  {
   "cell_type": "code",
   "execution_count": 12,
   "id": "1663c145",
   "metadata": {},
   "outputs": [
    {
     "name": "stdout",
     "output_type": "stream",
     "text": [
      "(1, 2, 3, 4)\n",
      "(1, 2, 3, 4)\n",
      "(1, 2, 3, 4)\n",
      "(1, 2, 3, 4)\n"
     ]
    }
   ],
   "source": [
    "tup = (1,2,3,4)\n",
    "for i in tup:\n",
    "    print(tup)"
   ]
  },
  {
   "cell_type": "code",
   "execution_count": 13,
   "id": "1ae27fe3",
   "metadata": {},
   "outputs": [
    {
     "name": "stdout",
     "output_type": "stream",
     "text": [
      "1\n",
      "2\n",
      "3\n",
      "4\n"
     ]
    }
   ],
   "source": [
    "lis =[1,2,3,4]\n",
    "for i in lis:\n",
    "    print(i)"
   ]
  },
  {
   "cell_type": "code",
   "execution_count": 14,
   "id": "5c4c40dc",
   "metadata": {},
   "outputs": [
    {
     "name": "stdout",
     "output_type": "stream",
     "text": [
      "[1, 2, 3, 4]\n",
      "[1, 2, 3, 4]\n",
      "[1, 2, 3, 4]\n",
      "[1, 2, 3, 4]\n"
     ]
    }
   ],
   "source": [
    "lis =[1,2,3,4]\n",
    "for i in lis:\n",
    "    print(lis)"
   ]
  },
  {
   "cell_type": "code",
   "execution_count": 15,
   "id": "46664c7b",
   "metadata": {},
   "outputs": [
    {
     "data": {
      "text/plain": [
       "1"
      ]
     },
     "execution_count": 15,
     "metadata": {},
     "output_type": "execute_result"
    }
   ],
   "source": [
    "tup.count(3)         #count function in tuple"
   ]
  },
  {
   "cell_type": "code",
   "execution_count": 25,
   "id": "d057fb21",
   "metadata": {},
   "outputs": [],
   "source": [
    "tt = (1,2,3,4,5,5,3,3,5,3,2)"
   ]
  },
  {
   "cell_type": "code",
   "execution_count": 30,
   "id": "67744306",
   "metadata": {},
   "outputs": [
    {
     "data": {
      "text/plain": [
       "8"
      ]
     },
     "execution_count": 30,
     "metadata": {},
     "output_type": "execute_result"
    }
   ],
   "source": [
    "tt.index(5,7,10)        #.index(value,start,stop)"
   ]
  },
  {
   "cell_type": "code",
   "execution_count": 31,
   "id": "60c6d511",
   "metadata": {},
   "outputs": [],
   "source": [
    "t2 =(1,2,3,4,5)\n",
    "t3 = (5,6,7,8,9)"
   ]
  },
  {
   "cell_type": "code",
   "execution_count": 32,
   "id": "035b0aa8",
   "metadata": {},
   "outputs": [
    {
     "data": {
      "text/plain": [
       "(1, 2, 3, 4, 5, 5, 6, 7, 8, 9)"
      ]
     },
     "execution_count": 32,
     "metadata": {},
     "output_type": "execute_result"
    }
   ],
   "source": [
    "t2+t3"
   ]
  },
  {
   "cell_type": "code",
   "execution_count": 35,
   "id": "eeb88507",
   "metadata": {},
   "outputs": [],
   "source": [
    "# insert/append/extend/pop this is not supported in tuples\n",
    "# now i have to add any data in tuple, how?\n",
    "t3 =(1,2,3,4,5,6)\n",
    "# convert tuple into list then insert data then again convert list to tuple"
   ]
  },
  {
   "cell_type": "code",
   "execution_count": 57,
   "id": "54fe74df",
   "metadata": {},
   "outputs": [
    {
     "name": "stdout",
     "output_type": "stream",
     "text": [
      "[1, 2, 3, 4, 5, 6]\n"
     ]
    }
   ],
   "source": [
    "x1 = list(t3)\n",
    "print(x1)"
   ]
  },
  {
   "cell_type": "code",
   "execution_count": 59,
   "id": "ee52a723",
   "metadata": {},
   "outputs": [
    {
     "name": "stdout",
     "output_type": "stream",
     "text": [
      "[1, 'inserted', 'inserted', 2, 3, 4, 5, 6]\n"
     ]
    }
   ],
   "source": [
    "x1.insert(1,\"inserted\")\n",
    "print(x1)"
   ]
  },
  {
   "cell_type": "code",
   "execution_count": 61,
   "id": "a2b9da01",
   "metadata": {},
   "outputs": [
    {
     "name": "stdout",
     "output_type": "stream",
     "text": [
      "(1, 'inserted', 'inserted', 2, 3, 4, 5, 6)\n"
     ]
    }
   ],
   "source": [
    "x2 = tuple(x1)\n",
    "print(x2)"
   ]
  },
  {
   "cell_type": "markdown",
   "id": "64166e66",
   "metadata": {},
   "source": [
    "# set"
   ]
  },
  {
   "cell_type": "code",
   "execution_count": 67,
   "id": "0ee6b9c5",
   "metadata": {},
   "outputs": [],
   "source": [
    "s = {1,2,3,3,3,4,4,4,5,\"raj\",5,1,1,4,5,3,\"raj\"}"
   ]
  },
  {
   "cell_type": "code",
   "execution_count": 68,
   "id": "1ac7785d",
   "metadata": {},
   "outputs": [
    {
     "data": {
      "text/plain": [
       "{1, 2, 3, 4, 5, 'raj'}"
      ]
     },
     "execution_count": 68,
     "metadata": {},
     "output_type": "execute_result"
    }
   ],
   "source": [
    "s"
   ]
  },
  {
   "cell_type": "code",
   "execution_count": 71,
   "id": "19e8d369",
   "metadata": {},
   "outputs": [
    {
     "data": {
      "text/plain": [
       "{(4+5j), 1, 2, 3, 4, 5, 53, 55.5, 6, 'raj'}"
      ]
     },
     "execution_count": 71,
     "metadata": {},
     "output_type": "execute_result"
    }
   ],
   "source": [
    "# or\n",
    "s = set([1,2,3,3,3,4,4,4,5,\"raj\",5,1,1,4,5,3,\"raj\",4+5j,55.5,53,6,True])\n",
    "s"
   ]
  },
  {
   "cell_type": "code",
   "execution_count": 72,
   "id": "623fc624",
   "metadata": {},
   "outputs": [
    {
     "ename": "TypeError",
     "evalue": "'set' object does not support indexing",
     "output_type": "error",
     "traceback": [
      "\u001b[1;31m---------------------------------------------------------------------------\u001b[0m",
      "\u001b[1;31mTypeError\u001b[0m                                 Traceback (most recent call last)",
      "\u001b[1;32m<ipython-input-72-1a7b8cf672b4>\u001b[0m in \u001b[0;36m<module>\u001b[1;34m\u001b[0m\n\u001b[0;32m      1\u001b[0m \u001b[1;31m#can not access the data through index\u001b[0m\u001b[1;33m\u001b[0m\u001b[1;33m\u001b[0m\u001b[1;33m\u001b[0m\u001b[0m\n\u001b[1;32m----> 2\u001b[1;33m \u001b[0ms\u001b[0m\u001b[1;33m[\u001b[0m\u001b[1;36m2\u001b[0m\u001b[1;33m]\u001b[0m\u001b[1;33m\u001b[0m\u001b[1;33m\u001b[0m\u001b[0m\n\u001b[0m",
      "\u001b[1;31mTypeError\u001b[0m: 'set' object does not support indexing"
     ]
    }
   ],
   "source": [
    "#can not access the data through index\n",
    "s[2]"
   ]
  },
  {
   "cell_type": "code",
   "execution_count": 73,
   "id": "9896cb38",
   "metadata": {},
   "outputs": [
    {
     "name": "stdout",
     "output_type": "stream",
     "text": [
      "1\n",
      "2\n",
      "3\n",
      "4\n",
      "5\n",
      "6\n",
      "raj\n",
      "(4+5j)\n",
      "53\n",
      "55.5\n"
     ]
    }
   ],
   "source": [
    "# so need to iterate it \n",
    "for x in s:\n",
    "    print(x)"
   ]
  },
  {
   "cell_type": "code",
   "execution_count": 76,
   "id": "8d246dc1",
   "metadata": {},
   "outputs": [
    {
     "data": {
      "text/plain": [
       "{1, 2, 3, 4, 5}"
      ]
     },
     "execution_count": 76,
     "metadata": {},
     "output_type": "execute_result"
    }
   ],
   "source": [
    "# paasing a tuple in a set\n",
    "d1 = set((1,2,3,4,4,4,5,5,5))\n",
    "d1"
   ]
  },
  {
   "cell_type": "code",
   "execution_count": 78,
   "id": "5e317788",
   "metadata": {},
   "outputs": [
    {
     "name": "stdout",
     "output_type": "stream",
     "text": [
      "[1, 2, 3, 4, 5]\n"
     ]
    }
   ],
   "source": [
    "# can not do slicing in set so,\n",
    "x4  =  list(d1)\n",
    "print(x4)"
   ]
  },
  {
   "cell_type": "code",
   "execution_count": 80,
   "id": "10688e3b",
   "metadata": {},
   "outputs": [
    {
     "data": {
      "text/plain": [
       "[5, 4, 3, 2, 1]"
      ]
     },
     "execution_count": 80,
     "metadata": {},
     "output_type": "execute_result"
    }
   ],
   "source": [
    "c = x4[::-1]\n",
    "c"
   ]
  },
  {
   "cell_type": "code",
   "execution_count": 83,
   "id": "5c56072d",
   "metadata": {},
   "outputs": [
    {
     "data": {
      "text/plain": [
       "dict"
      ]
     },
     "execution_count": 83,
     "metadata": {},
     "output_type": "execute_result"
    }
   ],
   "source": [
    "b1 = {}\n",
    "type(b1)"
   ]
  },
  {
   "cell_type": "code",
   "execution_count": 85,
   "id": "d0d5546a",
   "metadata": {},
   "outputs": [
    {
     "data": {
      "text/plain": [
       "set"
      ]
     },
     "execution_count": 85,
     "metadata": {},
     "output_type": "execute_result"
    }
   ],
   "source": [
    "b2 = {4}\n",
    "type(b2)"
   ]
  },
  {
   "cell_type": "code",
   "execution_count": 108,
   "id": "54536048",
   "metadata": {},
   "outputs": [
    {
     "data": {
      "text/plain": [
       "{1, 2, 3, 4, 5, 6, 7, 9, 'tsdf'}"
      ]
     },
     "execution_count": 108,
     "metadata": {},
     "output_type": "execute_result"
    }
   ],
   "source": [
    "d2 = {1,2,2,3,4,5,5,6,7,9,7,5,3,6,'tsdf'}\n",
    "d2"
   ]
  },
  {
   "cell_type": "code",
   "execution_count": 109,
   "id": "5e56e704",
   "metadata": {},
   "outputs": [
    {
     "data": {
      "text/plain": [
       "{1, 2, 3, 4, 5, 6, 7, 9, 'raj', 'tsdf'}"
      ]
     },
     "execution_count": 109,
     "metadata": {},
     "output_type": "execute_result"
    }
   ],
   "source": [
    "d2.add('raj')            #added data at -2 place\n",
    "d2"
   ]
  },
  {
   "cell_type": "code",
   "execution_count": 110,
   "id": "b9d41204",
   "metadata": {},
   "outputs": [
    {
     "data": {
      "text/plain": [
       "{1, 2, 3, 4, 5, 6, 7, 9, 'raj', 'rsfsdf', 'tsdf'}"
      ]
     },
     "execution_count": 110,
     "metadata": {},
     "output_type": "execute_result"
    }
   ],
   "source": [
    "d2.add(\"rsfsdf\")\n",
    "d2"
   ]
  },
  {
   "cell_type": "code",
   "execution_count": 111,
   "id": "fca0d07a",
   "metadata": {},
   "outputs": [
    {
     "ename": "TypeError",
     "evalue": "add() takes exactly one argument (2 given)",
     "output_type": "error",
     "traceback": [
      "\u001b[1;31m---------------------------------------------------------------------------\u001b[0m",
      "\u001b[1;31mTypeError\u001b[0m                                 Traceback (most recent call last)",
      "\u001b[1;32m<ipython-input-111-7dc9f1174daf>\u001b[0m in \u001b[0;36m<module>\u001b[1;34m\u001b[0m\n\u001b[1;32m----> 1\u001b[1;33m \u001b[0md2\u001b[0m\u001b[1;33m.\u001b[0m\u001b[0madd\u001b[0m\u001b[1;33m(\u001b[0m\u001b[1;36m3\u001b[0m\u001b[1;33m,\u001b[0m\u001b[1;34m\"rasss\"\u001b[0m\u001b[1;33m)\u001b[0m     \u001b[1;31m#can not add at a paerticular index\u001b[0m\u001b[1;33m\u001b[0m\u001b[1;33m\u001b[0m\u001b[0m\n\u001b[0m",
      "\u001b[1;31mTypeError\u001b[0m: add() takes exactly one argument (2 given)"
     ]
    }
   ],
   "source": [
    "d2.add(3,\"rasss\")     #can not add at a paerticular index"
   ]
  },
  {
   "cell_type": "code",
   "execution_count": 113,
   "id": "3a325832",
   "metadata": {},
   "outputs": [
    {
     "data": {
      "text/plain": [
       "2"
      ]
     },
     "execution_count": 113,
     "metadata": {},
     "output_type": "execute_result"
    }
   ],
   "source": [
    "d2.pop()     #takes no argument and remove a data from left side"
   ]
  },
  {
   "cell_type": "code",
   "execution_count": 114,
   "id": "4558ff0c",
   "metadata": {},
   "outputs": [
    {
     "data": {
      "text/plain": [
       "{3, 4, 5, 6, 7, 9, 'raj', 'rsfsdf', 'tsdf'}"
      ]
     },
     "execution_count": 114,
     "metadata": {},
     "output_type": "execute_result"
    }
   ],
   "source": [
    "d2"
   ]
  },
  {
   "cell_type": "code",
   "execution_count": 116,
   "id": "62b47ed4",
   "metadata": {},
   "outputs": [
    {
     "data": {
      "text/plain": [
       "3"
      ]
     },
     "execution_count": 116,
     "metadata": {},
     "output_type": "execute_result"
    }
   ],
   "source": [
    "d2.pop()"
   ]
  },
  {
   "cell_type": "code",
   "execution_count": 117,
   "id": "e10b75b0",
   "metadata": {},
   "outputs": [
    {
     "data": {
      "text/plain": [
       "{4, 5, 6, 7, 9, 'raj', 'rsfsdf', 'tsdf'}"
      ]
     },
     "execution_count": 117,
     "metadata": {},
     "output_type": "execute_result"
    }
   ],
   "source": [
    "d2"
   ]
  },
  {
   "cell_type": "code",
   "execution_count": 132,
   "id": "4cb0187d",
   "metadata": {},
   "outputs": [
    {
     "ename": "TypeError",
     "evalue": "unhashable type: 'list'",
     "output_type": "error",
     "traceback": [
      "\u001b[1;31m---------------------------------------------------------------------------\u001b[0m",
      "\u001b[1;31mTypeError\u001b[0m                                 Traceback (most recent call last)",
      "\u001b[1;32m<ipython-input-132-e634344c7916>\u001b[0m in \u001b[0;36m<module>\u001b[1;34m\u001b[0m\n\u001b[0;32m      1\u001b[0m \u001b[1;31m# set gives order but not actual sorting         -#not supported list\u001b[0m\u001b[1;33m\u001b[0m\u001b[1;33m\u001b[0m\u001b[1;33m\u001b[0m\u001b[0m\n\u001b[1;32m----> 2\u001b[1;33m \u001b[0md3\u001b[0m \u001b[1;33m=\u001b[0m \u001b[1;33m{\u001b[0m\u001b[1;36m1\u001b[0m\u001b[1;33m,\u001b[0m\u001b[1;36m3\u001b[0m\u001b[1;33m,\u001b[0m\u001b[1;36m5\u001b[0m\u001b[1;33m,\u001b[0m\u001b[1;36m2\u001b[0m\u001b[1;33m,\u001b[0m\u001b[1;36m5\u001b[0m\u001b[1;33m,\u001b[0m\u001b[1;36m2\u001b[0m\u001b[1;33m,\u001b[0m\u001b[1;36m5\u001b[0m\u001b[1;33m,\u001b[0m\u001b[1;36m88\u001b[0m\u001b[1;33m,\u001b[0m\u001b[1;36m44\u001b[0m\u001b[1;33m,\u001b[0m\u001b[1;36m234\u001b[0m\u001b[1;33m,\u001b[0m\u001b[1;36m542\u001b[0m\u001b[1;33m,\u001b[0m\u001b[1;36m46\u001b[0m\u001b[1;33m,\u001b[0m\u001b[1;36m3\u001b[0m\u001b[1;33m,\u001b[0m\u001b[1;36m6662\u001b[0m\u001b[1;33m,\u001b[0m\u001b[1;36m2234\u001b[0m\u001b[1;33m,\u001b[0m\u001b[1;36m4563\u001b[0m\u001b[1;33m,\u001b[0m\u001b[1;36m8\u001b[0m\u001b[1;33m,\u001b[0m\u001b[1;36m5\u001b[0m\u001b[1;33m,\u001b[0m\u001b[1;36m9\u001b[0m\u001b[1;33m,\u001b[0m\u001b[1;36m8\u001b[0m\u001b[1;33m,\u001b[0m\u001b[1;36m756\u001b[0m\u001b[1;33m,\u001b[0m\u001b[1;34m\"rajd\"\u001b[0m\u001b[1;33m,\u001b[0m\u001b[1;34m\"$$\"\u001b[0m\u001b[1;33m,\u001b[0m\u001b[1;33m[\u001b[0m\u001b[1;36m1\u001b[0m\u001b[1;33m,\u001b[0m\u001b[1;36m2\u001b[0m\u001b[1;33m,\u001b[0m\u001b[1;36m3\u001b[0m\u001b[1;33m,\u001b[0m\u001b[1;36m4\u001b[0m\u001b[1;33m]\u001b[0m\u001b[1;33m}\u001b[0m\u001b[1;33m\u001b[0m\u001b[1;33m\u001b[0m\u001b[0m\n\u001b[0m",
      "\u001b[1;31mTypeError\u001b[0m: unhashable type: 'list'"
     ]
    }
   ],
   "source": [
    "# set gives order but not actual sorting         -#not supported list\n",
    "d3 = {1,3,5,2,5,2,5,88,44,234,542,46,3,6662,2234,4563,8,5,9,8,756,\"rajd\",\"$$\",[1,2,3,4]}"
   ]
  },
  {
   "cell_type": "code",
   "execution_count": 126,
   "id": "1c065326",
   "metadata": {},
   "outputs": [],
   "source": [
    "d3 = {1,3,5,2,5,2,5,88,44,234,542,46,3,6662,2234,4563,8,5,9,8,756,\"rajd\",\"$$\"}"
   ]
  },
  {
   "cell_type": "code",
   "execution_count": 127,
   "id": "bfdca703",
   "metadata": {},
   "outputs": [
    {
     "data": {
      "text/plain": [
       "{'$$', 1, 2, 2234, 234, 3, 44, 4563, 46, 5, 542, 6662, 756, 8, 88, 9, 'rajd'}"
      ]
     },
     "execution_count": 127,
     "metadata": {},
     "output_type": "execute_result"
    }
   ],
   "source": [
    "d3"
   ]
  },
  {
   "cell_type": "code",
   "execution_count": 128,
   "id": "d872050f",
   "metadata": {},
   "outputs": [],
   "source": [
    "# above thing is in some order but not actually a sorting "
   ]
  },
  {
   "cell_type": "code",
   "execution_count": 134,
   "id": "5a64bf6f",
   "metadata": {},
   "outputs": [
    {
     "ename": "TypeError",
     "evalue": "unhashable type: 'list'",
     "output_type": "error",
     "traceback": [
      "\u001b[1;31m---------------------------------------------------------------------------\u001b[0m",
      "\u001b[1;31mTypeError\u001b[0m                                 Traceback (most recent call last)",
      "\u001b[1;32m<ipython-input-134-6282b54ca37a>\u001b[0m in \u001b[0;36m<module>\u001b[1;34m\u001b[0m\n\u001b[1;32m----> 1\u001b[1;33m \u001b[0mc4\u001b[0m \u001b[1;33m=\u001b[0m \u001b[0mset\u001b[0m\u001b[1;33m(\u001b[0m\u001b[1;33m[\u001b[0m\u001b[1;36m2\u001b[0m\u001b[1;33m,\u001b[0m\u001b[1;36m3\u001b[0m\u001b[1;33m,\u001b[0m\u001b[1;36m4\u001b[0m\u001b[1;33m,\u001b[0m\u001b[1;36m5\u001b[0m\u001b[1;33m,\u001b[0m\u001b[1;36m2\u001b[0m\u001b[1;33m,\u001b[0m\u001b[1;36m4\u001b[0m\u001b[1;33m,\u001b[0m\u001b[1;33m[\u001b[0m\u001b[1;36m22\u001b[0m\u001b[1;33m,\u001b[0m\u001b[1;36m44\u001b[0m\u001b[1;33m,\u001b[0m\u001b[1;36m55\u001b[0m\u001b[1;33m,\u001b[0m\u001b[1;36m66\u001b[0m\u001b[1;33m,\u001b[0m\u001b[1;36m67\u001b[0m\u001b[1;33m]\u001b[0m\u001b[1;33m]\u001b[0m\u001b[1;33m)\u001b[0m \u001b[1;31m#not ssupported list\u001b[0m\u001b[1;33m\u001b[0m\u001b[1;33m\u001b[0m\u001b[0m\n\u001b[0m",
      "\u001b[1;31mTypeError\u001b[0m: unhashable type: 'list'"
     ]
    }
   ],
   "source": [
    "c4 = set([2,3,4,5,2,4,[22,44,55,66,67]]) #not ssupported list "
   ]
  },
  {
   "cell_type": "code",
   "execution_count": 140,
   "id": "5be0a011",
   "metadata": {},
   "outputs": [
    {
     "ename": "TypeError",
     "evalue": "set expected at most 1 arguments, got 6",
     "output_type": "error",
     "traceback": [
      "\u001b[1;31m---------------------------------------------------------------------------\u001b[0m",
      "\u001b[1;31mTypeError\u001b[0m                                 Traceback (most recent call last)",
      "\u001b[1;32m<ipython-input-140-233e6d574994>\u001b[0m in \u001b[0;36m<module>\u001b[1;34m\u001b[0m\n\u001b[1;32m----> 1\u001b[1;33m \u001b[0mc5\u001b[0m \u001b[1;33m=\u001b[0m \u001b[0mset\u001b[0m\u001b[1;33m(\u001b[0m\u001b[1;36m3\u001b[0m\u001b[1;33m,\u001b[0m\u001b[1;36m4\u001b[0m\u001b[1;33m,\u001b[0m\u001b[1;36m5\u001b[0m\u001b[1;33m,\u001b[0m\u001b[1;34m\"54\"\u001b[0m\u001b[1;33m,\u001b[0m\u001b[1;34m\"yyr\"\u001b[0m\u001b[1;33m,\u001b[0m\u001b[1;36m4\u001b[0m\u001b[1;33m+\u001b[0m\u001b[1;36m5j\u001b[0m\u001b[1;33m)\u001b[0m\u001b[1;33m\u001b[0m\u001b[1;33m\u001b[0m\u001b[0m\n\u001b[0m\u001b[0;32m      2\u001b[0m \u001b[0mc5\u001b[0m\u001b[1;33m\u001b[0m\u001b[1;33m\u001b[0m\u001b[0m\n",
      "\u001b[1;31mTypeError\u001b[0m: set expected at most 1 arguments, got 6"
     ]
    }
   ],
   "source": [
    "c5 = set(3,4,5,\"54\",\"yyr\",4+5j)\n",
    "c5"
   ]
  },
  {
   "cell_type": "code",
   "execution_count": 142,
   "id": "85840631",
   "metadata": {},
   "outputs": [
    {
     "data": {
      "text/plain": [
       "{(4+5j), 3, 4, 5, '54', 'yyr'}"
      ]
     },
     "execution_count": 142,
     "metadata": {},
     "output_type": "execute_result"
    }
   ],
   "source": [
    "c5 = set((3,4,5,\"54\",\"yyr\",4+5j))   # tuples type\n",
    "c5"
   ]
  },
  {
   "cell_type": "code",
   "execution_count": 144,
   "id": "d84eba5e",
   "metadata": {},
   "outputs": [
    {
     "data": {
      "text/plain": [
       "{(4+5j), 3, 4, 5, '54', 'yyr'}"
      ]
     },
     "execution_count": 144,
     "metadata": {},
     "output_type": "execute_result"
    }
   ],
   "source": [
    "c6 = set([3,4,5,\"54\",\"yyr\",4+5j])  #list type\n",
    "c6"
   ]
  },
  {
   "cell_type": "code",
   "execution_count": 145,
   "id": "f0f8be1d",
   "metadata": {},
   "outputs": [
    {
     "ename": "TypeError",
     "evalue": "unhashable type: 'list'",
     "output_type": "error",
     "traceback": [
      "\u001b[1;31m---------------------------------------------------------------------------\u001b[0m",
      "\u001b[1;31mTypeError\u001b[0m                                 Traceback (most recent call last)",
      "\u001b[1;32m<ipython-input-145-27d03bc34461>\u001b[0m in \u001b[0;36m<module>\u001b[1;34m\u001b[0m\n\u001b[1;32m----> 1\u001b[1;33m \u001b[0mc7\u001b[0m \u001b[1;33m=\u001b[0m \u001b[0mset\u001b[0m\u001b[1;33m(\u001b[0m\u001b[1;33m[\u001b[0m\u001b[1;36m3\u001b[0m\u001b[1;33m,\u001b[0m\u001b[1;36m4\u001b[0m\u001b[1;33m,\u001b[0m\u001b[1;36m5\u001b[0m\u001b[1;33m,\u001b[0m\u001b[1;34m\"54\"\u001b[0m\u001b[1;33m,\u001b[0m\u001b[1;34m\"yyr\"\u001b[0m\u001b[1;33m,\u001b[0m\u001b[1;36m4\u001b[0m\u001b[1;33m+\u001b[0m\u001b[1;36m5j\u001b[0m\u001b[1;33m,\u001b[0m\u001b[1;33m[\u001b[0m\u001b[1;36m3\u001b[0m\u001b[1;33m,\u001b[0m\u001b[1;36m4\u001b[0m\u001b[1;33m,\u001b[0m\u001b[1;36m6\u001b[0m\u001b[1;33m,\u001b[0m\u001b[1;36m6\u001b[0m\u001b[1;33m]\u001b[0m\u001b[1;33m]\u001b[0m\u001b[1;33m)\u001b[0m\u001b[1;33m\u001b[0m\u001b[1;33m\u001b[0m\u001b[0m\n\u001b[0m",
      "\u001b[1;31mTypeError\u001b[0m: unhashable type: 'list'"
     ]
    }
   ],
   "source": [
    "c7 = set([3,4,5,\"54\",\"yyr\",4+5j,[3,4,6,6]])   #list in list it isnt taking"
   ]
  },
  {
   "cell_type": "markdown",
   "id": "08495a63",
   "metadata": {},
   "source": [
    "# Dictionary"
   ]
  },
  {
   "cell_type": "code",
   "execution_count": 148,
   "id": "5394a6b1",
   "metadata": {},
   "outputs": [],
   "source": [
    "# synatax = {key:value}\n",
    "# duplicate keys are not allowed & if entered it wont give any error but updated the value of key by new value"
   ]
  },
  {
   "cell_type": "code",
   "execution_count": 150,
   "id": "de3a9fa7",
   "metadata": {},
   "outputs": [
    {
     "data": {
      "text/plain": [
       "{'name': 'Himanshu', 'surnmae': 'sahu'}"
      ]
     },
     "execution_count": 150,
     "metadata": {},
     "output_type": "execute_result"
    }
   ],
   "source": [
    "{'name':'Himanshu',\"surnmae\":\"sahu\"}"
   ]
  },
  {
   "cell_type": "code",
   "execution_count": 152,
   "id": "6a209ea7",
   "metadata": {},
   "outputs": [
    {
     "data": {
      "text/plain": [
       "{'name': 'xyz', 'surname': 'sahu'}"
      ]
     },
     "execution_count": 152,
     "metadata": {},
     "output_type": "execute_result"
    }
   ],
   "source": [
    "{'name':'himanshu',\"surname\":'sahu',\"name\":\"xyz\"}    #update value of same key with latest one"
   ]
  },
  {
   "cell_type": "code",
   "execution_count": 164,
   "id": "7072e215",
   "metadata": {},
   "outputs": [
    {
     "data": {
      "text/plain": [
       "{10: 'dhumu', 2.5: 'vaibhav', (3+2j): 'himanshu', True: 'no'}"
      ]
     },
     "execution_count": 164,
     "metadata": {},
     "output_type": "execute_result"
    }
   ],
   "source": [
    "{10:\"dhumu\",2.5:\"vaibhav\",3+2j:\"himanshu\",True:\"no\"}         #int as a key"
   ]
  },
  {
   "cell_type": "code",
   "execution_count": 165,
   "id": "47e7e13c",
   "metadata": {},
   "outputs": [
    {
     "data": {
      "text/plain": [
       "{True: 'yes'}"
      ]
     },
     "execution_count": 165,
     "metadata": {},
     "output_type": "execute_result"
    }
   ],
   "source": [
    "{True:\"yes\"}"
   ]
  },
  {
   "cell_type": "code",
   "execution_count": 259,
   "id": "ba858fd3",
   "metadata": {},
   "outputs": [
    {
     "data": {
      "text/plain": [
       "{'x': [1, 2, 3, 5],\n",
       " 'y': [1, 2, 3, 4, 5, [8, 7, 6, 5]],\n",
       " 'z': (1, 2, 3, 4, 5),\n",
       " 'l': {1, 2, 3, 4, 66},\n",
       " 'm': {'k1': '5', 'k2': '6'}}"
      ]
     },
     "execution_count": 259,
     "metadata": {},
     "output_type": "execute_result"
    }
   ],
   "source": [
    "var = {\"x\":[1,2,3,5], \"y\":[1,2,3,4,5,[8,7,6,5]], \"z\":(1,2,3,4,5),'l':{1,2,3,4,66},'m':{\"k1\":\"5\",\"k2\":\"6\"}}\n",
    "var"
   ]
  },
  {
   "cell_type": "code",
   "execution_count": 202,
   "id": "faa1bcde",
   "metadata": {},
   "outputs": [
    {
     "data": {
      "text/plain": [
       "[1, 2, 3, 4, 5, [8, 7, 6, 5]]"
      ]
     },
     "execution_count": 202,
     "metadata": {},
     "output_type": "execute_result"
    }
   ],
   "source": [
    "# accesing the data through the dict\n",
    "var['y']"
   ]
  },
  {
   "cell_type": "code",
   "execution_count": 203,
   "id": "5b2a63a3",
   "metadata": {},
   "outputs": [
    {
     "data": {
      "text/plain": [
       "[8, 7, 6, 5]"
      ]
     },
     "execution_count": 203,
     "metadata": {},
     "output_type": "execute_result"
    }
   ],
   "source": [
    "var['y'][5]"
   ]
  },
  {
   "cell_type": "code",
   "execution_count": 204,
   "id": "7c5ba964",
   "metadata": {},
   "outputs": [
    {
     "data": {
      "text/plain": [
       "6"
      ]
     },
     "execution_count": 204,
     "metadata": {},
     "output_type": "execute_result"
    }
   ],
   "source": [
    "var['y'][5][2]"
   ]
  },
  {
   "cell_type": "code",
   "execution_count": 205,
   "id": "625c36b2",
   "metadata": {},
   "outputs": [
    {
     "data": {
      "text/plain": [
       "{'k1': '5', 'k2': '6'}"
      ]
     },
     "execution_count": 205,
     "metadata": {},
     "output_type": "execute_result"
    }
   ],
   "source": [
    "var[\"m\"]"
   ]
  },
  {
   "cell_type": "code",
   "execution_count": 206,
   "id": "fe9ff52a",
   "metadata": {},
   "outputs": [
    {
     "data": {
      "text/plain": [
       "(1, 2, 3, 4, 5)"
      ]
     },
     "execution_count": 206,
     "metadata": {},
     "output_type": "execute_result"
    }
   ],
   "source": [
    "var['z']"
   ]
  },
  {
   "cell_type": "code",
   "execution_count": 207,
   "id": "69224ad3",
   "metadata": {},
   "outputs": [
    {
     "data": {
      "text/plain": [
       "4"
      ]
     },
     "execution_count": 207,
     "metadata": {},
     "output_type": "execute_result"
    }
   ],
   "source": [
    "var['z'][3]"
   ]
  },
  {
   "cell_type": "code",
   "execution_count": 208,
   "id": "3950f86b",
   "metadata": {},
   "outputs": [
    {
     "data": {
      "text/plain": [
       "{1, 2, 3, 4, 66}"
      ]
     },
     "execution_count": 208,
     "metadata": {},
     "output_type": "execute_result"
    }
   ],
   "source": [
    "var['l']"
   ]
  },
  {
   "cell_type": "code",
   "execution_count": 209,
   "id": "293b00dc",
   "metadata": {},
   "outputs": [
    {
     "data": {
      "text/plain": [
       "{'k1': '5', 'k2': '6'}"
      ]
     },
     "execution_count": 209,
     "metadata": {},
     "output_type": "execute_result"
    }
   ],
   "source": [
    "var['m']"
   ]
  },
  {
   "cell_type": "code",
   "execution_count": 210,
   "id": "beff316e",
   "metadata": {},
   "outputs": [
    {
     "data": {
      "text/plain": [
       "dict"
      ]
     },
     "execution_count": 210,
     "metadata": {},
     "output_type": "execute_result"
    }
   ],
   "source": [
    "type(var[\"m\"])"
   ]
  },
  {
   "cell_type": "code",
   "execution_count": 211,
   "id": "3d4ae50a",
   "metadata": {},
   "outputs": [
    {
     "data": {
      "text/plain": [
       "'6'"
      ]
     },
     "execution_count": 211,
     "metadata": {},
     "output_type": "execute_result"
    }
   ],
   "source": [
    "var[\"m\"]['k2']"
   ]
  },
  {
   "cell_type": "code",
   "execution_count": 216,
   "id": "2d523ad6",
   "metadata": {},
   "outputs": [
    {
     "name": "stdout",
     "output_type": "stream",
     "text": [
      "x\n",
      "y\n",
      "z\n",
      "l\n",
      "m\n"
     ]
    }
   ],
   "source": [
    "for i in var:\n",
    "    print(i)"
   ]
  },
  {
   "cell_type": "code",
   "execution_count": 217,
   "id": "fd8a4795",
   "metadata": {},
   "outputs": [
    {
     "name": "stdout",
     "output_type": "stream",
     "text": [
      "[1, 2, 3, 5]\n",
      "[1, 2, 3, 4, 5, [8, 7, 6, 5]]\n",
      "(1, 2, 3, 4, 5)\n",
      "{1, 2, 3, 4, 66}\n",
      "{'k1': '5', 'k2': '6'}\n"
     ]
    }
   ],
   "source": [
    "for i in var:\n",
    "    print(var[i])"
   ]
  },
  {
   "cell_type": "code",
   "execution_count": 244,
   "id": "a19923ed",
   "metadata": {},
   "outputs": [
    {
     "name": "stdout",
     "output_type": "stream",
     "text": [
      "[1, 2, 3, 5]\n",
      "[1, 2, 3, 4, 5, [8, 7, 6, 5]]\n",
      "(1, 2, 3, 4, 5)\n",
      "{1, 2, 3, 4, 66}\n",
      "{'k1': '5', 'k2': '6'}\n"
     ]
    }
   ],
   "source": [
    "for i in var.keys():\n",
    "    print(var[i])"
   ]
  },
  {
   "cell_type": "code",
   "execution_count": 218,
   "id": "e47e6ad3",
   "metadata": {},
   "outputs": [
    {
     "data": {
      "text/plain": [
       "dict_keys(['x', 'y', 'z', 'l', 'm'])"
      ]
     },
     "execution_count": 218,
     "metadata": {},
     "output_type": "execute_result"
    }
   ],
   "source": [
    "var.keys()"
   ]
  },
  {
   "cell_type": "code",
   "execution_count": 245,
   "id": "9efd17b5",
   "metadata": {},
   "outputs": [
    {
     "data": {
      "text/plain": [
       "dict_values([[1, 2, 3, 5], [1, 2, 3, 4, 5, [8, 7, 6, 5]], (1, 2, 3, 4, 5), {1, 2, 3, 4, 66}, {'k1': '5', 'k2': '6'}])"
      ]
     },
     "execution_count": 245,
     "metadata": {},
     "output_type": "execute_result"
    }
   ],
   "source": [
    "var.values()"
   ]
  },
  {
   "cell_type": "code",
   "execution_count": 251,
   "id": "9f77697a",
   "metadata": {},
   "outputs": [
    {
     "name": "stdout",
     "output_type": "stream",
     "text": [
      "[1, 2, 3, 5]\n",
      "[1, 2, 3, 4, 5, [8, 7, 6, 5]]\n",
      "(1, 2, 3, 4, 5)\n",
      "{1, 2, 3, 4, 66}\n",
      "{'k1': '5', 'k2': '6'}\n"
     ]
    }
   ],
   "source": [
    "for i in var.values():\n",
    "    print(i)"
   ]
  },
  {
   "cell_type": "code",
   "execution_count": 223,
   "id": "099dafe0",
   "metadata": {},
   "outputs": [
    {
     "data": {
      "text/plain": [
       "{'x': [1, 2, 3, 5],\n",
       " 'y': [1, 2, 3, 4, 5, [8, 7, 6, 5]],\n",
       " 'z': (1, 2, 3, 4, 5),\n",
       " 'l': {1, 2, 3, 4, 66},\n",
       " 'm': {'k1': '5', 'k2': '6'}}"
      ]
     },
     "execution_count": 223,
     "metadata": {},
     "output_type": "execute_result"
    }
   ],
   "source": [
    "var.copy()"
   ]
  },
  {
   "cell_type": "code",
   "execution_count": 241,
   "id": "305d26b8",
   "metadata": {},
   "outputs": [
    {
     "data": {
      "text/plain": [
       "{'k1': '5', 'k2': '6'}"
      ]
     },
     "execution_count": 241,
     "metadata": {},
     "output_type": "execute_result"
    }
   ],
   "source": [
    "var.get('m')"
   ]
  },
  {
   "cell_type": "code",
   "execution_count": 268,
   "id": "4d322f1c",
   "metadata": {},
   "outputs": [
    {
     "data": {
      "text/plain": [
       "(1, 2, 3, 4, 5)"
      ]
     },
     "execution_count": 268,
     "metadata": {},
     "output_type": "execute_result"
    }
   ],
   "source": [
    "# getting only tuples data\n",
    "var.get('z')"
   ]
  },
  {
   "cell_type": "code",
   "execution_count": 269,
   "id": "9c71f441",
   "metadata": {},
   "outputs": [
    {
     "data": {
      "text/plain": [
       "tuple"
      ]
     },
     "execution_count": 269,
     "metadata": {},
     "output_type": "execute_result"
    }
   ],
   "source": [
    "type(var['z'])"
   ]
  },
  {
   "cell_type": "code",
   "execution_count": 276,
   "id": "9aff8150",
   "metadata": {},
   "outputs": [
    {
     "data": {
      "text/plain": [
       "[]"
      ]
     },
     "execution_count": 276,
     "metadata": {},
     "output_type": "execute_result"
    }
   ],
   "source": [
    "u = []\n",
    "for i in var:\n",
    "    if type(i) == tuple:\n",
    "        for j in i:\n",
    "            u.append(j)\n",
    "u"
   ]
  },
  {
   "cell_type": "code",
   "execution_count": 278,
   "id": "cb5cb3c6",
   "metadata": {},
   "outputs": [
    {
     "data": {
      "text/plain": [
       "[1, 2, 3, 4, 5]"
      ]
     },
     "execution_count": 278,
     "metadata": {},
     "output_type": "execute_result"
    }
   ],
   "source": [
    "u = []\n",
    "for i in var.values():\n",
    "    if type(i) == tuple:\n",
    "        for j in i:\n",
    "            u.append(j)\n",
    "u"
   ]
  },
  {
   "cell_type": "code",
   "execution_count": 279,
   "id": "687812c4",
   "metadata": {},
   "outputs": [
    {
     "data": {
      "text/plain": [
       "{'x': [1, 2, 3, 5],\n",
       " 'y': [1, 2, 3, 4, 5, [8, 7, 6, 5]],\n",
       " 'z': (1, 2, 3, 4, 5),\n",
       " 'l': {1, 2, 3, 4, 66},\n",
       " 'm': {'k1': '5', 'k2': '6'}}"
      ]
     },
     "execution_count": 279,
     "metadata": {},
     "output_type": "execute_result"
    }
   ],
   "source": [
    "var"
   ]
  },
  {
   "cell_type": "code",
   "execution_count": 282,
   "id": "7e0cb300",
   "metadata": {},
   "outputs": [],
   "source": [
    "# adding the data to the dictionary\n",
    "var[\"newkey\"] = \"this is the value of new key\""
   ]
  },
  {
   "cell_type": "code",
   "execution_count": 281,
   "id": "da114221",
   "metadata": {},
   "outputs": [
    {
     "data": {
      "text/plain": [
       "{'x': [1, 2, 3, 5],\n",
       " 'y': [1, 2, 3, 4, 5, [8, 7, 6, 5]],\n",
       " 'z': (1, 2, 3, 4, 5),\n",
       " 'l': {1, 2, 3, 4, 66},\n",
       " 'm': {'k1': '5', 'k2': '6'},\n",
       " 'newkey': 'this is the value of new key'}"
      ]
     },
     "execution_count": 281,
     "metadata": {},
     "output_type": "execute_result"
    }
   ],
   "source": [
    "var"
   ]
  },
  {
   "cell_type": "code",
   "execution_count": 6,
   "id": "b3df1f3a",
   "metadata": {},
   "outputs": [
    {
     "name": "stdout",
     "output_type": "stream",
     "text": [
      "{0: 0, 1: 1, 2: 4, 3: 9, 4: 16, 5: 25, 6: 36, 7: 49, 8: 64, 9: 81}\n"
     ]
    }
   ],
   "source": [
    "di = {}\n",
    "for i in range(10):\n",
    "    di[i] = i**2\n",
    "print(di)"
   ]
  },
  {
   "cell_type": "code",
   "execution_count": 17,
   "id": "f9842cac",
   "metadata": {},
   "outputs": [
    {
     "data": {
      "text/plain": [
       "{0: 0, 1: 1, 2: 4, 3: 9, 4: 16, 5: 25, 6: 36, 7: 49, 8: 64, 9: 81}"
      ]
     },
     "execution_count": 17,
     "metadata": {},
     "output_type": "execute_result"
    }
   ],
   "source": [
    "{i : i**2 for i in range(10)}            #dictionary comprehension"
   ]
  },
  {
   "cell_type": "code",
   "execution_count": 14,
   "id": "6eb07bbe",
   "metadata": {},
   "outputs": [
    {
     "name": "stdout",
     "output_type": "stream",
     "text": [
      "{'raj': 'RAJ', 'sahu': 'SAHU', 'himanshu': 'HIMANSHU', 'you': 'YOU'}\n"
     ]
    }
   ],
   "source": [
    "# from list to dict \n",
    "li = [\"raj\",\"sahu\",\"himanshu\",\"sahu\",\"you\"]\n",
    "d11 = {}\n",
    "for i in li:\n",
    "    d11[i] = i.upper()\n",
    "print(d11)"
   ]
  },
  {
   "cell_type": "code",
   "execution_count": 15,
   "id": "01d388a9",
   "metadata": {},
   "outputs": [
    {
     "data": {
      "text/plain": [
       "{'raj': False, 'sahu': False, 'himanshu': False, 'you': False}"
      ]
     },
     "execution_count": 15,
     "metadata": {},
     "output_type": "execute_result"
    }
   ],
   "source": [
    "# isupper function to check the data formate\n",
    "li = [\"raj\",\"sahu\",\"himanshu\",\"sahu\",\"you\"]\n",
    "d11 = {}\n",
    "for i in li:\n",
    "    d11[i] = i.isupper()\n",
    "d11"
   ]
  },
  {
   "cell_type": "code",
   "execution_count": 23,
   "id": "62f795ea",
   "metadata": {},
   "outputs": [
    {
     "name": "stdout",
     "output_type": "stream",
     "text": [
      "RAJ\n",
      "AMIT\n"
     ]
    }
   ],
   "source": [
    "lis = [1,2,3,4,\"raj\",5,6,\"amit\"]\n",
    "for i in lis:\n",
    "    if type(i)== str:\n",
    "        print(i.upper())"
   ]
  },
  {
   "cell_type": "code",
   "execution_count": 30,
   "id": "263b69be",
   "metadata": {},
   "outputs": [
    {
     "data": {
      "text/plain": [
       "dict_items([('raj', False), ('sahu', False), ('himanshu', False), ('you', False)])"
      ]
     },
     "execution_count": 30,
     "metadata": {},
     "output_type": "execute_result"
    }
   ],
   "source": [
    "d11.items()            #item function will return items of dict and give key and values"
   ]
  },
  {
   "cell_type": "markdown",
   "id": "08dfd7d3",
   "metadata": {},
   "source": [
    "\n",
    "# function"
   ]
  },
  {
   "cell_type": "code",
   "execution_count": 31,
   "id": "9473dbf6",
   "metadata": {},
   "outputs": [],
   "source": [
    "# python is oops, scripting, functional prigramming language"
   ]
  },
  {
   "cell_type": "code",
   "execution_count": 38,
   "id": "5ce165b3",
   "metadata": {},
   "outputs": [
    {
     "ename": "SyntaxError",
     "evalue": "unexpected EOF while parsing (<ipython-input-38-5d287e34fa81>, line 2)",
     "output_type": "error",
     "traceback": [
      "\u001b[1;36m  File \u001b[1;32m\"<ipython-input-38-5d287e34fa81>\"\u001b[1;36m, line \u001b[1;32m2\u001b[0m\n\u001b[1;33m    \u001b[0m\n\u001b[1;37m    ^\u001b[0m\n\u001b[1;31mSyntaxError\u001b[0m\u001b[1;31m:\u001b[0m unexpected EOF while parsing\n"
     ]
    }
   ],
   "source": [
    "def test():\n",
    "#     it is not running because it wants at least an argument"
   ]
  },
  {
   "cell_type": "code",
   "execution_count": 42,
   "id": "a12d81d7",
   "metadata": {},
   "outputs": [],
   "source": [
    "def test():\n",
    "    pass                 #without using an argument simply pass the function to run it\n",
    "test()"
   ]
  },
  {
   "cell_type": "code",
   "execution_count": 43,
   "id": "88edeb61",
   "metadata": {},
   "outputs": [],
   "source": [
    "test()"
   ]
  },
  {
   "cell_type": "code",
   "execution_count": 44,
   "id": "ff3cec47",
   "metadata": {},
   "outputs": [
    {
     "data": {
      "text/plain": [
       "NoneType"
      ]
     },
     "execution_count": 44,
     "metadata": {},
     "output_type": "execute_result"
    }
   ],
   "source": [
    "type(test())"
   ]
  },
  {
   "cell_type": "code",
   "execution_count": null,
   "id": "5585cf9a",
   "metadata": {},
   "outputs": [],
   "source": []
  },
  {
   "cell_type": "code",
   "execution_count": 41,
   "id": "c59c0e6c",
   "metadata": {},
   "outputs": [
    {
     "ename": "TypeError",
     "evalue": "range expected 1 arguments, got 0",
     "output_type": "error",
     "traceback": [
      "\u001b[1;31m---------------------------------------------------------------------------\u001b[0m",
      "\u001b[1;31mTypeError\u001b[0m                                 Traceback (most recent call last)",
      "\u001b[1;32m<ipython-input-41-c7ba4c01db31>\u001b[0m in \u001b[0;36m<module>\u001b[1;34m\u001b[0m\n\u001b[1;32m----> 1\u001b[1;33m \u001b[0mrange\u001b[0m\u001b[1;33m(\u001b[0m\u001b[1;33m)\u001b[0m          \u001b[1;31m#inbuited range function need an argument to run\u001b[0m\u001b[1;33m\u001b[0m\u001b[1;33m\u001b[0m\u001b[0m\n\u001b[0m",
      "\u001b[1;31mTypeError\u001b[0m: range expected 1 arguments, got 0"
     ]
    }
   ],
   "source": [
    "range()          #inbuited range function need an argument to run"
   ]
  },
  {
   "cell_type": "code",
   "execution_count": null,
   "id": "9ce0b763",
   "metadata": {},
   "outputs": [],
   "source": []
  },
  {
   "cell_type": "code",
   "execution_count": 37,
   "id": "563b7b51",
   "metadata": {},
   "outputs": [
    {
     "data": {
      "text/plain": [
       "range(0, 2)"
      ]
     },
     "execution_count": 37,
     "metadata": {},
     "output_type": "execute_result"
    }
   ],
   "source": [
    "range(2)"
   ]
  },
  {
   "cell_type": "code",
   "execution_count": 46,
   "id": "06b100b7",
   "metadata": {},
   "outputs": [
    {
     "data": {
      "text/plain": [
       "range"
      ]
     },
     "execution_count": 46,
     "metadata": {},
     "output_type": "execute_result"
    }
   ],
   "source": [
    "type(range(2))"
   ]
  },
  {
   "cell_type": "code",
   "execution_count": 4,
   "id": "33376421",
   "metadata": {},
   "outputs": [],
   "source": [
    "for i in range(2):\n",
    "    pass"
   ]
  },
  {
   "cell_type": "code",
   "execution_count": 6,
   "id": "614b2a04",
   "metadata": {},
   "outputs": [],
   "source": [
    "def test():\n",
    "    print(\"this is my first function\")"
   ]
  },
  {
   "cell_type": "code",
   "execution_count": 2,
   "id": "6753eb5b",
   "metadata": {},
   "outputs": [],
   "source": [
    "def test():\n",
    "    x = 8\n",
    "    y = 6\n",
    "    print(\"the value of x+y is\",x+y)"
   ]
  },
  {
   "cell_type": "code",
   "execution_count": 3,
   "id": "6f407e22",
   "metadata": {},
   "outputs": [
    {
     "name": "stdout",
     "output_type": "stream",
     "text": [
      "the value of x+y is 14\n"
     ]
    }
   ],
   "source": [
    "test()"
   ]
  },
  {
   "cell_type": "code",
   "execution_count": 7,
   "id": "5d4ff4f7",
   "metadata": {},
   "outputs": [
    {
     "name": "stdout",
     "output_type": "stream",
     "text": [
      "this is my first function\n"
     ]
    },
    {
     "data": {
      "text/plain": [
       "NoneType"
      ]
     },
     "execution_count": 7,
     "metadata": {},
     "output_type": "execute_result"
    }
   ],
   "source": [
    "type(test())"
   ]
  },
  {
   "cell_type": "code",
   "execution_count": 8,
   "id": "b6a189d2",
   "metadata": {},
   "outputs": [
    {
     "name": "stdout",
     "output_type": "stream",
     "text": [
      "3\n"
     ]
    }
   ],
   "source": [
    "print(3)"
   ]
  },
  {
   "cell_type": "code",
   "execution_count": 10,
   "id": "a9913153",
   "metadata": {},
   "outputs": [
    {
     "name": "stdout",
     "output_type": "stream",
     "text": [
      "3\n"
     ]
    },
    {
     "data": {
      "text/plain": [
       "NoneType"
      ]
     },
     "execution_count": 10,
     "metadata": {},
     "output_type": "execute_result"
    }
   ],
   "source": [
    "type(print(3))   #print always return a none type"
   ]
  },
  {
   "cell_type": "code",
   "execution_count": 11,
   "id": "ea8d86ad",
   "metadata": {},
   "outputs": [],
   "source": [
    "def f_name():\n",
    "    a = 5\n",
    "    b = 7\n",
    "    print(a+b)\n"
   ]
  },
  {
   "cell_type": "code",
   "execution_count": 12,
   "id": "833bb5fc",
   "metadata": {},
   "outputs": [
    {
     "name": "stdout",
     "output_type": "stream",
     "text": [
      "12\n"
     ]
    }
   ],
   "source": [
    "f_name()"
   ]
  },
  {
   "cell_type": "code",
   "execution_count": 13,
   "id": "d7f06ae7",
   "metadata": {},
   "outputs": [
    {
     "name": "stdout",
     "output_type": "stream",
     "text": [
      "12\n"
     ]
    },
    {
     "data": {
      "text/plain": [
       "NoneType"
      ]
     },
     "execution_count": 13,
     "metadata": {},
     "output_type": "execute_result"
    }
   ],
   "source": [
    "type(f_name())"
   ]
  },
  {
   "cell_type": "code",
   "execution_count": 17,
   "id": "a6cd4ff2",
   "metadata": {},
   "outputs": [
    {
     "name": "stdout",
     "output_type": "stream",
     "text": [
      "12\n"
     ]
    },
    {
     "ename": "TypeError",
     "evalue": "unsupported operand type(s) for +: 'NoneType' and 'int'",
     "output_type": "error",
     "traceback": [
      "\u001b[1;31m---------------------------------------------------------------------------\u001b[0m",
      "\u001b[1;31mTypeError\u001b[0m                                 Traceback (most recent call last)",
      "\u001b[1;32m<ipython-input-17-c6465708aa16>\u001b[0m in \u001b[0;36m<module>\u001b[1;34m\u001b[0m\n\u001b[0;32m      1\u001b[0m \u001b[1;31m# now performing some mathematical operation\u001b[0m\u001b[1;33m\u001b[0m\u001b[1;33m\u001b[0m\u001b[1;33m\u001b[0m\u001b[0m\n\u001b[1;32m----> 2\u001b[1;33m \u001b[0mf_name\u001b[0m\u001b[1;33m(\u001b[0m\u001b[1;33m)\u001b[0m\u001b[1;33m+\u001b[0m\u001b[1;36m1\u001b[0m                     \u001b[1;31m#f_name type is not defined\u001b[0m\u001b[1;33m\u001b[0m\u001b[1;33m\u001b[0m\u001b[0m\n\u001b[0m",
      "\u001b[1;31mTypeError\u001b[0m: unsupported operand type(s) for +: 'NoneType' and 'int'"
     ]
    }
   ],
   "source": [
    "# now performing some mathematical operation\n",
    "f_name()+1                     #f_name type is not defined"
   ]
  },
  {
   "cell_type": "code",
   "execution_count": 21,
   "id": "90ed0a8f",
   "metadata": {},
   "outputs": [
    {
     "name": "stdout",
     "output_type": "stream",
     "text": [
      "12\n"
     ]
    }
   ],
   "source": [
    "s = f_name()"
   ]
  },
  {
   "cell_type": "code",
   "execution_count": 24,
   "id": "c9d7a04f",
   "metadata": {},
   "outputs": [
    {
     "data": {
      "text/plain": [
       "NoneType"
      ]
     },
     "execution_count": 24,
     "metadata": {},
     "output_type": "execute_result"
    }
   ],
   "source": [
    "type(s)    # again it is showing none type"
   ]
  },
  {
   "cell_type": "code",
   "execution_count": 28,
   "id": "8d720c68",
   "metadata": {},
   "outputs": [],
   "source": [
    "# so use retrun function instead of print to do some primitive work or data manipulation becausee it won't give nonetype data\n",
    "def megh():\n",
    "    a = \"hi\"\n",
    "    b = \"Megha\"\n",
    "    return(f'{a} {b}, How r you?')"
   ]
  },
  {
   "cell_type": "code",
   "execution_count": 35,
   "id": "efd2c0b9",
   "metadata": {},
   "outputs": [
    {
     "data": {
      "text/plain": [
       "'hi Megha, How r you? long time no see'"
      ]
     },
     "execution_count": 35,
     "metadata": {},
     "output_type": "execute_result"
    }
   ],
   "source": [
    "megh() + \" long time no see\""
   ]
  },
  {
   "cell_type": "code",
   "execution_count": 29,
   "id": "3faf49b0",
   "metadata": {},
   "outputs": [
    {
     "data": {
      "text/plain": [
       "str"
      ]
     },
     "execution_count": 29,
     "metadata": {},
     "output_type": "execute_result"
    }
   ],
   "source": [
    "type(megh())"
   ]
  },
  {
   "cell_type": "code",
   "execution_count": 30,
   "id": "3c7370d4",
   "metadata": {},
   "outputs": [],
   "source": [
    "def lo():\n",
    "    v = 8 \n",
    "    u = 9\n",
    "    return(v+u)"
   ]
  },
  {
   "cell_type": "code",
   "execution_count": 31,
   "id": "f36deca2",
   "metadata": {},
   "outputs": [
    {
     "data": {
      "text/plain": [
       "17"
      ]
     },
     "execution_count": 31,
     "metadata": {},
     "output_type": "execute_result"
    }
   ],
   "source": [
    "lo()"
   ]
  },
  {
   "cell_type": "code",
   "execution_count": 32,
   "id": "4d44a466",
   "metadata": {},
   "outputs": [
    {
     "data": {
      "text/plain": [
       "int"
      ]
     },
     "execution_count": 32,
     "metadata": {},
     "output_type": "execute_result"
    }
   ],
   "source": [
    "type(lo())"
   ]
  },
  {
   "cell_type": "code",
   "execution_count": 33,
   "id": "6a810f0c",
   "metadata": {},
   "outputs": [
    {
     "data": {
      "text/plain": [
       "21"
      ]
     },
     "execution_count": 33,
     "metadata": {},
     "output_type": "execute_result"
    }
   ],
   "source": [
    "lo() + 4 "
   ]
  },
  {
   "cell_type": "code",
   "execution_count": 43,
   "id": "27de0280",
   "metadata": {},
   "outputs": [],
   "source": [
    "# defining a function and passing argumet at run time \n",
    "def xuv(t,x):\n",
    "    return(t+x)"
   ]
  },
  {
   "cell_type": "code",
   "execution_count": 37,
   "id": "0a551d29",
   "metadata": {},
   "outputs": [
    {
     "ename": "TypeError",
     "evalue": "xuv() missing 2 required positional arguments: 't' and 'x'",
     "output_type": "error",
     "traceback": [
      "\u001b[1;31m---------------------------------------------------------------------------\u001b[0m",
      "\u001b[1;31mTypeError\u001b[0m                                 Traceback (most recent call last)",
      "\u001b[1;32m<ipython-input-37-5e879336c75e>\u001b[0m in \u001b[0;36m<module>\u001b[1;34m\u001b[0m\n\u001b[1;32m----> 1\u001b[1;33m \u001b[0mxuv\u001b[0m\u001b[1;33m(\u001b[0m\u001b[1;33m)\u001b[0m\u001b[1;33m\u001b[0m\u001b[1;33m\u001b[0m\u001b[0m\n\u001b[0m",
      "\u001b[1;31mTypeError\u001b[0m: xuv() missing 2 required positional arguments: 't' and 'x'"
     ]
    }
   ],
   "source": [
    "xuv()     #giving error because arguments value is not given"
   ]
  },
  {
   "cell_type": "code",
   "execution_count": 62,
   "id": "86a33e22",
   "metadata": {},
   "outputs": [],
   "source": [
    "va = xuv(5,5)"
   ]
  },
  {
   "cell_type": "code",
   "execution_count": 64,
   "id": "51e048fb",
   "metadata": {},
   "outputs": [],
   "source": [
    "va1 = xuv(\"raj\",\" sahu\")"
   ]
  },
  {
   "cell_type": "code",
   "execution_count": 58,
   "id": "6188f8dd",
   "metadata": {},
   "outputs": [
    {
     "ename": "NameError",
     "evalue": "name 't' is not defined",
     "output_type": "error",
     "traceback": [
      "\u001b[1;31m---------------------------------------------------------------------------\u001b[0m",
      "\u001b[1;31mNameError\u001b[0m                                 Traceback (most recent call last)",
      "\u001b[1;32m<ipython-input-58-00382e16e6a8>\u001b[0m in \u001b[0;36m<module>\u001b[1;34m\u001b[0m\n\u001b[1;32m----> 1\u001b[1;33m \u001b[0mtype\u001b[0m\u001b[1;33m(\u001b[0m\u001b[0mxuv\u001b[0m\u001b[1;33m(\u001b[0m\u001b[0mt\u001b[0m\u001b[1;33m,\u001b[0m\u001b[0mx\u001b[0m\u001b[1;33m)\u001b[0m\u001b[1;33m)\u001b[0m\u001b[1;33m\u001b[0m\u001b[1;33m\u001b[0m\u001b[0m\n\u001b[0m",
      "\u001b[1;31mNameError\u001b[0m: name 't' is not defined"
     ]
    }
   ],
   "source": [
    "type(xuv(t,x))"
   ]
  },
  {
   "cell_type": "code",
   "execution_count": 63,
   "id": "a21c162d",
   "metadata": {},
   "outputs": [
    {
     "data": {
      "text/plain": [
       "int"
      ]
     },
     "execution_count": 63,
     "metadata": {},
     "output_type": "execute_result"
    }
   ],
   "source": [
    "type(va)"
   ]
  },
  {
   "cell_type": "code",
   "execution_count": 65,
   "id": "24128b25",
   "metadata": {},
   "outputs": [
    {
     "data": {
      "text/plain": [
       "str"
      ]
     },
     "execution_count": 65,
     "metadata": {},
     "output_type": "execute_result"
    }
   ],
   "source": [
    "type(va1)"
   ]
  },
  {
   "cell_type": "code",
   "execution_count": 67,
   "id": "b1b76062",
   "metadata": {},
   "outputs": [],
   "source": [
    "va2 =xuv([1,2,3,4],[5,6,7,8])"
   ]
  },
  {
   "cell_type": "code",
   "execution_count": 68,
   "id": "0c498134",
   "metadata": {},
   "outputs": [
    {
     "data": {
      "text/plain": [
       "list"
      ]
     },
     "execution_count": 68,
     "metadata": {},
     "output_type": "execute_result"
    }
   ],
   "source": [
    "type(va2)"
   ]
  },
  {
   "cell_type": "code",
   "execution_count": 75,
   "id": "f21a2f57",
   "metadata": {},
   "outputs": [],
   "source": [
    "# multiple return on single function"
   ]
  },
  {
   "cell_type": "code",
   "execution_count": 77,
   "id": "bc0fbed7",
   "metadata": {},
   "outputs": [],
   "source": [
    "def func(m,n):\n",
    "    return(m+n,m*n,m/n)"
   ]
  },
  {
   "cell_type": "code",
   "execution_count": 89,
   "id": "bad9ccfb",
   "metadata": {},
   "outputs": [],
   "source": [
    "xx,yy,zz = func(10,5)\n"
   ]
  },
  {
   "cell_type": "code",
   "execution_count": 87,
   "id": "be421412",
   "metadata": {},
   "outputs": [
    {
     "data": {
      "text/plain": [
       "15"
      ]
     },
     "execution_count": 87,
     "metadata": {},
     "output_type": "execute_result"
    }
   ],
   "source": [
    "xx"
   ]
  },
  {
   "cell_type": "code",
   "execution_count": 88,
   "id": "b30662ba",
   "metadata": {},
   "outputs": [
    {
     "data": {
      "text/plain": [
       "50"
      ]
     },
     "execution_count": 88,
     "metadata": {},
     "output_type": "execute_result"
    }
   ],
   "source": [
    "yy"
   ]
  },
  {
   "cell_type": "code",
   "execution_count": 90,
   "id": "5bdc6ece",
   "metadata": {},
   "outputs": [
    {
     "data": {
      "text/plain": [
       "2.0"
      ]
     },
     "execution_count": 90,
     "metadata": {},
     "output_type": "execute_result"
    }
   ],
   "source": [
    "zz"
   ]
  },
  {
   "cell_type": "code",
   "execution_count": 91,
   "id": "7f724c39",
   "metadata": {},
   "outputs": [
    {
     "data": {
      "text/plain": [
       "[15, 50, 2.0]"
      ]
     },
     "execution_count": 91,
     "metadata": {},
     "output_type": "execute_result"
    }
   ],
   "source": [
    "list(func(10,5))"
   ]
  },
  {
   "cell_type": "code",
   "execution_count": 82,
   "id": "2e539d0a",
   "metadata": {},
   "outputs": [
    {
     "data": {
      "text/plain": [
       "(15, 50, 2.0)"
      ]
     },
     "execution_count": 82,
     "metadata": {},
     "output_type": "execute_result"
    }
   ],
   "source": [
    "tuple(func(10,5))"
   ]
  },
  {
   "cell_type": "code",
   "execution_count": 83,
   "id": "1ebbe166",
   "metadata": {},
   "outputs": [
    {
     "data": {
      "text/plain": [
       "{2.0, 15, 50}"
      ]
     },
     "execution_count": 83,
     "metadata": {},
     "output_type": "execute_result"
    }
   ],
   "source": [
    "set(func(10,5))"
   ]
  },
  {
   "cell_type": "code",
   "execution_count": 84,
   "id": "04cc0caf",
   "metadata": {},
   "outputs": [
    {
     "ename": "TypeError",
     "evalue": "cannot convert dictionary update sequence element #0 to a sequence",
     "output_type": "error",
     "traceback": [
      "\u001b[1;31m---------------------------------------------------------------------------\u001b[0m",
      "\u001b[1;31mTypeError\u001b[0m                                 Traceback (most recent call last)",
      "\u001b[1;32m<ipython-input-84-af86d8e9f253>\u001b[0m in \u001b[0;36m<module>\u001b[1;34m\u001b[0m\n\u001b[1;32m----> 1\u001b[1;33m \u001b[0mdict\u001b[0m\u001b[1;33m(\u001b[0m\u001b[0mfunc\u001b[0m\u001b[1;33m(\u001b[0m\u001b[1;36m10\u001b[0m\u001b[1;33m,\u001b[0m\u001b[1;36m5\u001b[0m\u001b[1;33m)\u001b[0m\u001b[1;33m)\u001b[0m\u001b[1;33m\u001b[0m\u001b[1;33m\u001b[0m\u001b[0m\n\u001b[0m",
      "\u001b[1;31mTypeError\u001b[0m: cannot convert dictionary update sequence element #0 to a sequence"
     ]
    }
   ],
   "source": [
    "dict(func(10,5))"
   ]
  },
  {
   "cell_type": "code",
   "execution_count": 92,
   "id": "759bfcdc",
   "metadata": {},
   "outputs": [],
   "source": [
    "# i can also pass default argument "
   ]
  },
  {
   "cell_type": "code",
   "execution_count": 95,
   "id": "3267a7f6",
   "metadata": {},
   "outputs": [],
   "source": [
    "def nam1(a,b4 =\"raj\"):\n",
    "    return(a+b4)"
   ]
  },
  {
   "cell_type": "code",
   "execution_count": 104,
   "id": "d9bf68ae",
   "metadata": {},
   "outputs": [
    {
     "data": {
      "text/plain": [
       "'raj raj'"
      ]
     },
     "execution_count": 104,
     "metadata": {},
     "output_type": "execute_result"
    }
   ],
   "source": [
    "nam1(\"raj \")"
   ]
  },
  {
   "cell_type": "code",
   "execution_count": 106,
   "id": "7ca1c336",
   "metadata": {},
   "outputs": [
    {
     "data": {
      "text/plain": [
       "'raj sahu'"
      ]
     },
     "execution_count": 106,
     "metadata": {},
     "output_type": "execute_result"
    }
   ],
   "source": [
    "nam1(\"raj \",\"sahu\")  #overriding the default value "
   ]
  },
  {
   "cell_type": "code",
   "execution_count": 111,
   "id": "f3019731",
   "metadata": {},
   "outputs": [],
   "source": [
    "def funn():\n",
    "    return(\"sagar\",[1,2,3,4],{\"k\":\"nick\",\"l\":\"jones\"})"
   ]
  },
  {
   "cell_type": "code",
   "execution_count": 113,
   "id": "c80272f3",
   "metadata": {},
   "outputs": [
    {
     "data": {
      "text/plain": [
       "('sagar', [1, 2, 3, 4], {'k': 'nick', 'l': 'jones'})"
      ]
     },
     "execution_count": 113,
     "metadata": {},
     "output_type": "execute_result"
    }
   ],
   "source": [
    "funn()                 # this will return the tuple value"
   ]
  },
  {
   "cell_type": "code",
   "execution_count": 116,
   "id": "b0b6c87a",
   "metadata": {},
   "outputs": [],
   "source": [
    "# now i only want to print dictionary so i'll use placeholder\n",
    "_,_,vv = funn()"
   ]
  },
  {
   "cell_type": "code",
   "execution_count": 117,
   "id": "e910872f",
   "metadata": {},
   "outputs": [
    {
     "data": {
      "text/plain": [
       "{'k': 'nick', 'l': 'jones'}"
      ]
     },
     "execution_count": 117,
     "metadata": {},
     "output_type": "execute_result"
    }
   ],
   "source": [
    "vv"
   ]
  },
  {
   "cell_type": "code",
   "execution_count": 123,
   "id": "a579d0ed",
   "metadata": {},
   "outputs": [],
   "source": [
    "linew= []\n",
    "liss = [1,2,3,4,5,5,6,7,8,3,4,[3,4,5,7,5]]\n",
    "for i in liss:\n",
    "    if i == 5:\n",
    "        liss.remove(i)"
   ]
  },
  {
   "cell_type": "code",
   "execution_count": 125,
   "id": "bd13b578",
   "metadata": {},
   "outputs": [
    {
     "data": {
      "text/plain": [
       "[1, 2, 3, 4, 5, 6, 7, 8, 3, 4, [3, 4, 5, 7, 5]]"
      ]
     },
     "execution_count": 125,
     "metadata": {},
     "output_type": "execute_result"
    }
   ],
   "source": [
    "liss"
   ]
  },
  {
   "cell_type": "code",
   "execution_count": 128,
   "id": "39a7fc6b",
   "metadata": {},
   "outputs": [],
   "source": [
    "def alarm(set_alarm_timer):\n",
    "    while True:\n",
    "        time.sleep(1)\n",
    "        current_time = datetime.datetime.now()\n",
    "        now = current_time.strftime(\"%H:%M:%S\")\n",
    "        date = current_time.strftime(\"%d/%m/%Y\")\n",
    "        print(\"The Set Date is:\",date)\n",
    "        print(now)\n",
    "        if now == set_alarm_timer:\n",
    "            print(\"Time to Wake up\")\n",
    "        winsound.PlaySound(\"sound.wav\",winsound.SND_ASYNC)\n",
    "        break\n",
    "\n",
    "def actual_time():\n",
    "    set_alarm_timer = f\"{hour.get()}:{min.get()}:{sec.get()}\"\n",
    "    alarm(set_alarm_timer)"
   ]
  },
  {
   "cell_type": "code",
   "execution_count": 134,
   "id": "e2f81bb7",
   "metadata": {},
   "outputs": [],
   "source": [
    "import numpy,pandas"
   ]
  },
  {
   "cell_type": "code",
   "execution_count": null,
   "id": "4986359f",
   "metadata": {},
   "outputs": [],
   "source": [
    "df = pandas.read_csv()"
   ]
  }
 ],
 "metadata": {
  "kernelspec": {
   "display_name": "Python 3",
   "language": "python",
   "name": "python3"
  },
  "language_info": {
   "codemirror_mode": {
    "name": "ipython",
    "version": 3
   },
   "file_extension": ".py",
   "mimetype": "text/x-python",
   "name": "python",
   "nbconvert_exporter": "python",
   "pygments_lexer": "ipython3",
   "version": "3.6.13"
  }
 },
 "nbformat": 4,
 "nbformat_minor": 5
}
