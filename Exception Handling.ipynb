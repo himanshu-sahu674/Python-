{
 "cells": [
  {
   "cell_type": "code",
   "execution_count": 2,
   "id": "8dc7904e",
   "metadata": {},
   "outputs": [
    {
     "ename": "ZeroDivisionError",
     "evalue": "division by zero",
     "output_type": "error",
     "traceback": [
      "\u001b[1;31m---------------------------------------------------------------------------\u001b[0m",
      "\u001b[1;31mZeroDivisionError\u001b[0m                         Traceback (most recent call last)",
      "Input \u001b[1;32mIn [2]\u001b[0m, in \u001b[0;36m<cell line: 2>\u001b[1;34m()\u001b[0m\n\u001b[0;32m      1\u001b[0m a \u001b[38;5;241m=\u001b[39m \u001b[38;5;241m10\u001b[39m\n\u001b[1;32m----> 2\u001b[0m \u001b[43ma\u001b[49m\u001b[38;5;241;43m/\u001b[39;49m\u001b[38;5;241;43m0\u001b[39;49m\n\u001b[0;32m      3\u001b[0m \u001b[38;5;28mprint\u001b[39m(\u001b[38;5;124m'\u001b[39m\u001b[38;5;124mprint this line\u001b[39m\u001b[38;5;124m'\u001b[39m)\n",
      "\u001b[1;31mZeroDivisionError\u001b[0m: division by zero"
     ]
    }
   ],
   "source": [
    "a = 10\n",
    "a/0\n",
    "print('print this line')   #it wont print the line because above line have an error"
   ]
  },
  {
   "cell_type": "code",
   "execution_count": 3,
   "id": "f628a499",
   "metadata": {},
   "outputs": [
    {
     "name": "stdout",
     "output_type": "stream",
     "text": [
      "5\n"
     ]
    }
   ],
   "source": [
    "a = 10\n",
    "b = int(input())\n",
    "c = a/b"
   ]
  },
  {
   "cell_type": "code",
   "execution_count": 4,
   "id": "0966e872",
   "metadata": {},
   "outputs": [
    {
     "name": "stdout",
     "output_type": "stream",
     "text": [
      "hjbd\n"
     ]
    },
    {
     "ename": "ValueError",
     "evalue": "invalid literal for int() with base 10: 'hjbd'",
     "output_type": "error",
     "traceback": [
      "\u001b[1;31m---------------------------------------------------------------------------\u001b[0m",
      "\u001b[1;31mValueError\u001b[0m                                Traceback (most recent call last)",
      "Input \u001b[1;32mIn [4]\u001b[0m, in \u001b[0;36m<cell line: 2>\u001b[1;34m()\u001b[0m\n\u001b[0;32m      1\u001b[0m a \u001b[38;5;241m=\u001b[39m \u001b[38;5;241m10\u001b[39m\n\u001b[1;32m----> 2\u001b[0m b \u001b[38;5;241m=\u001b[39m \u001b[38;5;28;43mint\u001b[39;49m\u001b[43m(\u001b[49m\u001b[38;5;28;43minput\u001b[39;49m\u001b[43m(\u001b[49m\u001b[43m)\u001b[49m\u001b[43m)\u001b[49m\n\u001b[0;32m      3\u001b[0m c \u001b[38;5;241m=\u001b[39m a\u001b[38;5;241m/\u001b[39mb\n",
      "\u001b[1;31mValueError\u001b[0m: invalid literal for int() with base 10: 'hjbd'"
     ]
    }
   ],
   "source": [
    "a = 10\n",
    "b = int(input())\n",
    "c = a/b"
   ]
  },
  {
   "cell_type": "code",
   "execution_count": 5,
   "id": "a2e6362d",
   "metadata": {},
   "outputs": [
    {
     "ename": "SyntaxError",
     "evalue": "unexpected EOF while parsing (2879036312.py, line 4)",
     "output_type": "error",
     "traceback": [
      "\u001b[1;36m  Input \u001b[1;32mIn [5]\u001b[1;36m\u001b[0m\n\u001b[1;33m    c = a/b\u001b[0m\n\u001b[1;37m           ^\u001b[0m\n\u001b[1;31mSyntaxError\u001b[0m\u001b[1;31m:\u001b[0m unexpected EOF while parsing\n"
     ]
    }
   ],
   "source": [
    "try:\n",
    "    a = 10\n",
    "    b = int(input())\n",
    "    c = a/b"
   ]
  },
  {
   "cell_type": "code",
   "execution_count": 2,
   "id": "a9dc11f6",
   "metadata": {},
   "outputs": [
    {
     "name": "stdout",
     "output_type": "stream",
     "text": [
      "5\n",
      "2.0\n"
     ]
    }
   ],
   "source": [
    "try:\n",
    "    a = 10\n",
    "    b = int(input())\n",
    "    c = a/b\n",
    "    print(c)\n",
    "except:\n",
    "    pass"
   ]
  },
  {
   "cell_type": "code",
   "execution_count": 3,
   "id": "2714d8c0",
   "metadata": {},
   "outputs": [
    {
     "name": "stdout",
     "output_type": "stream",
     "text": [
      "ga\n"
     ]
    }
   ],
   "source": [
    "try:\n",
    "    a = 10\n",
    "    b = int(input())\n",
    "    c = a/b\n",
    "except:\n",
    "    pass"
   ]
  },
  {
   "cell_type": "code",
   "execution_count": 4,
   "id": "8b241895",
   "metadata": {},
   "outputs": [
    {
     "name": "stdout",
     "output_type": "stream",
     "text": [
      "5\n",
      "2.0\n"
     ]
    }
   ],
   "source": [
    "try:\n",
    "    a = 10\n",
    "    b = int(input())\n",
    "    c = a/b\n",
    "    print(c)\n",
    "except Exception as e:\n",
    "    print(e)"
   ]
  },
  {
   "cell_type": "code",
   "execution_count": 12,
   "id": "f62cf4af",
   "metadata": {},
   "outputs": [
    {
     "name": "stdout",
     "output_type": "stream",
     "text": [
      "sjdnkjas\n",
      "invalid literal for int() with base 10: 'sjdnkjas'\n"
     ]
    }
   ],
   "source": [
    "try:\n",
    "    a = 10\n",
    "    b = int(input())\n",
    "    c = a/b\n",
    "    print(c)\n",
    "except Exception as e:\n",
    "    print(e)"
   ]
  },
  {
   "cell_type": "code",
   "execution_count": 6,
   "id": "9b27d175",
   "metadata": {},
   "outputs": [
    {
     "name": "stdout",
     "output_type": "stream",
     "text": [
      "dtgyj\n",
      "there was an issue with b variable\n",
      "invalid literal for int() with base 10: 'dtgyj'\n"
     ]
    }
   ],
   "source": [
    "try:\n",
    "    a = 10\n",
    "    b = int(input())\n",
    "    c = a/b\n",
    "    print(c)\n",
    "except Exception as e:\n",
    "    print(\"there was an issue with b variable\")\n",
    "    print(e)"
   ]
  },
  {
   "cell_type": "code",
   "execution_count": 7,
   "id": "6b308bdd",
   "metadata": {},
   "outputs": [
    {
     "name": "stdout",
     "output_type": "stream",
     "text": [
      "10\n",
      "10\n",
      "it will be executed once try block will be able to finish itself without any error otherwise won't executed.\n"
     ]
    }
   ],
   "source": [
    "try:\n",
    "    a = input()\n",
    "    b = int(a)\n",
    "    print(b)\n",
    "except Exception:\n",
    "    print(\"Code will come to this block if there is an issue with try block\")\n",
    "    print(Exception)\n",
    "else:\n",
    "    print(\"it will be executed once try block will be able to finish itself without any error otherwise won't executed.\")"
   ]
  },
  {
   "cell_type": "code",
   "execution_count": 3,
   "id": "1519c4ca",
   "metadata": {},
   "outputs": [
    {
     "name": "stdout",
     "output_type": "stream",
     "text": [
      "snv\n",
      "Code will come to this block if there is an issue with try block\n",
      "<class 'Exception'>\n"
     ]
    }
   ],
   "source": [
    "# agar try nhi hua sahi se execute to code except block me chle jayega error ka pta lgane\n",
    "# aur agar try sahi se execute ho gya to code else block me jump krega without entering into except block\n",
    "try:\n",
    "    a = input()\n",
    "    b = int(a)\n",
    "    print(b)\n",
    "except Exception:\n",
    "    print(\"Code will come to this block if there is an issue with try block\")\n",
    "    print(Exception)\n",
    "else:\n",
    "    print(\"it will be executed once try block will be able to finish itseld otherwise won't executed.\")"
   ]
  },
  {
   "cell_type": "code",
   "execution_count": 1,
   "id": "73fa4d50",
   "metadata": {},
   "outputs": [
    {
     "name": "stdout",
     "output_type": "stream",
     "text": [
      "fmc\n",
      "Code will come to this block if there is an issue with try block\n",
      "invalid literal for int() with base 10: 'fmc'\n"
     ]
    }
   ],
   "source": [
    "try:\n",
    "    a = input()\n",
    "    b = int(a)\n",
    "    print(b)\n",
    "except Exception as e:\n",
    "    print(\"Code will come to this block if there is an issue with try block\")\n",
    "    print(e)\n",
    "else:\n",
    "    print(\"it will be executed once try block will be able to finish itseld otherwise won't executed.\")"
   ]
  },
  {
   "cell_type": "code",
   "execution_count": 9,
   "id": "a10bb460",
   "metadata": {},
   "outputs": [],
   "source": [
    "# if u r writing try block then except block is mendetory to handle the error "
   ]
  },
  {
   "cell_type": "code",
   "execution_count": 10,
   "id": "c5035a88",
   "metadata": {},
   "outputs": [
    {
     "name": "stdout",
     "output_type": "stream",
     "text": [
      "10\n",
      "10\n",
      "20\n",
      "when try block worked sucessfully without any error\n",
      "it will execute itself in all the situation\n"
     ]
    }
   ],
   "source": [
    "try:\n",
    "    a = int(input())\n",
    "    b = int(input())\n",
    "    c = a+b\n",
    "    print(c)\n",
    "except Exception as e:\n",
    "    print(\"in case of failure it wil execute\")\n",
    "    print(e)\n",
    "    \n",
    "else:\n",
    "    print(\"when try block worked sucessfully without any error\")\n",
    "finally:\n",
    "    print(\"it will execute itself in all the situation\")"
   ]
  },
  {
   "cell_type": "code",
   "execution_count": 11,
   "id": "2c050f34",
   "metadata": {},
   "outputs": [
    {
     "name": "stdout",
     "output_type": "stream",
     "text": [
      "hfds\n",
      "in case of failure it wil execute\n",
      "invalid literal for int() with base 10: 'hfds'\n",
      "it will execute itself in all the situation\n"
     ]
    }
   ],
   "source": [
    "try:\n",
    "    a = int(input())\n",
    "    b = int(input())\n",
    "    c = a+b\n",
    "    print(c)\n",
    "    \n",
    "except Exception as e:\n",
    "    print(\"in case of failure it wil execute\")\n",
    "    print(e)\n",
    "    \n",
    "else:\n",
    "    print(\"when try block worked sucessfully without any error\")\n",
    "\n",
    "finally:\n",
    "    print(\"it will execute itself in all the situation\")"
   ]
  },
  {
   "cell_type": "code",
   "execution_count": 9,
   "id": "429e5ff7",
   "metadata": {},
   "outputs": [
    {
     "name": "stdout",
     "output_type": "stream",
     "text": [
      "jnfkjs\n",
      "in case of failure it wil execute\n",
      "it will execute itself in all the situation\n"
     ]
    }
   ],
   "source": [
    "try:\n",
    "    a = int(input())\n",
    "    b = int(input())\n",
    "    c = a+b\n",
    "    print(c)\n",
    "except Exception as e:\n",
    "    print(\"in case of failure it wil execute\")\n",
    "#     print(e)\n",
    "finally:\n",
    "    print(\"it will execute itself in all the situation\")"
   ]
  },
  {
   "cell_type": "code",
   "execution_count": 10,
   "id": "df0509e5",
   "metadata": {},
   "outputs": [
    {
     "name": "stdout",
     "output_type": "stream",
     "text": [
      "10\n",
      "rd\n",
      "in case of failure it wil execute\n",
      "invalid literal for int() with base 10: 'rd'\n",
      "it will execute itself in all the situation\n"
     ]
    }
   ],
   "source": [
    "try:\n",
    "    a = int(input())\n",
    "    b = int(input())\n",
    "    c = a+b\n",
    "    print(c)\n",
    "    \n",
    "except Exception as e:\n",
    "    print(\"in case of failure it wil execute\")\n",
    "    print(e)\n",
    "    \n",
    "else:\n",
    "    print(\"it will be executed once try block will be able to finish itseld otherwise won't executed.\")\n",
    "\n",
    "finally:\n",
    "    print(\"it will execute itself in all the situation\")"
   ]
  },
  {
   "cell_type": "code",
   "execution_count": 12,
   "id": "f9db8e1f",
   "metadata": {},
   "outputs": [
    {
     "name": "stdout",
     "output_type": "stream",
     "text": [
      "12\n",
      "12\n",
      "24\n",
      "it will be executed once try block will be able to finish itself otherwise won't executed.\n",
      "it will execute itself in all the situation\n"
     ]
    }
   ],
   "source": [
    "try:\n",
    "    a = int(input())\n",
    "    b = int(input())\n",
    "    c = a+b\n",
    "    print(c)\n",
    "    \n",
    "except Exception as e:\n",
    "    print(\"in case of failure it wil execute\")\n",
    "    print(e)\n",
    "    \n",
    "else:\n",
    "    print(\"it will be executed once try block will be able to finish itself otherwise won't executed.\")\n",
    "\n",
    "finally:\n",
    "    print(\"it will execute itself in all the situation\")"
   ]
  },
  {
   "cell_type": "code",
   "execution_count": 13,
   "id": "6f736820",
   "metadata": {},
   "outputs": [
    {
     "name": "stdout",
     "output_type": "stream",
     "text": [
      "ggh\n",
      "ValueError\n",
      "invalid literal for int() with base 10: 'ggh'\n",
      "it will execute itself in all the situation\n"
     ]
    }
   ],
   "source": [
    "# I CAN WRITE VARIETY OF ERRORS IN A EXCEPT BLOCKS\n",
    "try:\n",
    "    a = int(input())\n",
    "    b = int(input())\n",
    "    c = a+b\n",
    "    print(c)\n",
    "    \n",
    "except IOError as e:\n",
    "    print(\"in case of failure it wil execute\")\n",
    "    print(\"it's IO error\")\n",
    "    print(e)\n",
    "except ArithmeticError as e:\n",
    "    print(\"it's ArithmeticError\")\n",
    "    print(e)\n",
    "except ValueError as e:\n",
    "    print(\"ValueError\")\n",
    "    print(e)\n",
    "except FileNotFoundError as e:\n",
    "    print(\"FileNotFoundError\")\n",
    "    print(e)\n",
    "except RuntimeError as e:\n",
    "    print(\"RuntimeError\")\n",
    "    print(e)\n",
    "except Exception as e:\n",
    "    print(\"in case of failure it wil execute\")\n",
    "    print(e)\n",
    "else:\n",
    "    print(\"it will be executed once try block will be able to finish itself otherwise won't executed.\")\n",
    "\n",
    "finally:\n",
    "    print(\"it will execute itself in all the situation\")"
   ]
  },
  {
   "cell_type": "markdown",
   "id": "7fa2c075",
   "metadata": {},
   "source": [
    "as we know exception is the parent class of error and all ValueError is the subclass of error\n",
    "and we have written exception 1st in the code thus as the code will encounter the error,\n",
    "it will enter into the except block and enter into the first code"
   ]
  },
  {
   "cell_type": "code",
   "execution_count": 14,
   "id": "0878fdd8",
   "metadata": {},
   "outputs": [
    {
     "name": "stdout",
     "output_type": "stream",
     "text": [
      "ghd\n",
      "in case of failure it wil execute\n",
      "Exception Parent Error\n",
      "invalid literal for int() with base 10: 'ghd'\n",
      "it will execute itself in all the situation\n"
     ]
    }
   ],
   "source": [
    "\n",
    "try:\n",
    "    a = int(input())\n",
    "    b = int(input())\n",
    "    c = a+b\n",
    "    print(c)\n",
    "    \n",
    "except Exception as e:\n",
    "    print(\"in case of failure it wil execute\")\n",
    "    print(\"Exception Parent Error\")\n",
    "    print(e)    \n",
    "except IOError as e:\n",
    "    print(\"IO error\")\n",
    "    print(e)\n",
    "except ArithmeticError as e:\n",
    "    print(\"ArithmeticError\")\n",
    "    print(e)\n",
    "except ValueError as e:\n",
    "    print(\"ValueError\")\n",
    "    print(e)\n",
    "except FileNotFoundError as e:\n",
    "    print(\"FileNotFoundError\")\n",
    "    print(e)\n",
    "except RuntimeError as e:\n",
    "    print(\"RuntimeError\")\n",
    "    print(e)\n",
    "\n",
    "else:\n",
    "    print(\"it will be executed once try block will be able to finish itseld otherwise won't executed.\")\n",
    "\n",
    "finally:\n",
    "    print(\"it will execute itself in all the situation\")"
   ]
  },
  {
   "cell_type": "code",
   "execution_count": 16,
   "id": "1b9300e0",
   "metadata": {},
   "outputs": [],
   "source": [
    "def test():\n",
    "    try:\n",
    "        a = int(input(\"enter numeric passcode\"))\n",
    "        return a\n",
    "    except:\n",
    "        print(\"user has not enter the numeric passcode\")\n",
    "        \n",
    "        try:\n",
    "            a = int(input(\"enter numeric passcode 2nd try\"))\n",
    "            return a\n",
    "        except:\n",
    "            print(\"user has entered wrong code 2 times\")\n",
    "            \n",
    "            try:\n",
    "                a = int(input(\"enter numeric passcode 3rd time\"))\n",
    "                return a\n",
    "            except:\n",
    "                print(\"user has entered wrong code 3 times\")\n",
    "    else:\n",
    "        print(\"login sucessfull\")\n",
    "    "
   ]
  },
  {
   "cell_type": "code",
   "execution_count": 2,
   "id": "a41abf4a",
   "metadata": {},
   "outputs": [
    {
     "name": "stdout",
     "output_type": "stream",
     "text": [
      "enter numeric passcodedfv\n",
      "user has not enter the numeric passcode\n",
      "enter numeric passcode 2nd trysdf\n",
      "user has entered wrong code 2 times\n",
      "enter numeric passcode 3rd timesfd\n",
      "user has entered wrong code 3 times\n"
     ]
    }
   ],
   "source": [
    "test()"
   ]
  },
  {
   "cell_type": "code",
   "execution_count": 3,
   "id": "18ef33d1",
   "metadata": {},
   "outputs": [
    {
     "name": "stdout",
     "output_type": "stream",
     "text": [
      "enter numeric passcodefd\n",
      "user has not enter the numeric passcode\n",
      "enter numeric passcode 2nd try123\n"
     ]
    },
    {
     "data": {
      "text/plain": [
       "123"
      ]
     },
     "execution_count": 3,
     "metadata": {},
     "output_type": "execute_result"
    }
   ],
   "source": [
    "test() "
   ]
  },
  {
   "cell_type": "code",
   "execution_count": 17,
   "id": "26318431",
   "metadata": {},
   "outputs": [
    {
     "name": "stdout",
     "output_type": "stream",
     "text": [
      "enter numeric passcode1234\n"
     ]
    },
    {
     "data": {
      "text/plain": [
       "1234"
      ]
     },
     "execution_count": 17,
     "metadata": {},
     "output_type": "execute_result"
    }
   ],
   "source": [
    "test()"
   ]
  },
  {
   "cell_type": "code",
   "execution_count": 25,
   "id": "c7b66222",
   "metadata": {},
   "outputs": [],
   "source": [
    "# use loop for aksing the input -  continue will send code to again while loop\n",
    "def test1():\n",
    "    while True:\n",
    "        try:\n",
    "            a = int(input(\"enter an intger\"))\n",
    "            return a\n",
    "        except Exception as e:\n",
    "            print(\"this is an issue:\", e)\n",
    "            continue        #code not successful thus continue to lopping\n",
    "        else:\n",
    "            print(\"entered value successfully\")\n",
    "            break       #code succesfull break the loop and stop asking\n"
   ]
  },
  {
   "cell_type": "code",
   "execution_count": 26,
   "id": "5af1b5c1",
   "metadata": {},
   "outputs": [
    {
     "name": "stdout",
     "output_type": "stream",
     "text": [
      "enter an intgercbnc\n",
      "this is an issue: invalid literal for int() with base 10: 'cbnc'\n",
      "enter an intgerxgbnv\n",
      "this is an issue: invalid literal for int() with base 10: 'xgbnv'\n",
      "enter an intgergvb\n",
      "this is an issue: invalid literal for int() with base 10: 'gvb'\n",
      "enter an intger123\n"
     ]
    },
    {
     "data": {
      "text/plain": [
       "123"
      ]
     },
     "execution_count": 26,
     "metadata": {},
     "output_type": "execute_result"
    }
   ],
   "source": [
    "test1()"
   ]
  },
  {
   "cell_type": "markdown",
   "id": "e0e988be",
   "metadata": {},
   "source": [
    "building our own error exeption "
   ]
  },
  {
   "cell_type": "code",
   "execution_count": 9,
   "id": "38a5cbb3",
   "metadata": {},
   "outputs": [
    {
     "data": {
      "text/plain": [
       "2.0"
      ]
     },
     "execution_count": 9,
     "metadata": {},
     "output_type": "execute_result"
    }
   ],
   "source": [
    "a = 10\n",
    "b = 5\n",
    "c = a/b\n",
    "c"
   ]
  },
  {
   "cell_type": "markdown",
   "id": "ac426fbe",
   "metadata": {},
   "source": [
    "this above statement is valid but what if i want to enter any other value than 5 in the b and if user enter 5 it will show the error like in case of ZeroDivisionError"
   ]
  },
  {
   "cell_type": "code",
   "execution_count": 10,
   "id": "fa123c26",
   "metadata": {},
   "outputs": [
    {
     "ename": "ZeroDivisionError",
     "evalue": "division by zero",
     "output_type": "error",
     "traceback": [
      "\u001b[1;31m---------------------------------------------------------------------------\u001b[0m",
      "\u001b[1;31mZeroDivisionError\u001b[0m                         Traceback (most recent call last)",
      "Input \u001b[1;32mIn [10]\u001b[0m, in \u001b[0;36m<cell line: 1>\u001b[1;34m()\u001b[0m\n\u001b[1;32m----> 1\u001b[0m \u001b[38;5;241;43m10\u001b[39;49m\u001b[38;5;241;43m/\u001b[39;49m\u001b[38;5;241;43m0\u001b[39;49m\n",
      "\u001b[1;31mZeroDivisionError\u001b[0m: division by zero"
     ]
    }
   ],
   "source": [
    "10/0"
   ]
  },
  {
   "cell_type": "code",
   "execution_count": 27,
   "id": "5e30acc6",
   "metadata": {},
   "outputs": [
    {
     "name": "stdout",
     "output_type": "stream",
     "text": [
      "4\n"
     ]
    }
   ],
   "source": [
    "def errorfunc(b):\n",
    "    if b == 5:\n",
    "        raise Exception(\"can't enter 5\")\n",
    "try:\n",
    "    b  = int(input())\n",
    "    errorfunc(b)\n",
    "except Exception as e:\n",
    "    print(e)\n",
    "    "
   ]
  },
  {
   "cell_type": "code",
   "execution_count": 28,
   "id": "bd402f4f",
   "metadata": {},
   "outputs": [
    {
     "name": "stdout",
     "output_type": "stream",
     "text": [
      "5\n",
      "can't enter 5\n"
     ]
    }
   ],
   "source": [
    "def errorfunc(b):\n",
    "    if b == 5:\n",
    "        raise Exception(\"can't enter 5\")\n",
    "try:\n",
    "    b  = int(input())\n",
    "    errorfunc(b)\n",
    "except Exception as e:\n",
    "    print(e)"
   ]
  },
  {
   "cell_type": "code",
   "execution_count": 29,
   "id": "284b6606",
   "metadata": {},
   "outputs": [
    {
     "name": "stdout",
     "output_type": "stream",
     "text": [
      "5\n"
     ]
    }
   ],
   "source": [
    "def errorfunc1(n):\n",
    "    if n < 5:\n",
    "        raise Exception(f\" a is less than 5 \")\n",
    "\n",
    "try:\n",
    "    n = int(input())\n",
    "    errorfunc1(n)\n",
    "except Exception as e:\n",
    "    print(e)"
   ]
  },
  {
   "cell_type": "code",
   "execution_count": 30,
   "id": "54d8711c",
   "metadata": {
    "scrolled": true
   },
   "outputs": [
    {
     "name": "stdout",
     "output_type": "stream",
     "text": [
      "4\n",
      " a is less than 5 \n"
     ]
    }
   ],
   "source": [
    "def errorfunc1(n):\n",
    "    if n < 5:\n",
    "        raise Exception(f\" a is less than 5 \")\n",
    "\n",
    "try:\n",
    "    n = int(input())\n",
    "    errorfunc1(n)\n",
    "except Exception as e:\n",
    "    print(e)"
   ]
  },
  {
   "cell_type": "code",
   "execution_count": 45,
   "id": "4d64fc24",
   "metadata": {
    "scrolled": true
   },
   "outputs": [
    {
     "name": "stdout",
     "output_type": "stream",
     "text": [
      "1997\n",
      "25\n",
      "you are eligible to apply\n"
     ]
    }
   ],
   "source": [
    "def errfun(AGE):\n",
    "    AGE = 2022-int(DOB)\n",
    "    print(AGE)\n",
    "    if AGE<20 or AGE >= 30:\n",
    "        raise Exception(\"you'r age limit is not valid\")\n",
    "try:\n",
    "    DOB = int(input())\n",
    "    errfun(DOB)\n",
    "except Exception as e:\n",
    "    print(e)\n",
    "    \n",
    "else:\n",
    "    print('you are eligible to apply')"
   ]
  },
  {
   "cell_type": "code",
   "execution_count": 46,
   "id": "30ed03bd",
   "metadata": {},
   "outputs": [
    {
     "name": "stdout",
     "output_type": "stream",
     "text": [
      "2005\n",
      "17\n",
      "you'r age limit is not valid\n"
     ]
    }
   ],
   "source": [
    "def errfun(AGE):\n",
    "    AGE = 2022-int(DOB)\n",
    "    print(AGE)\n",
    "    if AGE<20 or AGE >= 30:\n",
    "        raise Exception(\"you'r age limit is not valid\")\n",
    "try:\n",
    "    DOB = int(input())\n",
    "    errfun(DOB)\n",
    "except Exception as e:\n",
    "    print(e)\n",
    "    \n",
    "else:\n",
    "    print('you are eligible to apply')"
   ]
  },
  {
   "cell_type": "code",
   "execution_count": 47,
   "id": "3e7adc2e",
   "metadata": {},
   "outputs": [
    {
     "name": "stdout",
     "output_type": "stream",
     "text": [
      "invalid literal for int() with base 10: 'raj'\n",
      "1.0\n",
      "1.0\n"
     ]
    }
   ],
   "source": [
    "l = ['raj', 5,6]\n",
    "for i in l:\n",
    "    try:\n",
    "        div = int(i)/int(i)\n",
    "        print(div)\n",
    "    except Exception as e:\n",
    "        print(e)"
   ]
  },
  {
   "cell_type": "code",
   "execution_count": 49,
   "id": "f0190c85",
   "metadata": {},
   "outputs": [],
   "source": [
    "def test2():\n",
    "    try:\n",
    "        a = int(input(\"enter an integer value\"))\n",
    "        print(a)\n",
    "        if a <0:\n",
    "            raise ValueError(\"you have entered negative value\", a)\n",
    "    except ValueError as e:\n",
    "        print(e)"
   ]
  },
  {
   "cell_type": "code",
   "execution_count": 50,
   "id": "9acdaf61",
   "metadata": {},
   "outputs": [
    {
     "name": "stdout",
     "output_type": "stream",
     "text": [
      "enter an integer value3\n",
      "3\n"
     ]
    }
   ],
   "source": [
    "test2()"
   ]
  },
  {
   "cell_type": "code",
   "execution_count": 51,
   "id": "22b678ee",
   "metadata": {},
   "outputs": [
    {
     "name": "stdout",
     "output_type": "stream",
     "text": [
      "enter an integer value-1\n",
      "-1\n",
      "('you have entered negative value', -1)\n"
     ]
    }
   ],
   "source": [
    "test2()"
   ]
  },
  {
   "cell_type": "code",
   "execution_count": 1,
   "id": "be12cd6d",
   "metadata": {},
   "outputs": [],
   "source": [
    "import math"
   ]
  },
  {
   "cell_type": "code",
   "execution_count": 2,
   "id": "2804f99d",
   "metadata": {},
   "outputs": [],
   "source": [
    "def test3(a):\n",
    "    \n",
    "    if  type(a) != int:\n",
    "        raise TypeError(\"this is a typing mistake\",a)\n",
    "    elif a < 0:\n",
    "        raise Exception(\"entered negative value\",a)\n",
    "    else:\n",
    "        print(math.sqrt(a))\n"
   ]
  },
  {
   "cell_type": "code",
   "execution_count": 3,
   "id": "8a2e677f",
   "metadata": {},
   "outputs": [
    {
     "name": "stdout",
     "output_type": "stream",
     "text": [
      "2.0\n"
     ]
    }
   ],
   "source": [
    "test3(4)"
   ]
  },
  {
   "cell_type": "code",
   "execution_count": 4,
   "id": "16bf0b60",
   "metadata": {},
   "outputs": [
    {
     "ename": "TypeError",
     "evalue": "('this is a typing mistake', 4.5)",
     "output_type": "error",
     "traceback": [
      "\u001b[1;31m---------------------------------------------------------------------------\u001b[0m",
      "\u001b[1;31mTypeError\u001b[0m                                 Traceback (most recent call last)",
      "Input \u001b[1;32mIn [4]\u001b[0m, in \u001b[0;36m<cell line: 1>\u001b[1;34m()\u001b[0m\n\u001b[1;32m----> 1\u001b[0m \u001b[43mtest3\u001b[49m\u001b[43m(\u001b[49m\u001b[38;5;241;43m4.5\u001b[39;49m\u001b[43m)\u001b[49m\n",
      "Input \u001b[1;32mIn [2]\u001b[0m, in \u001b[0;36mtest3\u001b[1;34m(a)\u001b[0m\n\u001b[0;32m      1\u001b[0m \u001b[38;5;28;01mdef\u001b[39;00m \u001b[38;5;21mtest3\u001b[39m(a):\n\u001b[0;32m      3\u001b[0m     \u001b[38;5;28;01mif\u001b[39;00m  \u001b[38;5;28mtype\u001b[39m(a) \u001b[38;5;241m!=\u001b[39m \u001b[38;5;28mint\u001b[39m:\n\u001b[1;32m----> 4\u001b[0m         \u001b[38;5;28;01mraise\u001b[39;00m \u001b[38;5;167;01mTypeError\u001b[39;00m(\u001b[38;5;124m\"\u001b[39m\u001b[38;5;124mthis is a typing mistake\u001b[39m\u001b[38;5;124m\"\u001b[39m,a)\n\u001b[0;32m      5\u001b[0m     \u001b[38;5;28;01melif\u001b[39;00m a \u001b[38;5;241m<\u001b[39m \u001b[38;5;241m0\u001b[39m:\n\u001b[0;32m      6\u001b[0m         \u001b[38;5;28;01mraise\u001b[39;00m \u001b[38;5;167;01mException\u001b[39;00m(\u001b[38;5;124m\"\u001b[39m\u001b[38;5;124mentered negative value\u001b[39m\u001b[38;5;124m\"\u001b[39m,a)\n",
      "\u001b[1;31mTypeError\u001b[0m: ('this is a typing mistake', 4.5)"
     ]
    }
   ],
   "source": [
    "test3(4.5)"
   ]
  },
  {
   "cell_type": "code",
   "execution_count": 5,
   "id": "97307ed6",
   "metadata": {},
   "outputs": [
    {
     "ename": "Exception",
     "evalue": "('entered negative value', -45)",
     "output_type": "error",
     "traceback": [
      "\u001b[1;31m---------------------------------------------------------------------------\u001b[0m",
      "\u001b[1;31mException\u001b[0m                                 Traceback (most recent call last)",
      "Input \u001b[1;32mIn [5]\u001b[0m, in \u001b[0;36m<cell line: 1>\u001b[1;34m()\u001b[0m\n\u001b[1;32m----> 1\u001b[0m \u001b[43mtest3\u001b[49m\u001b[43m(\u001b[49m\u001b[38;5;241;43m-\u001b[39;49m\u001b[38;5;241;43m45\u001b[39;49m\u001b[43m)\u001b[49m\n",
      "Input \u001b[1;32mIn [2]\u001b[0m, in \u001b[0;36mtest3\u001b[1;34m(a)\u001b[0m\n\u001b[0;32m      4\u001b[0m     \u001b[38;5;28;01mraise\u001b[39;00m \u001b[38;5;167;01mTypeError\u001b[39;00m(\u001b[38;5;124m\"\u001b[39m\u001b[38;5;124mthis is a typing mistake\u001b[39m\u001b[38;5;124m\"\u001b[39m,a)\n\u001b[0;32m      5\u001b[0m \u001b[38;5;28;01melif\u001b[39;00m a \u001b[38;5;241m<\u001b[39m \u001b[38;5;241m0\u001b[39m:\n\u001b[1;32m----> 6\u001b[0m     \u001b[38;5;28;01mraise\u001b[39;00m \u001b[38;5;167;01mException\u001b[39;00m(\u001b[38;5;124m\"\u001b[39m\u001b[38;5;124mentered negative value\u001b[39m\u001b[38;5;124m\"\u001b[39m,a)\n\u001b[0;32m      7\u001b[0m \u001b[38;5;28;01melse\u001b[39;00m:\n\u001b[0;32m      8\u001b[0m     \u001b[38;5;28mprint\u001b[39m(math\u001b[38;5;241m.\u001b[39msqrt(a))\n",
      "\u001b[1;31mException\u001b[0m: ('entered negative value', -45)"
     ]
    }
   ],
   "source": [
    "test3(-45)"
   ]
  },
  {
   "cell_type": "code",
   "execution_count": 6,
   "id": "a80c9e46",
   "metadata": {},
   "outputs": [
    {
     "name": "stdout",
     "output_type": "stream",
     "text": [
      "('entered negative value', -45)\n"
     ]
    }
   ],
   "source": [
    "try:\n",
    "    test3(-45)\n",
    "except Exception as e:\n",
    "    print(e)"
   ]
  },
  {
   "cell_type": "code",
   "execution_count": 16,
   "id": "5fb9287e",
   "metadata": {},
   "outputs": [
    {
     "name": "stdout",
     "output_type": "stream",
     "text": [
      "('this is a typing mistake', 373.3)\n"
     ]
    }
   ],
   "source": [
    "try:\n",
    "    test3(373.3)\n",
    "except Exception as e:\n",
    "    print(e)"
   ]
  },
  {
   "cell_type": "code",
   "execution_count": null,
   "id": "13a67b61",
   "metadata": {},
   "outputs": [],
   "source": []
  },
  {
   "cell_type": "code",
   "execution_count": null,
   "id": "fa902539",
   "metadata": {},
   "outputs": [],
   "source": []
  }
 ],
 "metadata": {
  "kernelspec": {
   "display_name": "Python 3 (ipykernel)",
   "language": "python",
   "name": "python3"
  },
  "language_info": {
   "codemirror_mode": {
    "name": "ipython",
    "version": 3
   },
   "file_extension": ".py",
   "mimetype": "text/x-python",
   "name": "python",
   "nbconvert_exporter": "python",
   "pygments_lexer": "ipython3",
   "version": "3.9.12"
  }
 },
 "nbformat": 4,
 "nbformat_minor": 5
}
