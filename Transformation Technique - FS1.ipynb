{
 "cells": [
  {
   "cell_type": "markdown",
   "id": "ef12f8f2",
   "metadata": {},
   "source": [
    "##### Standardization(Why standardization?)\n",
    "Standardization comes into picture when features of input data set have large differences between their ranges, or simply when they are measured in different measurement units (e.g., Pounds, Meters, Miles … etc).\n",
    "\n",
    "We try to bring all the variables or features to a similar scale. standarisation means centering the variable at zero.\n",
    "z=(x-x_mean)/std"
   ]
  },
  {
   "cell_type": "code",
   "execution_count": 1,
   "id": "ed359b78",
   "metadata": {},
   "outputs": [
    {
     "data": {
      "text/html": [
       "<div>\n",
       "<style scoped>\n",
       "    .dataframe tbody tr th:only-of-type {\n",
       "        vertical-align: middle;\n",
       "    }\n",
       "\n",
       "    .dataframe tbody tr th {\n",
       "        vertical-align: top;\n",
       "    }\n",
       "\n",
       "    .dataframe thead th {\n",
       "        text-align: right;\n",
       "    }\n",
       "</style>\n",
       "<table border=\"1\" class=\"dataframe\">\n",
       "  <thead>\n",
       "    <tr style=\"text-align: right;\">\n",
       "      <th></th>\n",
       "      <th>pclass</th>\n",
       "      <th>age</th>\n",
       "      <th>fare</th>\n",
       "      <th>survived</th>\n",
       "    </tr>\n",
       "  </thead>\n",
       "  <tbody>\n",
       "    <tr>\n",
       "      <th>0</th>\n",
       "      <td>3</td>\n",
       "      <td>NaN</td>\n",
       "      <td>7.7333</td>\n",
       "      <td>1</td>\n",
       "    </tr>\n",
       "    <tr>\n",
       "      <th>1</th>\n",
       "      <td>3</td>\n",
       "      <td>38.0</td>\n",
       "      <td>8.6625</td>\n",
       "      <td>0</td>\n",
       "    </tr>\n",
       "    <tr>\n",
       "      <th>2</th>\n",
       "      <td>3</td>\n",
       "      <td>30.0</td>\n",
       "      <td>24.1500</td>\n",
       "      <td>0</td>\n",
       "    </tr>\n",
       "    <tr>\n",
       "      <th>3</th>\n",
       "      <td>2</td>\n",
       "      <td>54.0</td>\n",
       "      <td>23.0000</td>\n",
       "      <td>1</td>\n",
       "    </tr>\n",
       "    <tr>\n",
       "      <th>4</th>\n",
       "      <td>2</td>\n",
       "      <td>40.0</td>\n",
       "      <td>13.0000</td>\n",
       "      <td>0</td>\n",
       "    </tr>\n",
       "  </tbody>\n",
       "</table>\n",
       "</div>"
      ],
      "text/plain": [
       "   pclass   age     fare  survived\n",
       "0       3   NaN   7.7333         1\n",
       "1       3  38.0   8.6625         0\n",
       "2       3  30.0  24.1500         0\n",
       "3       2  54.0  23.0000         1\n",
       "4       2  40.0  13.0000         0"
      ]
     },
     "execution_count": 1,
     "metadata": {},
     "output_type": "execute_result"
    }
   ],
   "source": [
    "import pandas as pd\n",
    "df = pd.read_csv(r\"D:\\data ML\\Datasets\\titanic_train.csv\", usecols=['pclass','age','fare','survived'])\n",
    "df.head()"
   ]
  },
  {
   "cell_type": "code",
   "execution_count": 2,
   "id": "a4607e66",
   "metadata": {},
   "outputs": [
    {
     "data": {
      "text/plain": [
       "174"
      ]
     },
     "execution_count": 2,
     "metadata": {},
     "output_type": "execute_result"
    }
   ],
   "source": [
    "# there are some nun value in age col\n",
    "\n",
    "df['age'].isnull().sum()"
   ]
  },
  {
   "cell_type": "code",
   "execution_count": 3,
   "id": "f0a57db6",
   "metadata": {},
   "outputs": [],
   "source": [
    "df['age'].fillna(df.age.median(),inplace = True)"
   ]
  },
  {
   "cell_type": "code",
   "execution_count": 4,
   "id": "f0ce0914",
   "metadata": {},
   "outputs": [
    {
     "data": {
      "text/plain": [
       "0"
      ]
     },
     "execution_count": 4,
     "metadata": {},
     "output_type": "execute_result"
    }
   ],
   "source": [
    "df['age'].isnull().sum()"
   ]
  },
  {
   "cell_type": "code",
   "execution_count": 9,
   "id": "ea770e26",
   "metadata": {},
   "outputs": [],
   "source": [
    "### Independent and dependent features\n",
    "# .iloc[start_row:end_row,start_col:end_col]\n",
    "X = df.iloc[:,0:3]\n",
    "y = df.iloc[:,3:]"
   ]
  },
  {
   "cell_type": "code",
   "execution_count": 6,
   "id": "683f7cdd",
   "metadata": {},
   "outputs": [
    {
     "name": "stdout",
     "output_type": "stream",
     "text": [
      "     pclass   age     fare\n",
      "0         3  28.0   7.7333\n",
      "1         3  38.0   8.6625\n",
      "2         3  30.0  24.1500\n",
      "3         2  54.0  23.0000\n",
      "4         2  40.0  13.0000\n",
      "..      ...   ...      ...\n",
      "845       1  55.0  50.0000\n",
      "846       1  58.0  29.7000\n",
      "847       2  24.0  26.0000\n",
      "848       3   3.0  13.7750\n",
      "849       2  52.0  13.0000\n",
      "\n",
      "[850 rows x 3 columns]\n"
     ]
    }
   ],
   "source": [
    "print(X)\n"
   ]
  },
  {
   "cell_type": "code",
   "execution_count": 10,
   "id": "aa235c23",
   "metadata": {},
   "outputs": [
    {
     "name": "stdout",
     "output_type": "stream",
     "text": [
      "     survived\n",
      "0           1\n",
      "1           0\n",
      "2           0\n",
      "3           1\n",
      "4           0\n",
      "..        ...\n",
      "845         0\n",
      "846         0\n",
      "847         1\n",
      "848         0\n",
      "849         0\n",
      "\n",
      "[850 rows x 1 columns]\n"
     ]
    }
   ],
   "source": [
    "print(y)"
   ]
  },
  {
   "cell_type": "code",
   "execution_count": 11,
   "id": "8f5b18b1",
   "metadata": {},
   "outputs": [],
   "source": [
    "from sklearn.model_selection import train_test_split\n",
    "X_train, X_test, y_train, y_test = train_test_split(X, y, test_size=0.33, random_state=42)"
   ]
  },
  {
   "cell_type": "code",
   "execution_count": 12,
   "id": "0e94627d",
   "metadata": {},
   "outputs": [
    {
     "data": {
      "text/html": [
       "<div>\n",
       "<style scoped>\n",
       "    .dataframe tbody tr th:only-of-type {\n",
       "        vertical-align: middle;\n",
       "    }\n",
       "\n",
       "    .dataframe tbody tr th {\n",
       "        vertical-align: top;\n",
       "    }\n",
       "\n",
       "    .dataframe thead th {\n",
       "        text-align: right;\n",
       "    }\n",
       "</style>\n",
       "<table border=\"1\" class=\"dataframe\">\n",
       "  <thead>\n",
       "    <tr style=\"text-align: right;\">\n",
       "      <th></th>\n",
       "      <th>pclass</th>\n",
       "      <th>age</th>\n",
       "      <th>fare</th>\n",
       "    </tr>\n",
       "  </thead>\n",
       "  <tbody>\n",
       "    <tr>\n",
       "      <th>709</th>\n",
       "      <td>3</td>\n",
       "      <td>30.0</td>\n",
       "      <td>8.6625</td>\n",
       "    </tr>\n",
       "    <tr>\n",
       "      <th>827</th>\n",
       "      <td>3</td>\n",
       "      <td>31.0</td>\n",
       "      <td>7.7750</td>\n",
       "    </tr>\n",
       "    <tr>\n",
       "      <th>453</th>\n",
       "      <td>1</td>\n",
       "      <td>28.0</td>\n",
       "      <td>25.7417</td>\n",
       "    </tr>\n",
       "    <tr>\n",
       "      <th>24</th>\n",
       "      <td>3</td>\n",
       "      <td>18.0</td>\n",
       "      <td>8.0500</td>\n",
       "    </tr>\n",
       "    <tr>\n",
       "      <th>316</th>\n",
       "      <td>3</td>\n",
       "      <td>33.0</td>\n",
       "      <td>9.5000</td>\n",
       "    </tr>\n",
       "    <tr>\n",
       "      <th>...</th>\n",
       "      <td>...</td>\n",
       "      <td>...</td>\n",
       "      <td>...</td>\n",
       "    </tr>\n",
       "    <tr>\n",
       "      <th>71</th>\n",
       "      <td>2</td>\n",
       "      <td>39.0</td>\n",
       "      <td>13.0000</td>\n",
       "    </tr>\n",
       "    <tr>\n",
       "      <th>106</th>\n",
       "      <td>2</td>\n",
       "      <td>36.0</td>\n",
       "      <td>13.0000</td>\n",
       "    </tr>\n",
       "    <tr>\n",
       "      <th>270</th>\n",
       "      <td>3</td>\n",
       "      <td>35.0</td>\n",
       "      <td>8.0500</td>\n",
       "    </tr>\n",
       "    <tr>\n",
       "      <th>435</th>\n",
       "      <td>3</td>\n",
       "      <td>28.0</td>\n",
       "      <td>56.4958</td>\n",
       "    </tr>\n",
       "    <tr>\n",
       "      <th>102</th>\n",
       "      <td>3</td>\n",
       "      <td>28.0</td>\n",
       "      <td>8.6625</td>\n",
       "    </tr>\n",
       "  </tbody>\n",
       "</table>\n",
       "<p>569 rows × 3 columns</p>\n",
       "</div>"
      ],
      "text/plain": [
       "     pclass   age     fare\n",
       "709       3  30.0   8.6625\n",
       "827       3  31.0   7.7750\n",
       "453       1  28.0  25.7417\n",
       "24        3  18.0   8.0500\n",
       "316       3  33.0   9.5000\n",
       "..      ...   ...      ...\n",
       "71        2  39.0  13.0000\n",
       "106       2  36.0  13.0000\n",
       "270       3  35.0   8.0500\n",
       "435       3  28.0  56.4958\n",
       "102       3  28.0   8.6625\n",
       "\n",
       "[569 rows x 3 columns]"
      ]
     },
     "execution_count": 12,
     "metadata": {},
     "output_type": "execute_result"
    }
   ],
   "source": [
    "X_train"
   ]
  },
  {
   "cell_type": "code",
   "execution_count": null,
   "id": "2184eee0",
   "metadata": {},
   "outputs": [],
   "source": []
  },
  {
   "cell_type": "markdown",
   "id": "22ffbcba",
   "metadata": {},
   "source": [
    "* STANDARSCALER convert all the value of X based on z-score transformation.\n",
    "* fit_transform  =  apply the z score formula for every column seprately (xi - mu)/S.D"
   ]
  },
  {
   "cell_type": "code",
   "execution_count": 13,
   "id": "8ea764ab",
   "metadata": {},
   "outputs": [],
   "source": [
    "#### standarisation: We use the Standardscaler from sklearn library\n",
    "from sklearn.preprocessing import StandardScaler"
   ]
  },
  {
   "cell_type": "code",
   "execution_count": 14,
   "id": "a855947d",
   "metadata": {},
   "outputs": [],
   "source": [
    "scaler = StandardScaler()\n",
    "### fit vs fit_transform\n",
    "X_train_scaled=scaler.fit_transform(X_train)"
   ]
  },
  {
   "cell_type": "code",
   "execution_count": 15,
   "id": "e9ea655a",
   "metadata": {},
   "outputs": [
    {
     "data": {
      "text/plain": [
       "array([[ 0.81885985,  0.06550022, -0.51987832],\n",
       "       [ 0.81885985,  0.14368824, -0.53988122],\n",
       "       [-1.60156225, -0.09087582, -0.13493925],\n",
       "       ...,\n",
       "       [ 0.81885985,  0.45644032, -0.53368314],\n",
       "       [ 0.81885985, -0.09087582,  0.55821119],\n",
       "       [ 0.81885985, -0.09087582, -0.51987832]])"
      ]
     },
     "execution_count": 15,
     "metadata": {},
     "output_type": "execute_result"
    }
   ],
   "source": [
    "X_train_scaled\n",
    "# mean = 0 AND S.D =1"
   ]
  },
  {
   "cell_type": "code",
   "execution_count": 16,
   "id": "236362fd",
   "metadata": {},
   "outputs": [],
   "source": [
    "X_test_scaled=scaler.transform(X_test)"
   ]
  },
  {
   "cell_type": "code",
   "execution_count": 17,
   "id": "08c0b0c3",
   "metadata": {},
   "outputs": [
    {
     "data": {
      "text/plain": [
       "array([[ 8.18859847e-01, -9.50944039e-01, -5.52182717e-01],\n",
       "       [ 8.18859847e-01, -9.08758195e-02, -5.40821073e-01],\n",
       "       [ 8.18859847e-01, -1.02913206e+00, -5.01002354e-01],\n",
       "       [-3.91351200e-01, -1.26877995e-02, -4.78463882e-01],\n",
       "       [-3.91351200e-01, -1.26877995e-02, -1.29117559e-01],\n",
       "       [ 8.18859847e-01,  6.12816360e-01, -5.40444681e-01],\n",
       "       [-1.60156225e+00,  2.33295280e+00,  4.45144686e-01],\n",
       "       [-3.91351200e-01, -1.26877995e-02, -9.03333561e-02],\n",
       "       [-1.60156225e+00,  4.56440320e-01,  1.08319997e+01],\n",
       "       [ 8.18859847e-01,  1.43688241e-01, -3.09425339e-01],\n",
       "       [-1.60156225e+00, -9.08758195e-02, -1.16721400e-01],\n",
       "       [-1.60156225e+00,  2.41114082e+00, -1.16721400e-01],\n",
       "       [ 8.18859847e-01, -9.08758195e-02, -1.86590664e-01],\n",
       "       [ 8.18859847e-01, -6.38191959e-01, -5.25044143e-01],\n",
       "       [-1.60156225e+00,  1.23832052e+00,  6.23667419e-01],\n",
       "       [-1.60156225e+00,  2.21876261e-01, -2.76944337e-02],\n",
       "       [ 8.18859847e-01,  3.00064281e-01, -5.38096172e-01],\n",
       "       [ 8.18859847e-01, -2.20195236e+00, -2.51388772e-01],\n",
       "       [-1.60156225e+00, -9.08758195e-02, -1.16721400e-01],\n",
       "       [ 8.18859847e-01,  2.21876261e-01, -5.33683139e-01],\n",
       "       [ 8.18859847e-01,  6.55002205e-02, -5.33683139e-01],\n",
       "       [ 8.18859847e-01,  1.16013250e+00, -5.33683139e-01],\n",
       "       [-1.60156225e+00,  1.47288458e+00, -1.16721400e-01],\n",
       "       [ 8.18859847e-01, -9.08758195e-02, -5.37158571e-01],\n",
       "       [ 8.18859847e-01, -9.08758195e-02, -3.88309992e-01],\n",
       "       [-3.91351200e-01,  2.21876261e-01, -1.29117559e-01],\n",
       "       [-1.60156225e+00,  1.39469656e+00,  4.69373544e-01],\n",
       "       [ 8.18859847e-01, -5.60003939e-01, -5.04383125e-01],\n",
       "       [ 8.18859847e-01, -5.60003939e-01, -5.51713917e-01],\n",
       "       [ 8.18859847e-01,  2.21876261e-01, -5.44294252e-01],\n",
       "       [-1.60156225e+00,  1.47288458e+00,  4.22980353e-01],\n",
       "       [ 8.18859847e-01, -9.08758195e-02, -5.60542237e-01],\n",
       "       [-1.60156225e+00, -9.08758195e-02, -1.02465927e-03],\n",
       "       [-3.91351200e-01, -8.72756019e-01,  9.41459879e-01],\n",
       "       [ 8.18859847e-01, -9.08758195e-02, -5.33683139e-01],\n",
       "       [ 8.18859847e-01, -9.08758195e-02, -5.40444681e-01],\n",
       "       [-3.91351200e-01,  3.00064281e-01, -8.96752327e-02],\n",
       "       [-1.60156225e+00, -9.08758195e-02, -9.03333561e-02],\n",
       "       [ 8.18859847e-01, -1.81101226e+00, -2.40119536e-01],\n",
       "       [-1.60156225e+00, -9.08758195e-02, -1.30807945e-01],\n",
       "       [ 8.18859847e-01, -9.08758195e-02, -5.43167328e-01],\n",
       "       [ 8.18859847e-01, -1.02913206e+00, -5.07387503e-01],\n",
       "       [-3.91351200e-01, -9.08758195e-02, -4.22117701e-01],\n",
       "       [ 8.18859847e-01, -1.49826018e+00, -5.86848332e-02],\n",
       "       [ 8.18859847e-01, -9.08758195e-02, -5.70026426e-01],\n",
       "       [ 8.18859847e-01, -6.38191959e-01, -5.40444681e-01],\n",
       "       [ 8.18859847e-01,  1.16013250e+00, -3.52248436e-01],\n",
       "       [-3.91351200e-01, -9.08758195e-02, -4.36767708e-01],\n",
       "       [ 8.18859847e-01, -7.94567999e-01, -5.37158571e-01],\n",
       "       [ 8.18859847e-01, -7.94567999e-01, -3.60323971e-01],\n",
       "       [ 8.18859847e-01, -3.25439879e-01, -5.37158571e-01],\n",
       "       [ 8.18859847e-01, -4.81815919e-01, -5.38096172e-01],\n",
       "       [ 8.18859847e-01, -1.73282424e+00, -5.86848332e-02],\n",
       "       [ 8.18859847e-01, -1.73282424e+00, -3.71500799e-01],\n",
       "       [-3.91351200e-01, -8.72756019e-01, -1.96732977e-01],\n",
       "       [-1.60156225e+00,  5.34628340e-01,  2.34184955e+00],\n",
       "       [-1.60156225e+00, -9.08758195e-02, -7.15117842e-01],\n",
       "       [ 8.18859847e-01, -1.96738830e+00, -4.64190267e-01],\n",
       "       [ 8.18859847e-01, -1.26877995e-02, -5.36500448e-01],\n",
       "       [ 8.18859847e-01,  2.21876261e-01, -5.38096172e-01],\n",
       "       [-1.60156225e+00,  1.55107260e+00, -1.30713283e-01],\n",
       "       [ 8.18859847e-01, -1.14641409e+00,  8.52432913e-01],\n",
       "       [-1.60156225e+00, -4.81815919e-01,  1.39222933e+00],\n",
       "       [ 8.18859847e-01, -2.04557632e+00, -4.04650384e-01],\n",
       "       [ 8.18859847e-01, -4.03627899e-01, -5.56221611e-01],\n",
       "       [ 8.18859847e-01,  9.25568440e-01, -5.38190833e-01],\n",
       "       [ 8.18859847e-01, -9.08758195e-02, -5.40444681e-01],\n",
       "       [-1.60156225e+00, -8.72756019e-01,  4.41294809e+00],\n",
       "       [ 8.18859847e-01,  1.00375646e+00, -5.19878325e-01],\n",
       "       [-3.91351200e-01,  6.55002205e-02, -4.22117701e-01],\n",
       "       [ 8.18859847e-01, -7.16379979e-01, -5.19878325e-01],\n",
       "       [-1.60156225e+00,  1.43688241e-01,  5.69575085e-01],\n",
       "       [ 8.18859847e-01, -9.08758195e-02, -1.41137327e-01],\n",
       "       [ 8.18859847e-01,  7.69192400e-01, -1.02271175e-02],\n",
       "       [ 8.18859847e-01,  1.62926062e+00, -3.88309992e-01],\n",
       "       [-3.91351200e-01, -1.69063839e-01, -1.29117559e-01],\n",
       "       [-1.60156225e+00, -1.81101226e+00,  2.31630670e+00],\n",
       "       [-3.91351200e-01,  9.25568440e-01, -2.75617630e-01],\n",
       "       [ 8.18859847e-01, -1.69063839e-01, -4.33950399e-01],\n",
       "       [ 8.18859847e-01, -5.60003939e-01, -5.33683139e-01],\n",
       "       [-1.60156225e+00,  2.25476478e+00, -4.57252116e-02],\n",
       "       [ 8.18859847e-01, -8.72756019e-01, -3.09425339e-01],\n",
       "       [ 8.18859847e-01, -1.69063839e-01, -5.52277379e-01],\n",
       "       [ 8.18859847e-01,  8.47380420e-01, -5.01565816e-01],\n",
       "       [ 8.18859847e-01, -9.08758195e-02, -2.26501791e-01],\n",
       "       [ 8.18859847e-01, -3.25439879e-01, -3.13933033e-01],\n",
       "       [-3.91351200e-01,  2.17657676e+00, -4.22117701e-01],\n",
       "       [-1.60156225e+00, -1.96738830e+00,  1.12984319e+00],\n",
       "       [ 8.18859847e-01,  1.70744864e+00, -5.40444681e-01],\n",
       "       [ 8.18859847e-01,  3.00064281e-01, -5.37158571e-01],\n",
       "       [ 8.18859847e-01, -9.50944039e-01, -5.19878325e-01],\n",
       "       [-3.91351200e-01,  8.47380420e-01, -3.60136902e-01],\n",
       "       [-1.60156225e+00,  2.02020072e+00,  4.11805778e-01],\n",
       "       [-3.91351200e-01, -1.26877995e-02, -1.29117559e-01],\n",
       "       [ 8.18859847e-01, -9.08758195e-02, -5.40444681e-01],\n",
       "       [ 8.18859847e-01, -9.08758195e-02, -1.91098359e-01],\n",
       "       [ 8.18859847e-01, -9.08758195e-02, -5.33683139e-01],\n",
       "       [-3.91351200e-01, -4.03627899e-01, -1.06579087e-01],\n",
       "       [ 8.18859847e-01, -9.08758195e-02, -5.40444681e-01],\n",
       "       [ 8.18859847e-01, -2.47251859e-01, -5.37158571e-01],\n",
       "       [-3.91351200e-01, -9.08758195e-02, -4.22117701e-01],\n",
       "       [-3.91351200e-01, -1.69063839e-01, -4.22117701e-01],\n",
       "       [-3.91351200e-01,  2.64570488e+00, -1.29117559e-01],\n",
       "       [-1.60156225e+00,  5.34628340e-01,  1.98949885e+00],\n",
       "       [ 8.18859847e-01, -7.16379979e-01, -5.36500448e-01],\n",
       "       [ 8.18859847e-01, -9.08758195e-02, -3.71500799e-01],\n",
       "       [ 8.18859847e-01, -1.26877995e-02, -5.37158571e-01],\n",
       "       [-3.91351200e-01,  2.48932884e+00, -4.36767708e-01],\n",
       "       [-1.60156225e+00,  6.91004380e-01,  1.08795995e+00],\n",
       "       [-1.60156225e+00,  2.17657676e+00,  3.00072573e+00],\n",
       "       [-1.60156225e+00,  1.47288458e+00, -1.30713283e-01],\n",
       "       [ 8.18859847e-01, -7.16379979e-01, -5.38096172e-01],\n",
       "       [ 8.18859847e-01, -9.08758195e-02, -5.39881219e-01],\n",
       "       [ 8.18859847e-01, -1.26877995e-02, -5.36500448e-01],\n",
       "       [-3.91351200e-01, -2.04557632e+00,  2.22013810e-01],\n",
       "       [ 8.18859847e-01, -5.60003939e-01,  1.79377781e-01],\n",
       "       [ 8.18859847e-01, -4.03627899e-01, -5.51713917e-01],\n",
       "       [-1.60156225e+00,  1.23832052e+00,  5.19841385e+00],\n",
       "       [ 8.18859847e-01,  1.70744864e+00, -5.56126950e-01],\n",
       "       [-1.60156225e+00, -9.08758195e-02,  5.24498140e-01],\n",
       "       [ 8.18859847e-01, -9.08758195e-02, -5.33683139e-01],\n",
       "       [-1.60156225e+00,  6.12816360e-01, -4.57252116e-02],\n",
       "       [ 8.18859847e-01, -9.08758195e-02, -2.07438751e-01],\n",
       "       [ 8.18859847e-01,  4.56440320e-01, -5.54531226e-01],\n",
       "       [-3.91351200e-01, -1.26877995e-02, -4.78463882e-01],\n",
       "       [ 8.18859847e-01, -2.20195236e+00,  1.79377781e-01],\n",
       "       [ 8.18859847e-01, -2.47251859e-01, -5.37158571e-01],\n",
       "       [-3.91351200e-01, -7.94567999e-01, -4.22117701e-01],\n",
       "       [-3.91351200e-01, -6.38191959e-01, -4.22117701e-01],\n",
       "       [ 8.18859847e-01,  3.00064281e-01, -5.19878325e-01],\n",
       "       [ 8.18859847e-01, -1.14641409e+00, -3.89342254e-01],\n",
       "       [-1.60156225e+00, -3.25439879e-01,  1.33766819e+00],\n",
       "       [ 8.18859847e-01, -1.57644820e+00, -2.52515696e-01],\n",
       "       [ 8.18859847e-01, -7.16379979e-01, -5.01002354e-01],\n",
       "       [ 8.18859847e-01, -9.08758195e-02, -5.58475459e-01],\n",
       "       [-1.60156225e+00,  2.56751686e+00, -1.16721400e-01],\n",
       "       [ 8.18859847e-01, -4.03627899e-01, -5.46173960e-01],\n",
       "       [-1.60156225e+00, -1.69063839e-01,  4.05176907e+00],\n",
       "       [ 8.18859847e-01, -9.08758195e-02,  5.58211187e-01],\n",
       "       [ 8.18859847e-01, -9.08758195e-02, -5.51713917e-01],\n",
       "       [-1.60156225e+00,  6.55002205e-02,  3.00072573e+00],\n",
       "       [ 8.18859847e-01, -2.47251859e-01, -2.51388772e-01],\n",
       "       [-1.60156225e+00,  1.47288458e+00,  1.06992917e+00],\n",
       "       [ 8.18859847e-01,  3.78252300e-01, -3.90563839e-01],\n",
       "       [-1.60156225e+00,  1.00375646e+00,  4.56882723e-01],\n",
       "       [ 8.18859847e-01, -5.60003939e-01, -5.52182717e-01],\n",
       "       [-1.60156225e+00,  6.55002205e-02,  5.67979361e-01],\n",
       "       [-3.91351200e-01,  1.55107260e+00,  7.49882864e-01],\n",
       "       [ 8.18859847e-01, -4.03627899e-01, -3.57883054e-01],\n",
       "       [-1.60156225e+00,  6.55002205e-02,  1.68353908e+00],\n",
       "       [ 8.18859847e-01, -9.08758195e-02, -2.11195914e-01],\n",
       "       [-3.91351200e-01, -1.26369612e+00, -2.75617630e-01],\n",
       "       [-1.60156225e+00, -3.25439879e-01,  2.70058765e+00],\n",
       "       [ 8.18859847e-01, -2.08157849e-01, -5.52277379e-01],\n",
       "       [-1.60156225e+00,  6.91004380e-01,  1.31334467e+00],\n",
       "       [ 8.18859847e-01, -9.08758195e-02, -5.40444681e-01],\n",
       "       [-1.60156225e+00, -2.20846542e+00,  2.70058765e+00],\n",
       "       [-1.60156225e+00,  1.94201270e+00,  1.12984319e+00],\n",
       "       [-1.60156225e+00,  1.08194448e+00, -9.03333561e-02],\n",
       "       [-3.91351200e-01, -2.12376434e+00, -1.96732977e-01],\n",
       "       [ 8.18859847e-01, -3.25439879e-01, -5.56221611e-01],\n",
       "       [ 8.18859847e-01, -9.08758195e-02,  8.52432913e-01],\n",
       "       [ 8.18859847e-01,  5.34628340e-01, -7.15117842e-01],\n",
       "       [ 8.18859847e-01, -1.10732008e+00, -3.89342254e-01],\n",
       "       [-3.91351200e-01,  6.55002205e-02, -4.22117701e-01],\n",
       "       [-1.60156225e+00,  2.56751686e+00, -1.16721400e-01],\n",
       "       [ 8.18859847e-01, -6.38191959e-01, -5.38096172e-01],\n",
       "       [-3.91351200e-01, -4.03627899e-01, -9.03333561e-02],\n",
       "       [ 8.18859847e-01, -9.08758195e-02, -5.33683139e-01],\n",
       "       [ 8.18859847e-01, -7.16379979e-01, -5.36500448e-01],\n",
       "       [ 8.18859847e-01, -8.72756019e-01, -5.39881219e-01],\n",
       "       [-1.60156225e+00,  2.25476478e+00,  2.58723716e+00],\n",
       "       [ 8.18859847e-01, -1.26877995e-02, -2.40119536e-01],\n",
       "       [ 8.18859847e-01,  6.55002205e-02, -1.70813733e-01],\n",
       "       [-1.60156225e+00,  1.39469656e+00,  4.41294809e+00],\n",
       "       [ 8.18859847e-01, -8.72756019e-01, -3.13933033e-01],\n",
       "       [ 8.18859847e-01, -5.17818095e-02, -5.52182717e-01],\n",
       "       [ 8.18859847e-01, -9.08758195e-02, -5.37158571e-01],\n",
       "       [-3.91351200e-01, -3.25439879e-01,  2.22013810e-01],\n",
       "       [ 8.18859847e-01, -5.60003939e-01, -4.38176362e-01],\n",
       "       [-1.60156225e+00,  2.41114082e+00,  9.80902206e-01],\n",
       "       [ 8.18859847e-01, -9.08758195e-02, -3.90563839e-01],\n",
       "       [ 8.18859847e-01, -2.12376434e+00, -2.40119536e-01],\n",
       "       [-1.60156225e+00,  1.94201270e+00,  1.04889402e+00],\n",
       "       [-1.60156225e+00,  3.00064281e-01,  1.31334467e+00],\n",
       "       [ 8.18859847e-01, -1.81101226e+00, -4.33950399e-01],\n",
       "       [ 8.18859847e-01, -8.72756019e-01, -4.93300958e-01],\n",
       "       [ 8.18859847e-01, -7.16379979e-01, -5.36500448e-01],\n",
       "       [ 8.18859847e-01, -7.94567999e-01, -5.39881219e-01],\n",
       "       [ 8.18859847e-01, -9.08758195e-02,  8.52432913e-01],\n",
       "       [ 8.18859847e-01, -9.08758195e-02, -5.33683139e-01],\n",
       "       [ 8.18859847e-01, -9.08758195e-02, -5.40444681e-01],\n",
       "       [-1.60156225e+00, -4.81815919e-01,  1.15914321e+00],\n",
       "       [ 8.18859847e-01, -9.08758195e-02, -5.01002354e-01],\n",
       "       [-1.60156225e+00, -7.94567999e-01, -1.22732410e-01],\n",
       "       [ 8.18859847e-01, -9.08758195e-02, -5.37158571e-01],\n",
       "       [ 8.18859847e-01, -2.47251859e-01, -5.33683139e-01],\n",
       "       [-1.60156225e+00,  1.86382468e+00,  1.12984319e+00],\n",
       "       [ 8.18859847e-01, -9.08758195e-02,  8.52432913e-01],\n",
       "       [-3.91351200e-01, -2.47251859e-01, -4.22117701e-01],\n",
       "       [-1.60156225e+00,  2.72389290e+00,  5.21250040e+00],\n",
       "       [-1.60156225e+00, -9.08758195e-02,  4.41294809e+00],\n",
       "       [ 8.18859847e-01, -9.08758195e-02, -5.37158571e-01],\n",
       "       [ 8.18859847e-01,  8.47380420e-01, -3.65771520e-01],\n",
       "       [-1.60156225e+00,  2.02020072e+00, -1.35879101e-01],\n",
       "       [ 8.18859847e-01, -9.08758195e-02, -3.52248436e-01],\n",
       "       [-1.60156225e+00, -8.72756019e-01,  5.19841385e+00],\n",
       "       [ 8.18859847e-01, -7.94567999e-01, -3.52248436e-01],\n",
       "       [ 8.18859847e-01, -1.49826018e+00, -8.62944619e-02],\n",
       "       [-3.91351200e-01, -4.03627899e-01,  1.18900299e-01],\n",
       "       [-3.91351200e-01, -4.81815919e-01, -3.76008494e-01],\n",
       "       [ 8.18859847e-01, -9.08758195e-02, -5.36500448e-01],\n",
       "       [-1.60156225e+00,  1.62926062e+00, -6.79819531e-02],\n",
       "       [ 8.18859847e-01, -1.57644820e+00, -3.56756131e-01],\n",
       "       [-1.60156225e+00,  2.25476478e+00,  1.08319997e+01],\n",
       "       [ 8.18859847e-01,  8.47380420e-01,  3.41936514e-01],\n",
       "       [-1.60156225e+00,  1.62926062e+00,  1.68353908e+00],\n",
       "       [-3.91351200e-01,  3.78252300e-01, -1.29117559e-01],\n",
       "       [ 8.18859847e-01, -6.38191959e-01, -5.19878325e-01],\n",
       "       [ 8.18859847e-01, -1.26877995e-02, -5.56316273e-01],\n",
       "       [ 8.18859847e-01, -9.08758195e-02, -5.37158571e-01],\n",
       "       [ 8.18859847e-01, -6.38191959e-01, -5.38848957e-01],\n",
       "       [-1.60156225e+00,  2.72389290e+00, -1.29117559e-01],\n",
       "       [ 8.18859847e-01, -9.08758195e-02, -3.88309992e-01],\n",
       "       [ 8.18859847e-01, -2.24755943e+00, -5.23164434e-01],\n",
       "       [ 8.18859847e-01, -1.57644820e+00, -3.71500799e-01],\n",
       "       [-3.91351200e-01,  2.33295280e+00, -4.10848464e-01],\n",
       "       [-1.60156225e+00,  7.69192400e-01,  1.78402235e+00],\n",
       "       [-3.91351200e-01, -4.81815919e-01, -4.04273992e-01],\n",
       "       [ 8.18859847e-01,  1.08194448e+00, -5.69744695e-01],\n",
       "       [ 8.18859847e-01, -9.08758195e-02, -5.40444681e-01],\n",
       "       [ 8.18859847e-01, -1.18550810e+00, -5.07200434e-01],\n",
       "       [ 8.18859847e-01, -9.08758195e-02, -5.40726412e-01],\n",
       "       [ 8.18859847e-01, -9.08758195e-02, -5.52277379e-01],\n",
       "       [-1.60156225e+00, -4.03627899e-01,  6.37190502e-01],\n",
       "       [ 8.18859847e-01, -5.60003939e-01, -4.93395620e-01],\n",
       "       [ 8.18859847e-01, -1.42007216e+00,  3.41936514e-01],\n",
       "       [-1.60156225e+00,  1.23832052e+00,  1.16628114e+00],\n",
       "       [ 8.18859847e-01, -1.02913206e+00, -5.42698528e-01],\n",
       "       [-3.91351200e-01,  5.34628340e-01, -4.22117701e-01],\n",
       "       [-3.91351200e-01, -9.50944039e-01,  9.41459879e-01],\n",
       "       [ 8.18859847e-01,  1.47288458e+00,  5.96421469e-02],\n",
       "       [-1.60156225e+00,  6.91004380e-01, -7.15117842e-01],\n",
       "       [ 8.18859847e-01,  4.56440320e-01, -2.58713776e-01],\n",
       "       [-1.60156225e+00,  1.31650854e+00,  9.80715137e-01],\n",
       "       [-3.91351200e-01, -8.72756019e-01, -4.78463882e-01],\n",
       "       [-1.60156225e+00,  1.00375646e+00, -1.16721400e-01],\n",
       "       [-1.60156225e+00,  6.91004380e-01,  2.74369248e+00],\n",
       "       [ 8.18859847e-01, -2.22149936e+00, -4.04650384e-01],\n",
       "       [ 8.18859847e-01, -9.08758195e-02, -5.52182717e-01],\n",
       "       [-3.91351200e-01,  1.62926062e+00, -1.29117559e-01],\n",
       "       [ 8.18859847e-01, -7.94567999e-01, -3.88309992e-01],\n",
       "       [-1.60156225e+00,  5.34628340e-01,  1.08319997e+01],\n",
       "       [ 8.18859847e-01, -9.08758195e-02, -1.41137327e-01],\n",
       "       [-3.91351200e-01, -9.50944039e-01, -4.78463882e-01],\n",
       "       [-3.91351200e-01, -9.08758195e-02, -4.73769118e-01],\n",
       "       [-3.91351200e-01, -9.08758195e-02, -7.15117842e-01],\n",
       "       [ 8.18859847e-01, -1.42007216e+00, -1.02271175e-02],\n",
       "       [-1.60156225e+00, -9.08758195e-02, -7.15117842e-01],\n",
       "       [ 8.18859847e-01, -9.08758195e-02, -5.32274484e-01],\n",
       "       [ 8.18859847e-01, -7.94567999e-01, -7.15117842e-01],\n",
       "       [ 8.18859847e-01, -7.16379979e-01, -5.38096172e-01],\n",
       "       [-3.91351200e-01, -5.60003939e-01, -4.78463882e-01],\n",
       "       [ 8.18859847e-01, -4.03627899e-01, -5.33683139e-01],\n",
       "       [ 8.18859847e-01, -2.12376434e+00, -8.62944619e-02],\n",
       "       [ 8.18859847e-01,  1.43688241e-01, -5.38096172e-01],\n",
       "       [-1.60156225e+00,  1.47288458e+00,  5.19841385e+00],\n",
       "       [ 8.18859847e-01,  1.55107260e+00, -7.15117842e-01],\n",
       "       [ 8.18859847e-01, -9.08758195e-02, -5.70026426e-01],\n",
       "       [-1.60156225e+00, -7.94567999e-01,  1.33766819e+00],\n",
       "       [-1.60156225e+00,  1.78563666e+00, -2.76944337e-02],\n",
       "       [ 8.18859847e-01, -9.50944039e-01, -5.19878325e-01],\n",
       "       [-1.60156225e+00,  2.02020072e+00, -9.03333561e-02],\n",
       "       [ 8.18859847e-01, -9.08758195e-02, -5.40444681e-01],\n",
       "       [ 8.18859847e-01, -9.08758195e-02, -5.52182717e-01],\n",
       "       [ 8.18859847e-01, -9.08758195e-02, -3.65771520e-01],\n",
       "       [ 8.18859847e-01, -9.08758195e-02, -3.74786909e-01],\n",
       "       [-3.91351200e-01, -5.60003939e-01, -5.15596126e-03],\n",
       "       [-1.60156225e+00, -9.08758195e-02, -1.16721400e-01],\n",
       "       [ 8.18859847e-01, -9.08758195e-02, -5.44952375e-01],\n",
       "       [ 8.18859847e-01, -5.60003939e-01, -5.33683139e-01]])"
      ]
     },
     "execution_count": 17,
     "metadata": {},
     "output_type": "execute_result"
    }
   ],
   "source": [
    "X_test_scaled"
   ]
  },
  {
   "cell_type": "code",
   "execution_count": null,
   "id": "a93beaae",
   "metadata": {},
   "outputs": [],
   "source": []
  },
  {
   "cell_type": "code",
   "execution_count": null,
   "id": "c862a669",
   "metadata": {},
   "outputs": [],
   "source": []
  },
  {
   "cell_type": "code",
   "execution_count": null,
   "id": "4f40af94",
   "metadata": {},
   "outputs": [],
   "source": []
  },
  {
   "cell_type": "markdown",
   "id": "a24dcc9b",
   "metadata": {},
   "source": [
    "#### Guassian Transformation\n",
    "\n",
    "Some machine learning algorithms like linear and logistic assume that the features are normally distributed\n",
    "-Accuracy\n",
    "-Performance\n",
    "- logarithmic transformation\n",
    "- reciprocal transformation\n",
    "- square root transformation\n",
    "- exponential transformation (more general, you can use any exponent)\n",
    "- boxcox transformation"
   ]
  },
  {
   "cell_type": "code",
   "execution_count": 18,
   "id": "60a3b396",
   "metadata": {},
   "outputs": [
    {
     "data": {
      "text/html": [
       "<div>\n",
       "<style scoped>\n",
       "    .dataframe tbody tr th:only-of-type {\n",
       "        vertical-align: middle;\n",
       "    }\n",
       "\n",
       "    .dataframe tbody tr th {\n",
       "        vertical-align: top;\n",
       "    }\n",
       "\n",
       "    .dataframe thead th {\n",
       "        text-align: right;\n",
       "    }\n",
       "</style>\n",
       "<table border=\"1\" class=\"dataframe\">\n",
       "  <thead>\n",
       "    <tr style=\"text-align: right;\">\n",
       "      <th></th>\n",
       "      <th>pclass</th>\n",
       "      <th>age</th>\n",
       "      <th>fare</th>\n",
       "      <th>survived</th>\n",
       "    </tr>\n",
       "  </thead>\n",
       "  <tbody>\n",
       "    <tr>\n",
       "      <th>0</th>\n",
       "      <td>3</td>\n",
       "      <td>NaN</td>\n",
       "      <td>7.7333</td>\n",
       "      <td>1</td>\n",
       "    </tr>\n",
       "    <tr>\n",
       "      <th>1</th>\n",
       "      <td>3</td>\n",
       "      <td>38.0</td>\n",
       "      <td>8.6625</td>\n",
       "      <td>0</td>\n",
       "    </tr>\n",
       "    <tr>\n",
       "      <th>2</th>\n",
       "      <td>3</td>\n",
       "      <td>30.0</td>\n",
       "      <td>24.1500</td>\n",
       "      <td>0</td>\n",
       "    </tr>\n",
       "    <tr>\n",
       "      <th>3</th>\n",
       "      <td>2</td>\n",
       "      <td>54.0</td>\n",
       "      <td>23.0000</td>\n",
       "      <td>1</td>\n",
       "    </tr>\n",
       "    <tr>\n",
       "      <th>4</th>\n",
       "      <td>2</td>\n",
       "      <td>40.0</td>\n",
       "      <td>13.0000</td>\n",
       "      <td>0</td>\n",
       "    </tr>\n",
       "  </tbody>\n",
       "</table>\n",
       "</div>"
      ],
      "text/plain": [
       "   pclass   age     fare  survived\n",
       "0       3   NaN   7.7333         1\n",
       "1       3  38.0   8.6625         0\n",
       "2       3  30.0  24.1500         0\n",
       "3       2  54.0  23.0000         1\n",
       "4       2  40.0  13.0000         0"
      ]
     },
     "execution_count": 18,
     "metadata": {},
     "output_type": "execute_result"
    }
   ],
   "source": [
    "df = pd.read_csv(r\"D:\\data ML\\Datasets\\titanic_train.csv\", usecols=['pclass','age','fare','survived'])\n",
    "df.head()"
   ]
  },
  {
   "cell_type": "code",
   "execution_count": 19,
   "id": "2d9d266a",
   "metadata": {},
   "outputs": [
    {
     "data": {
      "text/plain": [
       "pclass        0\n",
       "age         174\n",
       "fare          1\n",
       "survived      0\n",
       "dtype: int64"
      ]
     },
     "execution_count": 19,
     "metadata": {},
     "output_type": "execute_result"
    }
   ],
   "source": [
    "df.isnull().sum()"
   ]
  },
  {
   "cell_type": "code",
   "execution_count": 20,
   "id": "c4186b2f",
   "metadata": {},
   "outputs": [],
   "source": [
    "df['age'].fillna(df.age.median(), inplace =True)"
   ]
  },
  {
   "cell_type": "code",
   "execution_count": 21,
   "id": "7a605b59",
   "metadata": {},
   "outputs": [
    {
     "data": {
      "text/plain": [
       "0"
      ]
     },
     "execution_count": 21,
     "metadata": {},
     "output_type": "execute_result"
    }
   ],
   "source": [
    "df['age'].isnull().sum()"
   ]
  },
  {
   "cell_type": "code",
   "execution_count": 22,
   "id": "64abacda",
   "metadata": {},
   "outputs": [],
   "source": [
    "import matplotlib.pyplot as plt\n",
    "import scipy.stats as stat\n",
    "import pylab "
   ]
  },
  {
   "cell_type": "code",
   "execution_count": 23,
   "id": "7b47ce56",
   "metadata": {},
   "outputs": [],
   "source": [
    "# most of the ml algorithms give good accuracy if the dataset is normally distributed, \n",
    "# so check the data is normally distributed or not we use Q-Q plot"
   ]
  },
  {
   "cell_type": "code",
   "execution_count": 24,
   "id": "37d95bad",
   "metadata": {},
   "outputs": [],
   "source": [
    "#### If you want to check whether feature is guassian or normal distributed\n",
    "#### Q-Q plot\n",
    "def plot_data(df,feature):\n",
    "    plt.figure(figsize=(10,6))\n",
    "    plt.subplot(1,2,1)\n",
    "    df[feature].hist()\n",
    "    plt.subplot(1,2,2)\n",
    "    stat.probplot(df[feature],dist='norm',plot=pylab)\n",
    "    plt.show()"
   ]
  },
  {
   "cell_type": "code",
   "execution_count": 25,
   "id": "3e78c6ef",
   "metadata": {},
   "outputs": [
    {
     "data": {
      "image/png": "[encoded data removed]",
      "text/plain": [
       "<Figure size 720x432 with 2 Axes>"
      ]
     },
     "metadata": {
      "needs_background": "light"
     },
     "output_type": "display_data"
    }
   ],
   "source": [
    "plot_data(df,'age')\n",
    "# from the below plot it is shown that the data is not normally distributed"
   ]
  },
  {
   "cell_type": "markdown",
   "id": "92b7c3e9",
   "metadata": {},
   "source": [
    "## Apply the transformation techniques"
   ]
  },
  {
   "cell_type": "markdown",
   "id": "d629bf93",
   "metadata": {},
   "source": [
    "#### Logarithmic Transformation"
   ]
  },
  {
   "cell_type": "code",
   "execution_count": 26,
   "id": "180b9601",
   "metadata": {},
   "outputs": [],
   "source": [
    "import numpy as np\n"
   ]
  },
  {
   "cell_type": "code",
   "execution_count": 27,
   "id": "363d86ef",
   "metadata": {},
   "outputs": [
    {
     "data": {
      "image/png": "[encoded data removed]",
      "text/plain": [
       "<Figure size 720x432 with 2 Axes>"
      ]
     },
     "metadata": {
      "needs_background": "light"
     },
     "output_type": "display_data"
    }
   ],
   "source": [
    "df['age_log'] = np.log(df['age'])\n",
    "plot_data(df,'age_log')\n",
    "# by doing logrithmic it is not normally distributed use another techniques "
   ]
  },
  {
   "cell_type": "markdown",
   "id": "6b1e0ab3",
   "metadata": {},
   "source": [
    "#### Reciprocal Trnasformation"
   ]
  },
  {
   "cell_type": "code",
   "execution_count": 28,
   "id": "bc6c3727",
   "metadata": {},
   "outputs": [
    {
     "data": {
      "image/png": "[encoded data removed]",
      "text/plain": [
       "<Figure size 720x432 with 2 Axes>"
      ]
     },
     "metadata": {
      "needs_background": "light"
     },
     "output_type": "display_data"
    }
   ],
   "source": [
    "df['age_reciprocal'] = 1/df['age']\n",
    "plot_data(df,'age_reciprocal')\n",
    "# again by doing reciprocal it is not normally distributed use another techniques "
   ]
  },
  {
   "cell_type": "markdown",
   "id": "ac3f1312",
   "metadata": {},
   "source": [
    "##### Square Root Transformation"
   ]
  },
  {
   "cell_type": "code",
   "execution_count": 29,
   "id": "09038719",
   "metadata": {},
   "outputs": [
    {
     "data": {
      "image/png": "[encoded data removed]",
      "text/plain": [
       "<Figure size 720x432 with 2 Axes>"
      ]
     },
     "metadata": {
      "needs_background": "light"
     },
     "output_type": "display_data"
    }
   ],
   "source": [
    "df['age_sqrt'] = np.sqrt(df['age'])\n",
    "plot_data(df,'age_sqrt')\n",
    "# again by doing sqrt it is not normally distributed use another techniques "
   ]
  },
  {
   "cell_type": "markdown",
   "id": "b498f4ca",
   "metadata": {},
   "source": [
    "#### Exponential Transformation"
   ]
  },
  {
   "cell_type": "code",
   "execution_count": 30,
   "id": "cecb5860",
   "metadata": {},
   "outputs": [
    {
     "data": {
      "image/png": "[encoded data removed]",
      "text/plain": [
       "<Figure size 720x432 with 2 Axes>"
      ]
     },
     "metadata": {
      "needs_background": "light"
     },
     "output_type": "display_data"
    }
   ],
   "source": [
    "df['age_exponential'] = df.age**(1/1.2)\n",
    "plot_data(df,'age_exponential')\n",
    "# again by doing exponential it is not normally distributed use another techniques,  but somewhat normally fitted"
   ]
  },
  {
   "cell_type": "markdown",
   "id": "97f9dda6",
   "metadata": {},
   "source": [
    "#### BoxCOx Transformation\n",
    "The Box-Cox transformation is defined as: \n",
    "\n",
    "T(Y)=(Y exp(λ)−1)/λ\n",
    "\n",
    "* where Y is the response variable and λ is the transformation parameter. λ varies from -5 to 5. In the transformation, all values of λ  are considered and the optimal value for a given variable is selected."
   ]
  },
  {
   "cell_type": "code",
   "execution_count": null,
   "id": "c27348f1",
   "metadata": {},
   "outputs": [],
   "source": []
  },
  {
   "cell_type": "code",
   "execution_count": 31,
   "id": "78ea128e",
   "metadata": {},
   "outputs": [],
   "source": [
    "df['age_BoxCox'], parameters = stat.boxcox(df['age'])"
   ]
  },
  {
   "cell_type": "code",
   "execution_count": 32,
   "id": "1fed0535",
   "metadata": {},
   "outputs": [
    {
     "name": "stdout",
     "output_type": "stream",
     "text": [
      "0.7706329165332146\n"
     ]
    }
   ],
   "source": [
    "print(parameters)\n",
    "# this is the value of alpha/lembda"
   ]
  },
  {
   "cell_type": "code",
   "execution_count": 33,
   "id": "e5984c1d",
   "metadata": {},
   "outputs": [
    {
     "data": {
      "image/png": "[encoded data removed]",
      "text/plain": [
       "<Figure size 720x432 with 2 Axes>"
      ]
     },
     "metadata": {
      "needs_background": "light"
     },
     "output_type": "display_data"
    }
   ],
   "source": [
    "plot_data(df,'age_BoxCox')\n",
    "# showing the data is much better normally distributed than any other transformation technique\n"
   ]
  },
  {
   "cell_type": "code",
   "execution_count": 39,
   "id": "fde5c5e3",
   "metadata": {},
   "outputs": [],
   "source": [
    "def plot_data(df,feature):\n",
    "    plt.figure(figsize=(10,6))\n",
    "    plt.subplot(1,2,1)\n",
    "    df[feature].hist()\n",
    "    plt.subplot(1,2,2)\n",
    "    stat.probplot(df[feature],dist ='norm',plot=pylab)\n",
    "    plt.show()"
   ]
  },
  {
   "cell_type": "code",
   "execution_count": 40,
   "id": "aa6bf7ff",
   "metadata": {},
   "outputs": [
    {
     "data": {
      "image/png": "[encoded data removed]",
      "text/plain": [
       "<Figure size 720x432 with 2 Axes>"
      ]
     },
     "metadata": {
      "needs_background": "light"
     },
     "output_type": "display_data"
    }
   ],
   "source": [
    "# lets check for the fare data - is it normally distributed or not\n",
    "plot_data(df,'fare')"
   ]
  },
  {
   "cell_type": "code",
   "execution_count": 41,
   "id": "5d6b26d5",
   "metadata": {},
   "outputs": [
    {
     "data": {
      "image/png": "[encoded data removed]",
      "text/plain": [
       "<Figure size 720x432 with 2 Axes>"
      ]
     },
     "metadata": {
      "needs_background": "light"
     },
     "output_type": "display_data"
    }
   ],
   "source": [
    "#### Fare\n",
    "df['fare_log']=np.log1p(df['fare'])\n",
    "plot_data(df,'fare_log')"
   ]
  },
  {
   "cell_type": "code",
   "execution_count": 46,
   "id": "71f4acb6",
   "metadata": {},
   "outputs": [
    {
     "data": {
      "image/png": "[encoded data removed]",
      "text/plain": [
       "<Figure size 720x432 with 2 Axes>"
      ]
     },
     "metadata": {
      "needs_background": "light"
     },
     "output_type": "display_data"
    }
   ],
   "source": [
    "df['fare_Boxcox'],parameters=stat.boxcox(df['fare']+1)\n",
    "plot_data(df,'fare_Boxcox')"
   ]
  },
  {
   "cell_type": "code",
   "execution_count": null,
   "id": "14d82377",
   "metadata": {},
   "outputs": [],
   "source": []
  }
 ],
 "metadata": {
  "kernelspec": {
   "display_name": "Python 3 (ipykernel)",
   "language": "python",
   "name": "python3"
  },
  "language_info": {
   "codemirror_mode": {
    "name": "ipython",
    "version": 3
   },
   "file_extension": ".py",
   "mimetype": "text/x-python",
   "name": "python",
   "nbconvert_exporter": "python",
   "pygments_lexer": "ipython3",
   "version": "3.9.12"
  }
 },
 "nbformat": 4,
 "nbformat_minor": 5
}
