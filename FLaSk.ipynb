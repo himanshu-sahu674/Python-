{
 "cells": [
  {
   "cell_type": "code",
   "execution_count": 21,
   "id": "a7511883",
   "metadata": {},
   "outputs": [],
   "source": [
    "import math\n",
    "def math_operation_via_postman():\n",
    "        operation = \"add\"\n",
    "        num1 = int(input())\n",
    "        num2 = int(input())\n",
    "        if(operation == \"add\"):\n",
    "            r = num1 + num2\n",
    "            result = \"the sum of \"+ str(num1) + \" and \" + str(num2) + \" is \" + str(r)\n",
    "        if (operation == \"subtract\"):\n",
    "            r = num1 - num2\n",
    "            result = \"the dofferemce of \"+ str(num1) + \" and\" + str(num2) + \" is\" + str(r)\n",
    "        if (operation==\"multiply\"):\n",
    "            r = num1*num2\n",
    "            result = \"the product of\" + str(num1) + \" and\" + str(num2) + \" is\" + str(r)\n",
    "        if (operation == \"divide\"):\n",
    "            r = num1/num2\n",
    "            result = \"the quotient of\" + str(num1) + \" and\" + str(num2) + \" is\" + str(r)\n",
    "        return(result)"
   ]
  },
  {
   "cell_type": "code",
   "execution_count": 22,
   "id": "77446147",
   "metadata": {},
   "outputs": [
    {
     "name": "stdout",
     "output_type": "stream",
     "text": [
      "7\n",
      "8\n"
     ]
    },
    {
     "data": {
      "text/plain": [
       "'the sum of 7 and 8 is 15'"
      ]
     },
     "execution_count": 22,
     "metadata": {},
     "output_type": "execute_result"
    }
   ],
   "source": [
    "math_operation_via_postman()"
   ]
  },
  {
   "cell_type": "code",
   "execution_count": null,
   "id": "a4d19fc4",
   "metadata": {},
   "outputs": [],
   "source": [
    "from flask import Flask , request, render_template,jsonify\n",
    "\n",
    "app = Flask(__name__)\n",
    "\n",
    "@app.route('/test', methods = [\"POST\"])\n",
    "\n",
    "def math_operation_via_postman():\n",
    "    if (request.method == \"POST\"):\n",
    "        operation = request.json['operation']\n",
    "        num1 = int(request.json['num1'])\n",
    "        num2 = int(request.json['num2'])\n",
    "\n",
    "        if(operation == \"add\"):\n",
    "            r = num1+num2\n",
    "            result = 'The sum of '+ str(num1) +\" and \" + str(num2)+\" is \" + str(r)\n",
    "        if(operation == 'subtract'):\n",
    "            r = num1-num2\n",
    "            result = 'The difference '+ str(num1) +\" and \" + str(num2)+\" is \" + str(r)\n",
    "        if(operation == 'multiply'):\n",
    "            r = num1*num2\n",
    "            result = 'The product of '+ str(num1) +\" and \" + str(num2)+\" is \" + str(r)\n",
    "        if(operation == \"divide\"):\n",
    "            r = num1/num2\n",
    "            result = 'The quotient of '+ str(num1) +\" and \" + str(num2)+\" is \" + str(r)\n",
    "\n",
    "if __name__ == '__main__' :\n",
    "    app.run()\n"
   ]
  }
 ],
 "metadata": {
  "kernelspec": {
   "display_name": "Python 3 (ipykernel)",
   "language": "python",
   "name": "python3"
  },
  "language_info": {
   "codemirror_mode": {
    "name": "ipython",
    "version": 3
   },
   "file_extension": ".py",
   "mimetype": "text/x-python",
   "name": "python",
   "nbconvert_exporter": "python",
   "pygments_lexer": "ipython3",
   "version": "3.9.12"
  }
 },
 "nbformat": 4,
 "nbformat_minor": 5
}
