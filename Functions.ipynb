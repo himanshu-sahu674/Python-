{
 "cells": [
  {
   "cell_type": "code",
   "execution_count": 10,
   "id": "d87a10e2",
   "metadata": {},
   "outputs": [],
   "source": [
    "def test():\n",
    "    pass"
   ]
  },
  {
   "cell_type": "code",
   "execution_count": 11,
   "id": "e5fb44c4",
   "metadata": {},
   "outputs": [
    {
     "data": {
      "text/plain": [
       "<function __main__.test()>"
      ]
     },
     "execution_count": 11,
     "metadata": {},
     "output_type": "execute_result"
    }
   ],
   "source": [
    "test"
   ]
  },
  {
   "cell_type": "code",
   "execution_count": 12,
   "id": "0bad76f1",
   "metadata": {},
   "outputs": [],
   "source": [
    "test()"
   ]
  },
  {
   "cell_type": "code",
   "execution_count": 13,
   "id": "4d01d026",
   "metadata": {},
   "outputs": [],
   "source": [
    "def test1():\n",
    "    print(\"this is my function\")"
   ]
  },
  {
   "cell_type": "code",
   "execution_count": 14,
   "id": "93b1cd2f",
   "metadata": {},
   "outputs": [
    {
     "name": "stdout",
     "output_type": "stream",
     "text": [
      "this is my function\n",
      "this is my function\n",
      "this is my function\n"
     ]
    }
   ],
   "source": [
    "test1()\n",
    "test1()\n",
    "test1()"
   ]
  },
  {
   "cell_type": "code",
   "execution_count": 15,
   "id": "e6ed7df1",
   "metadata": {},
   "outputs": [
    {
     "name": "stdout",
     "output_type": "stream",
     "text": [
      "this is my function\n",
      "this is my function\n",
      "this is my function\n",
      "this is my function\n",
      "this is my function\n",
      "this is my function\n",
      "this is my function\n",
      "this is my function\n",
      "this is my function\n",
      "this is my function\n"
     ]
    }
   ],
   "source": [
    "for i in range(0,10):\n",
    "    test1()"
   ]
  },
  {
   "cell_type": "code",
   "execution_count": 16,
   "id": "aef6dd59",
   "metadata": {},
   "outputs": [],
   "source": [
    "def test2(a,b):\n",
    "    print(a,b)"
   ]
  },
  {
   "cell_type": "code",
   "execution_count": 17,
   "id": "b7ba5c56",
   "metadata": {},
   "outputs": [
    {
     "data": {
      "text/plain": [
       "<function __main__.test2(a, b)>"
      ]
     },
     "execution_count": 17,
     "metadata": {},
     "output_type": "execute_result"
    }
   ],
   "source": [
    "test2"
   ]
  },
  {
   "cell_type": "code",
   "execution_count": 18,
   "id": "cb66fc76",
   "metadata": {},
   "outputs": [
    {
     "ename": "TypeError",
     "evalue": "test2() missing 2 required positional arguments: 'a' and 'b'",
     "output_type": "error",
     "traceback": [
      "\u001b[1;31m---------------------------------------------------------------------------\u001b[0m",
      "\u001b[1;31mTypeError\u001b[0m                                 Traceback (most recent call last)",
      "Input \u001b[1;32mIn [18]\u001b[0m, in \u001b[0;36m<cell line: 1>\u001b[1;34m()\u001b[0m\n\u001b[1;32m----> 1\u001b[0m \u001b[43mtest2\u001b[49m\u001b[43m(\u001b[49m\u001b[43m)\u001b[49m\n",
      "\u001b[1;31mTypeError\u001b[0m: test2() missing 2 required positional arguments: 'a' and 'b'"
     ]
    }
   ],
   "source": [
    "test2()"
   ]
  },
  {
   "cell_type": "code",
   "execution_count": 19,
   "id": "07854c9b",
   "metadata": {},
   "outputs": [
    {
     "data": {
      "text/plain": [
       "<function len(obj, /)>"
      ]
     },
     "execution_count": 19,
     "metadata": {},
     "output_type": "execute_result"
    }
   ],
   "source": [
    "len"
   ]
  },
  {
   "cell_type": "code",
   "execution_count": 20,
   "id": "c8d626ad",
   "metadata": {},
   "outputs": [
    {
     "ename": "TypeError",
     "evalue": "len() takes exactly one argument (0 given)",
     "output_type": "error",
     "traceback": [
      "\u001b[1;31m---------------------------------------------------------------------------\u001b[0m",
      "\u001b[1;31mTypeError\u001b[0m                                 Traceback (most recent call last)",
      "Input \u001b[1;32mIn [20]\u001b[0m, in \u001b[0;36m<cell line: 1>\u001b[1;34m()\u001b[0m\n\u001b[1;32m----> 1\u001b[0m \u001b[38;5;28;43mlen\u001b[39;49m\u001b[43m(\u001b[49m\u001b[43m)\u001b[49m\n",
      "\u001b[1;31mTypeError\u001b[0m: len() takes exactly one argument (0 given)"
     ]
    }
   ],
   "source": [
    "len()"
   ]
  },
  {
   "cell_type": "code",
   "execution_count": 21,
   "id": "6fc38068",
   "metadata": {},
   "outputs": [
    {
     "name": "stdout",
     "output_type": "stream",
     "text": [
      "raj 25\n"
     ]
    }
   ],
   "source": [
    "test2(\"raj\",25)"
   ]
  },
  {
   "cell_type": "code",
   "execution_count": 22,
   "id": "1d334188",
   "metadata": {},
   "outputs": [],
   "source": [
    "def test3(a,b,c,d,e,f):\n",
    "    print(a,c,e,a)\n"
   ]
  },
  {
   "cell_type": "code",
   "execution_count": 23,
   "id": "1785c86e",
   "metadata": {},
   "outputs": [
    {
     "name": "stdout",
     "output_type": "stream",
     "text": [
      "[1, 2, 3] {'name': 'raj', 'score': 617} 3.45 [1, 2, 3]\n"
     ]
    }
   ],
   "source": [
    "test3([1,2,3],(2,3,4,5),{\"name\":\"raj\",\"score\": 617}, 3+4j,3.45, {2,3,4,5,5,3,})"
   ]
  },
  {
   "cell_type": "code",
   "execution_count": 24,
   "id": "36b8d0b2",
   "metadata": {},
   "outputs": [],
   "source": [
    "def test4(b,y = \"raj\"):\n",
    "    print(b,y)"
   ]
  },
  {
   "cell_type": "code",
   "execution_count": 25,
   "id": "1479ffa6",
   "metadata": {},
   "outputs": [
    {
     "name": "stdout",
     "output_type": "stream",
     "text": [
      "25 raj\n"
     ]
    }
   ],
   "source": [
    "test4(25)"
   ]
  },
  {
   "cell_type": "code",
   "execution_count": 26,
   "id": "893f12aa",
   "metadata": {},
   "outputs": [
    {
     "name": "stdout",
     "output_type": "stream",
     "text": [
      "25 Himanshu\n"
     ]
    }
   ],
   "source": [
    "test4(25, \"Himanshu\")"
   ]
  },
  {
   "cell_type": "code",
   "execution_count": 27,
   "id": "8ca2dc5b",
   "metadata": {},
   "outputs": [],
   "source": [
    "def test5(b,v):\n",
    "    \"This is my own function\"\n",
    "    print(\"python\",b,v)"
   ]
  },
  {
   "cell_type": "code",
   "execution_count": 28,
   "id": "44ee6437",
   "metadata": {},
   "outputs": [
    {
     "name": "stdout",
     "output_type": "stream",
     "text": [
      "python 3.6 is an easy language\n"
     ]
    }
   ],
   "source": [
    "test5(3.6, \"is an easy language\")"
   ]
  },
  {
   "cell_type": "code",
   "execution_count": 29,
   "id": "07684a96",
   "metadata": {},
   "outputs": [
    {
     "name": "stdout",
     "output_type": "stream",
     "text": [
      "python 3 in jupyter\n"
     ]
    }
   ],
   "source": [
    "test5(3, \"in jupyter\")"
   ]
  },
  {
   "cell_type": "code",
   "execution_count": 30,
   "id": "1812f276",
   "metadata": {},
   "outputs": [],
   "source": [
    "def test6(a,t):\n",
    "    print(\"sfknsf sffjns\")"
   ]
  },
  {
   "cell_type": "code",
   "execution_count": 31,
   "id": "33cdb9ad",
   "metadata": {},
   "outputs": [
    {
     "name": "stdout",
     "output_type": "stream",
     "text": [
      "sfknsf sffjns\n"
     ]
    }
   ],
   "source": [
    "test6(\"kuch\",\"bhi\")"
   ]
  },
  {
   "cell_type": "code",
   "execution_count": 32,
   "id": "e67985b1",
   "metadata": {},
   "outputs": [
    {
     "name": "stdout",
     "output_type": "stream",
     "text": [
      "sfknsf sffjns\n"
     ]
    },
    {
     "data": {
      "text/plain": [
       "NoneType"
      ]
     },
     "execution_count": 32,
     "metadata": {},
     "output_type": "execute_result"
    }
   ],
   "source": [
    "type(test6(\"d\",\"f\"))"
   ]
  },
  {
   "cell_type": "code",
   "execution_count": 33,
   "id": "bbdaba32",
   "metadata": {},
   "outputs": [],
   "source": [
    "def test7():\n",
    "    print(\"my name is:\")"
   ]
  },
  {
   "cell_type": "code",
   "execution_count": 34,
   "id": "f06954f4",
   "metadata": {},
   "outputs": [
    {
     "name": "stdout",
     "output_type": "stream",
     "text": [
      "my name is:\n"
     ]
    },
    {
     "ename": "TypeError",
     "evalue": "unsupported operand type(s) for +: 'NoneType' and 'str'",
     "output_type": "error",
     "traceback": [
      "\u001b[1;31m---------------------------------------------------------------------------\u001b[0m",
      "\u001b[1;31mTypeError\u001b[0m                                 Traceback (most recent call last)",
      "Input \u001b[1;32mIn [34]\u001b[0m, in \u001b[0;36m<cell line: 1>\u001b[1;34m()\u001b[0m\n\u001b[1;32m----> 1\u001b[0m \u001b[43mtest7\u001b[49m\u001b[43m(\u001b[49m\u001b[43m)\u001b[49m\u001b[43m \u001b[49m\u001b[38;5;241;43m+\u001b[39;49m\u001b[43m \u001b[49m\u001b[38;5;124;43m\"\u001b[39;49m\u001b[38;5;124;43mHimanshu\u001b[39;49m\u001b[38;5;124;43m\"\u001b[39;49m\n",
      "\u001b[1;31mTypeError\u001b[0m: unsupported operand type(s) for +: 'NoneType' and 'str'"
     ]
    }
   ],
   "source": [
    "test7() + \"Himanshu\""
   ]
  },
  {
   "cell_type": "code",
   "execution_count": 35,
   "id": "b88fa62f",
   "metadata": {},
   "outputs": [
    {
     "name": "stdout",
     "output_type": "stream",
     "text": [
      "my name is:\n"
     ]
    },
    {
     "data": {
      "text/plain": [
       "NoneType"
      ]
     },
     "execution_count": 35,
     "metadata": {},
     "output_type": "execute_result"
    }
   ],
   "source": [
    "type(test7()) "
   ]
  },
  {
   "cell_type": "code",
   "execution_count": 36,
   "id": "9725e3cb",
   "metadata": {},
   "outputs": [
    {
     "name": "stdout",
     "output_type": "stream",
     "text": [
      "my name is:\n",
      "<class 'str'>\n"
     ]
    }
   ],
   "source": [
    "print(type(str(test7())))"
   ]
  },
  {
   "cell_type": "code",
   "execution_count": 37,
   "id": "b68360bf",
   "metadata": {},
   "outputs": [
    {
     "name": "stdout",
     "output_type": "stream",
     "text": [
      "my name is:\n"
     ]
    },
    {
     "data": {
      "text/plain": [
       "'Noneraj'"
      ]
     },
     "execution_count": 37,
     "metadata": {},
     "output_type": "execute_result"
    }
   ],
   "source": [
    "str(test7()) + \"raj\""
   ]
  },
  {
   "cell_type": "code",
   "execution_count": 38,
   "id": "2919e088",
   "metadata": {},
   "outputs": [
    {
     "name": "stdout",
     "output_type": "stream",
     "text": [
      "dasha\n"
     ]
    },
    {
     "data": {
      "text/plain": [
       "NoneType"
      ]
     },
     "execution_count": 38,
     "metadata": {},
     "output_type": "execute_result"
    }
   ],
   "source": [
    "type(print(\"dasha\"))"
   ]
  },
  {
   "cell_type": "code",
   "execution_count": 39,
   "id": "43698b95",
   "metadata": {},
   "outputs": [],
   "source": [
    "def test8(a,b):\n",
    "    return a"
   ]
  },
  {
   "cell_type": "code",
   "execution_count": 40,
   "id": "966a161a",
   "metadata": {},
   "outputs": [
    {
     "data": {
      "text/plain": [
       "25"
      ]
     },
     "execution_count": 40,
     "metadata": {},
     "output_type": "execute_result"
    }
   ],
   "source": [
    "test8(25,\"raj\")"
   ]
  },
  {
   "cell_type": "code",
   "execution_count": 41,
   "id": "f40fd71a",
   "metadata": {},
   "outputs": [
    {
     "data": {
      "text/plain": [
       "int"
      ]
     },
     "execution_count": 41,
     "metadata": {},
     "output_type": "execute_result"
    }
   ],
   "source": [
    "type(test8(25,\"raj\"))"
   ]
  },
  {
   "cell_type": "code",
   "execution_count": 42,
   "id": "9937f7f8",
   "metadata": {},
   "outputs": [
    {
     "data": {
      "text/plain": [
       "60"
      ]
     },
     "execution_count": 42,
     "metadata": {},
     "output_type": "execute_result"
    }
   ],
   "source": [
    "test8(25,\"raj\") + 35"
   ]
  },
  {
   "cell_type": "code",
   "execution_count": 43,
   "id": "c01ab0f5",
   "metadata": {},
   "outputs": [],
   "source": [
    "def test9():\n",
    "    return (\"My name is\")"
   ]
  },
  {
   "cell_type": "code",
   "execution_count": 44,
   "id": "45133969",
   "metadata": {},
   "outputs": [
    {
     "data": {
      "text/plain": [
       "'My name is'"
      ]
     },
     "execution_count": 44,
     "metadata": {},
     "output_type": "execute_result"
    }
   ],
   "source": [
    "test9()"
   ]
  },
  {
   "cell_type": "code",
   "execution_count": 45,
   "id": "3473c75a",
   "metadata": {},
   "outputs": [
    {
     "data": {
      "text/plain": [
       "str"
      ]
     },
     "execution_count": 45,
     "metadata": {},
     "output_type": "execute_result"
    }
   ],
   "source": [
    "type(test9())"
   ]
  },
  {
   "cell_type": "code",
   "execution_count": 46,
   "id": "0523ec4b",
   "metadata": {},
   "outputs": [
    {
     "data": {
      "text/plain": [
       "'My name is Himanshu'"
      ]
     },
     "execution_count": 46,
     "metadata": {},
     "output_type": "execute_result"
    }
   ],
   "source": [
    "test9() + \" Himanshu\""
   ]
  },
  {
   "cell_type": "code",
   "execution_count": 47,
   "id": "a2048ebf",
   "metadata": {},
   "outputs": [],
   "source": [
    "def test10(a,b):\n",
    "    return (a,b**b)"
   ]
  },
  {
   "cell_type": "code",
   "execution_count": 48,
   "id": "f7176361",
   "metadata": {},
   "outputs": [
    {
     "data": {
      "text/plain": [
       "(1, 4)"
      ]
     },
     "execution_count": 48,
     "metadata": {},
     "output_type": "execute_result"
    }
   ],
   "source": [
    "test10(1,2)"
   ]
  },
  {
   "cell_type": "code",
   "execution_count": 49,
   "id": "cc17c3b1",
   "metadata": {},
   "outputs": [
    {
     "data": {
      "text/plain": [
       "(2, 4)"
      ]
     },
     "execution_count": 49,
     "metadata": {},
     "output_type": "execute_result"
    }
   ],
   "source": [
    "test10(2,2)"
   ]
  },
  {
   "cell_type": "code",
   "execution_count": 50,
   "id": "411f1833",
   "metadata": {},
   "outputs": [
    {
     "data": {
      "text/plain": [
       "(2, 27)"
      ]
     },
     "execution_count": 50,
     "metadata": {},
     "output_type": "execute_result"
    }
   ],
   "source": [
    "test10(2,3)"
   ]
  },
  {
   "cell_type": "code",
   "execution_count": 51,
   "id": "789ce119",
   "metadata": {},
   "outputs": [
    {
     "data": {
      "text/plain": [
       "tuple"
      ]
     },
     "execution_count": 51,
     "metadata": {},
     "output_type": "execute_result"
    }
   ],
   "source": [
    "type(test10(2,3))"
   ]
  },
  {
   "cell_type": "code",
   "execution_count": 52,
   "id": "2ffdc7bd",
   "metadata": {},
   "outputs": [],
   "source": [
    "def test11(a,b):\n",
    "    return a ,b**b , a/b , b/a , a**3"
   ]
  },
  {
   "cell_type": "code",
   "execution_count": 53,
   "id": "444f08a9",
   "metadata": {},
   "outputs": [
    {
     "data": {
      "text/plain": [
       "(1, 4, 0.5, 2.0, 1)"
      ]
     },
     "execution_count": 53,
     "metadata": {},
     "output_type": "execute_result"
    }
   ],
   "source": [
    "test11(1,2)"
   ]
  },
  {
   "cell_type": "code",
   "execution_count": 54,
   "id": "df7db8d4",
   "metadata": {},
   "outputs": [
    {
     "data": {
      "text/plain": [
       "(2, 27, 0.6666666666666666, 1.5, 8)"
      ]
     },
     "execution_count": 54,
     "metadata": {},
     "output_type": "execute_result"
    }
   ],
   "source": [
    "test11(2,3)"
   ]
  },
  {
   "cell_type": "code",
   "execution_count": 55,
   "id": "e696a425",
   "metadata": {},
   "outputs": [
    {
     "data": {
      "text/plain": [
       "0.6666666666666666"
      ]
     },
     "execution_count": 55,
     "metadata": {},
     "output_type": "execute_result"
    }
   ],
   "source": [
    "test11(2,3)[2]"
   ]
  },
  {
   "cell_type": "code",
   "execution_count": 56,
   "id": "4d3700fe",
   "metadata": {},
   "outputs": [
    {
     "name": "stdout",
     "output_type": "stream",
     "text": [
      "2\n",
      "27\n",
      "0.6666666666666666\n",
      "1.5\n",
      "8\n"
     ]
    }
   ],
   "source": [
    "for i in test11(2,3):\n",
    "    print(i)"
   ]
  },
  {
   "cell_type": "code",
   "execution_count": 57,
   "id": "d7b38188",
   "metadata": {},
   "outputs": [],
   "source": [
    "def test11(a,b):\n",
    "    return a,b,a*b"
   ]
  },
  {
   "cell_type": "code",
   "execution_count": 58,
   "id": "b60a70ba",
   "metadata": {},
   "outputs": [
    {
     "data": {
      "text/plain": [
       "('raj', 2, 'rajraj')"
      ]
     },
     "execution_count": 58,
     "metadata": {},
     "output_type": "execute_result"
    }
   ],
   "source": [
    "test11(\"raj\",2)"
   ]
  },
  {
   "cell_type": "code",
   "execution_count": 59,
   "id": "2282fd9d",
   "metadata": {},
   "outputs": [],
   "source": [
    "def test12(a,b,c):\n",
    "    return a,b,c"
   ]
  },
  {
   "cell_type": "code",
   "execution_count": 60,
   "id": "e8412c70",
   "metadata": {},
   "outputs": [],
   "source": [
    "m,p,q = test12(40,50,60)"
   ]
  },
  {
   "cell_type": "code",
   "execution_count": 61,
   "id": "e1b42eee",
   "metadata": {},
   "outputs": [
    {
     "data": {
      "text/plain": [
       "40"
      ]
     },
     "execution_count": 61,
     "metadata": {},
     "output_type": "execute_result"
    }
   ],
   "source": [
    "m"
   ]
  },
  {
   "cell_type": "code",
   "execution_count": 62,
   "id": "dc6b5ce5",
   "metadata": {},
   "outputs": [
    {
     "data": {
      "text/plain": [
       "(40, 50)"
      ]
     },
     "execution_count": 62,
     "metadata": {},
     "output_type": "execute_result"
    }
   ],
   "source": [
    "m,p"
   ]
  },
  {
   "cell_type": "code",
   "execution_count": 63,
   "id": "43453803",
   "metadata": {},
   "outputs": [],
   "source": [
    "def test13(b,n):\n",
    "    \"\"\"this is the fnction created by me and it takes two arguments\"\"\"\n",
    "    c = b*n\n",
    "    return c"
   ]
  },
  {
   "cell_type": "code",
   "execution_count": 64,
   "id": "b34ef153",
   "metadata": {},
   "outputs": [
    {
     "data": {
      "text/plain": [
       "20"
      ]
     },
     "execution_count": 64,
     "metadata": {},
     "output_type": "execute_result"
    }
   ],
   "source": [
    "test13(5,4)"
   ]
  },
  {
   "cell_type": "code",
   "execution_count": 65,
   "id": "75c1f132",
   "metadata": {},
   "outputs": [
    {
     "data": {
      "text/plain": [
       "'raj raj raj '"
      ]
     },
     "execution_count": 65,
     "metadata": {},
     "output_type": "execute_result"
    }
   ],
   "source": [
    "test13(\"raj \",3)"
   ]
  },
  {
   "cell_type": "code",
   "execution_count": 66,
   "id": "a0e6e181",
   "metadata": {},
   "outputs": [],
   "source": [
    "def test0(b):\n",
    "    c = []\n",
    "    for i in b:\n",
    "        c.append(i)\n",
    "    return c,c"
   ]
  },
  {
   "cell_type": "code",
   "execution_count": 68,
   "id": "8530e0f2",
   "metadata": {},
   "outputs": [
    {
     "name": "stdout",
     "output_type": "stream",
     "text": [
      "10\n"
     ]
    },
    {
     "data": {
      "text/plain": [
       "(['1', '0'], ['1', '0'])"
      ]
     },
     "execution_count": 68,
     "metadata": {},
     "output_type": "execute_result"
    }
   ],
   "source": [
    "l = input()\n",
    "test0(l)"
   ]
  },
  {
   "cell_type": "code",
   "execution_count": 69,
   "id": "0efa5d3c",
   "metadata": {},
   "outputs": [
    {
     "data": {
      "text/plain": [
       "([1, 2, 3], [1, 2, 3])"
      ]
     },
     "execution_count": 69,
     "metadata": {},
     "output_type": "execute_result"
    }
   ],
   "source": [
    "test0([1,2,3])"
   ]
  },
  {
   "cell_type": "code",
   "execution_count": 70,
   "id": "0f911ec4",
   "metadata": {},
   "outputs": [],
   "source": [
    " x = test0((\"raj\",34,31,\"sahu\"))"
   ]
  },
  {
   "cell_type": "code",
   "execution_count": 71,
   "id": "1c8eceaa",
   "metadata": {},
   "outputs": [
    {
     "data": {
      "text/plain": [
       "(['raj', 34, 31, 'sahu'], ['raj', 34, 31, 'sahu'])"
      ]
     },
     "execution_count": 71,
     "metadata": {},
     "output_type": "execute_result"
    }
   ],
   "source": [
    "x"
   ]
  },
  {
   "cell_type": "code",
   "execution_count": 72,
   "id": "869c00f7",
   "metadata": {},
   "outputs": [
    {
     "data": {
      "text/plain": [
       "tuple"
      ]
     },
     "execution_count": 72,
     "metadata": {},
     "output_type": "execute_result"
    }
   ],
   "source": [
    "type(x)"
   ]
  },
  {
   "cell_type": "code",
   "execution_count": 73,
   "id": "95bc3f63",
   "metadata": {},
   "outputs": [
    {
     "name": "stdout",
     "output_type": "stream",
     "text": [
      "10\n"
     ]
    },
    {
     "data": {
      "text/plain": [
       "(['1', '0'], ['1', '0'])"
      ]
     },
     "execution_count": 73,
     "metadata": {},
     "output_type": "execute_result"
    }
   ],
   "source": [
    "a = input()\n",
    "test0(a)"
   ]
  },
  {
   "cell_type": "code",
   "execution_count": 74,
   "id": "56fd12e6",
   "metadata": {},
   "outputs": [],
   "source": [
    "def test14(dictIn):\n",
    "    l = []\n",
    "    for i in dictIn.values():\n",
    "        if type(i) == str:\n",
    "            l.append(i)\n",
    "    return l"
   ]
  },
  {
   "cell_type": "code",
   "execution_count": 75,
   "id": "0e0b9d1a",
   "metadata": {},
   "outputs": [
    {
     "data": {
      "text/plain": [
       "['raj']"
      ]
     },
     "execution_count": 75,
     "metadata": {},
     "output_type": "execute_result"
    }
   ],
   "source": [
    "test14({\"a\" : 14, \"name\" : \"raj\"})"
   ]
  },
  {
   "cell_type": "code",
   "execution_count": 76,
   "id": "31c8c1e5",
   "metadata": {},
   "outputs": [],
   "source": [
    "def test15(dictIn):\n",
    "    l = []\n",
    "    for i in dictIn.values():\n",
    "        if type(i) == int:\n",
    "            l.append(i)\n",
    "    return l"
   ]
  },
  {
   "cell_type": "code",
   "execution_count": 77,
   "id": "220d7cf9",
   "metadata": {},
   "outputs": [
    {
     "data": {
      "text/plain": [
       "[14]"
      ]
     },
     "execution_count": 77,
     "metadata": {},
     "output_type": "execute_result"
    }
   ],
   "source": [
    "test15({\"a\" : 14, \"name\" : \"raj\"})"
   ]
  },
  {
   "cell_type": "code",
   "execution_count": 78,
   "id": "6322df8a",
   "metadata": {},
   "outputs": [
    {
     "name": "stdout",
     "output_type": "stream",
     "text": [
      "I/P is not dict\n"
     ]
    }
   ],
   "source": [
    "y = {\"a\" : 14, \"name\" : \"raj\"}\n",
    "if type(y) == str:\n",
    "    test14(y)\n",
    "else:\n",
    "    print(\"I/P is not dict\")"
   ]
  },
  {
   "cell_type": "code",
   "execution_count": 79,
   "id": "fae7c01e",
   "metadata": {},
   "outputs": [],
   "source": [
    "def test16():\n",
    "    name = input(\"enter the name\")\n",
    "    mail_id = input(\"enter the mail id\")\n",
    "    phone_no = int(input(\"enter phone no\"))\n",
    "    return({\"Name\":name,\"mail_id\":mail_id,\"phone_no\":phone_no})"
   ]
  },
  {
   "cell_type": "code",
   "execution_count": 81,
   "id": "f93d488f",
   "metadata": {},
   "outputs": [
    {
     "name": "stdout",
     "output_type": "stream",
     "text": [
      "enter the nameds ms\n",
      "enter the mail idjsn\n",
      "enter phone no73982\n",
      "{'Name': 'ds ms', 'mail_id': 'jsn', 'phone_no': 73982}\n"
     ]
    }
   ],
   "source": [
    "print(test16())"
   ]
  },
  {
   "cell_type": "code",
   "execution_count": 82,
   "id": "ea78f7c3",
   "metadata": {},
   "outputs": [
    {
     "name": "stdout",
     "output_type": "stream",
     "text": [
      "namenjksdk\n",
      "mail_idsndknas\n",
      "enter number722227373\n",
      "{'name': 'njksdk', 'mail_id': 'sndknas', 'phone_no': 722227373}\n"
     ]
    }
   ],
   "source": [
    "# with the help of zip\n",
    "def information_(name,mail,phone):\n",
    "    l1 = [\"name\",\"mail_id\",\"phone_no\"]\n",
    "    l2 = [name,mail,phone]\n",
    "    d = {}\n",
    "    for i,j in zip(l1,l2):\n",
    "        d[i] = j\n",
    "    return d\n",
    "name = input(\"name\")\n",
    "mail = input(\"mail_id\")\n",
    "phone = int(input('enter number'))\n",
    "\n",
    "print(information_(name,mail,phone))\n",
    "        "
   ]
  },
  {
   "cell_type": "code",
   "execution_count": 83,
   "id": "385c1c35",
   "metadata": {},
   "outputs": [],
   "source": [
    "def test17(*args):\n",
    "    return args"
   ]
  },
  {
   "cell_type": "code",
   "execution_count": 84,
   "id": "6e69f9ca",
   "metadata": {},
   "outputs": [
    {
     "data": {
      "text/plain": [
       "('raj', 25, (2+3j), 34.5)"
      ]
     },
     "execution_count": 84,
     "metadata": {},
     "output_type": "execute_result"
    }
   ],
   "source": [
    "test17(\"raj\",25,2+3j,34.5)"
   ]
  },
  {
   "cell_type": "code",
   "execution_count": 85,
   "id": "bc144bd3",
   "metadata": {},
   "outputs": [],
   "source": [
    "def test18(*args,a,b):\n",
    "    return a+b"
   ]
  },
  {
   "cell_type": "code",
   "execution_count": 86,
   "id": "56bf6fbe",
   "metadata": {},
   "outputs": [
    {
     "ename": "TypeError",
     "evalue": "test18() missing 2 required keyword-only arguments: 'a' and 'b'",
     "output_type": "error",
     "traceback": [
      "\u001b[1;31m---------------------------------------------------------------------------\u001b[0m",
      "\u001b[1;31mTypeError\u001b[0m                                 Traceback (most recent call last)",
      "Input \u001b[1;32mIn [86]\u001b[0m, in \u001b[0;36m<cell line: 1>\u001b[1;34m()\u001b[0m\n\u001b[1;32m----> 1\u001b[0m \u001b[43mtest18\u001b[49m\u001b[43m(\u001b[49m\u001b[38;5;241;43m2\u001b[39;49m\u001b[43m,\u001b[49m\u001b[38;5;241;43m3\u001b[39;49m\u001b[43m)\u001b[49m\n",
      "\u001b[1;31mTypeError\u001b[0m: test18() missing 2 required keyword-only arguments: 'a' and 'b'"
     ]
    }
   ],
   "source": [
    "test18(2,3)"
   ]
  },
  {
   "cell_type": "code",
   "execution_count": 87,
   "id": "d5d3df56",
   "metadata": {},
   "outputs": [
    {
     "data": {
      "text/plain": [
       "5"
      ]
     },
     "execution_count": 87,
     "metadata": {},
     "output_type": "execute_result"
    }
   ],
   "source": [
    "test18(a = 2, b = 3)"
   ]
  },
  {
   "cell_type": "code",
   "execution_count": 88,
   "id": "bf78ab1a",
   "metadata": {},
   "outputs": [],
   "source": [
    "def test19(*args):\n",
    "    if len(args) > 0:\n",
    "        for i in args:\n",
    "            print(i)"
   ]
  },
  {
   "cell_type": "code",
   "execution_count": 89,
   "id": "f8aa4c3b",
   "metadata": {},
   "outputs": [
    {
     "name": "stdout",
     "output_type": "stream",
     "text": [
      "raj\n",
      "25\n",
      "True\n",
      "himanshu\n"
     ]
    }
   ],
   "source": [
    "test19(\"raj\",25,True,\"himanshu\")"
   ]
  },
  {
   "cell_type": "code",
   "execution_count": 90,
   "id": "0b94e28b",
   "metadata": {},
   "outputs": [
    {
     "name": "stdout",
     "output_type": "stream",
     "text": [
      "raj\n",
      "25\n",
      "True\n",
      "himanshu\n",
      "None\n"
     ]
    }
   ],
   "source": [
    "print(test19(\"raj\",25,True,\"himanshu\"))"
   ]
  },
  {
   "cell_type": "code",
   "execution_count": 91,
   "id": "3a26e756",
   "metadata": {},
   "outputs": [],
   "source": [
    "def test20(*kuchbhi, a,b):\n",
    "    z = \"\"\n",
    "    for i in kuchbhi:\n",
    "        z = z + str(i)\n",
    "        return z ,a+b     #loop se bahar nahi aaya"
   ]
  },
  {
   "cell_type": "code",
   "execution_count": 92,
   "id": "9b79fecd",
   "metadata": {},
   "outputs": [
    {
     "data": {
      "text/plain": [
       "('1', 15)"
      ]
     },
     "execution_count": 92,
     "metadata": {},
     "output_type": "execute_result"
    }
   ],
   "source": [
    "test20(1,2,3,4,5, a = 10, b = 5)"
   ]
  },
  {
   "cell_type": "code",
   "execution_count": 93,
   "id": "9b042ebd",
   "metadata": {},
   "outputs": [],
   "source": [
    "def test21(*kuchbhi, a,b):\n",
    "    z = \"\"\n",
    "    for i in kuchbhi:\n",
    "        z = z + str(i)\n",
    "    return z ,a+b        #loop se bahar hai"
   ]
  },
  {
   "cell_type": "code",
   "execution_count": 94,
   "id": "293fea9d",
   "metadata": {},
   "outputs": [
    {
     "data": {
      "text/plain": [
       "('12345', 15)"
      ]
     },
     "execution_count": 94,
     "metadata": {},
     "output_type": "execute_result"
    }
   ],
   "source": [
    "test21(1,2,3,4,5, a = 10, b = 5)"
   ]
  },
  {
   "cell_type": "code",
   "execution_count": 95,
   "id": "cc3c71cd",
   "metadata": {},
   "outputs": [],
   "source": [
    "def function_(*raj):\n",
    "    return raj"
   ]
  },
  {
   "cell_type": "code",
   "execution_count": 96,
   "id": "29fcebb2",
   "metadata": {},
   "outputs": [
    {
     "data": {
      "text/plain": [
       "()"
      ]
     },
     "execution_count": 96,
     "metadata": {},
     "output_type": "execute_result"
    }
   ],
   "source": [
    "function_()   #it gives tuple"
   ]
  },
  {
   "cell_type": "code",
   "execution_count": 97,
   "id": "4f180dea",
   "metadata": {},
   "outputs": [
    {
     "data": {
      "text/plain": [
       "(2, 3, 4, 6, 78)"
      ]
     },
     "execution_count": 97,
     "metadata": {},
     "output_type": "execute_result"
    }
   ],
   "source": [
    "function_(2,3,4,6,78)"
   ]
  },
  {
   "cell_type": "code",
   "execution_count": 98,
   "id": "4a7d1965",
   "metadata": {},
   "outputs": [],
   "source": [
    "def test22(**kwargs):\n",
    "    return kwargs"
   ]
  },
  {
   "cell_type": "code",
   "execution_count": 99,
   "id": "28eeb4e4",
   "metadata": {},
   "outputs": [
    {
     "data": {
      "text/plain": [
       "{}"
      ]
     },
     "execution_count": 99,
     "metadata": {},
     "output_type": "execute_result"
    }
   ],
   "source": [
    "test22()   #it gives dictionary"
   ]
  },
  {
   "cell_type": "code",
   "execution_count": 100,
   "id": "fe5e144e",
   "metadata": {},
   "outputs": [
    {
     "ename": "TypeError",
     "evalue": "test22() takes 0 positional arguments but 1 was given",
     "output_type": "error",
     "traceback": [
      "\u001b[1;31m---------------------------------------------------------------------------\u001b[0m",
      "\u001b[1;31mTypeError\u001b[0m                                 Traceback (most recent call last)",
      "Input \u001b[1;32mIn [100]\u001b[0m, in \u001b[0;36m<cell line: 1>\u001b[1;34m()\u001b[0m\n\u001b[1;32m----> 1\u001b[0m \u001b[43mtest22\u001b[49m\u001b[43m(\u001b[49m\u001b[38;5;241;43m22\u001b[39;49m\u001b[43m)\u001b[49m\n",
      "\u001b[1;31mTypeError\u001b[0m: test22() takes 0 positional arguments but 1 was given"
     ]
    }
   ],
   "source": [
    "test22(22)"
   ]
  },
  {
   "cell_type": "code",
   "execution_count": 101,
   "id": "181860f6",
   "metadata": {},
   "outputs": [
    {
     "data": {
      "text/plain": [
       "{'a': 22}"
      ]
     },
     "execution_count": 101,
     "metadata": {},
     "output_type": "execute_result"
    }
   ],
   "source": [
    "test22(a = 22)   #key value pair"
   ]
  },
  {
   "cell_type": "code",
   "execution_count": 102,
   "id": "82cec4c2",
   "metadata": {},
   "outputs": [
    {
     "data": {
      "text/plain": [
       "{'name': 'Himanshu', 'age': 25, 'b': (2, 3, 4)}"
      ]
     },
     "execution_count": 102,
     "metadata": {},
     "output_type": "execute_result"
    }
   ],
   "source": [
    "test22(name = \"Himanshu\", age = 25, b = (2,3,4))"
   ]
  },
  {
   "cell_type": "code",
   "execution_count": 103,
   "id": "8d3e1eff",
   "metadata": {},
   "outputs": [],
   "source": [
    "def func(**kwargs):\n",
    "    if len(kwargs)>0:\n",
    "        for i in kwargs:\n",
    "            print(i) \n",
    "    return kwargs"
   ]
  },
  {
   "cell_type": "code",
   "execution_count": 104,
   "id": "378d1e5d",
   "metadata": {},
   "outputs": [
    {
     "data": {
      "text/plain": [
       "{}"
      ]
     },
     "execution_count": 104,
     "metadata": {},
     "output_type": "execute_result"
    }
   ],
   "source": [
    "func()"
   ]
  },
  {
   "cell_type": "code",
   "execution_count": 105,
   "id": "f64b1275",
   "metadata": {},
   "outputs": [
    {
     "name": "stdout",
     "output_type": "stream",
     "text": [
      "name\n",
      "age\n",
      "email\n"
     ]
    },
    {
     "data": {
      "text/plain": [
       "{'name': 'raj', 'age': 25, 'email': 'dkjckja'}"
      ]
     },
     "execution_count": 105,
     "metadata": {},
     "output_type": "execute_result"
    }
   ],
   "source": [
    "func(name = 'raj', age = 25, email = \"dkjckja\")"
   ]
  },
  {
   "cell_type": "code",
   "execution_count": 106,
   "id": "fd7aa007",
   "metadata": {},
   "outputs": [],
   "source": [
    "def test23(**kwargs):\n",
    "    for i in kwargs.values():\n",
    "        if type(i) == list:\n",
    "            print(i)\n",
    "#     return kwargs"
   ]
  },
  {
   "cell_type": "code",
   "execution_count": 107,
   "id": "1c8b55a7",
   "metadata": {},
   "outputs": [
    {
     "name": "stdout",
     "output_type": "stream",
     "text": [
      "[83, 23, 56, True, 34.5, (3+4j)]\n"
     ]
    }
   ],
   "source": [
    "test23(a = (2,3,45,6), raj = [83,23,56,True,34.5,3+4j], n = {\"name\":\"raj\"})"
   ]
  },
  {
   "cell_type": "code",
   "execution_count": 108,
   "id": "ee63f3a2",
   "metadata": {},
   "outputs": [],
   "source": [
    "def test23(**kwargs):\n",
    "    for i in kwargs.values():\n",
    "        if type(i) == list:\n",
    "            print(i)\n",
    "    return kwargs"
   ]
  },
  {
   "cell_type": "code",
   "execution_count": 109,
   "id": "db3b741e",
   "metadata": {},
   "outputs": [
    {
     "name": "stdout",
     "output_type": "stream",
     "text": [
      "[83, 23, 56, True, 34.5, (3+4j)]\n"
     ]
    },
    {
     "data": {
      "text/plain": [
       "{'a': (2, 3, 45, 6),\n",
       " 'raj': [83, 23, 56, True, 34.5, (3+4j)],\n",
       " 'n': {'name': 'raj'}}"
      ]
     },
     "execution_count": 109,
     "metadata": {},
     "output_type": "execute_result"
    }
   ],
   "source": [
    "test23(a = (2,3,45,6), raj = [83,23,56,True,34.5,3+4j], n = {\"name\":\"raj\"})"
   ]
  },
  {
   "cell_type": "code",
   "execution_count": 110,
   "id": "1efa4275",
   "metadata": {},
   "outputs": [],
   "source": [
    "a = 7\n",
    "b = 8\n",
    "def test24(a,b):\n",
    "    return a+b"
   ]
  },
  {
   "cell_type": "code",
   "execution_count": 111,
   "id": "69baf054",
   "metadata": {},
   "outputs": [
    {
     "data": {
      "text/plain": [
       "15"
      ]
     },
     "execution_count": 111,
     "metadata": {},
     "output_type": "execute_result"
    }
   ],
   "source": [
    "test24(a,b)"
   ]
  },
  {
   "cell_type": "markdown",
   "id": "c70eabb5",
   "metadata": {},
   "source": [
    "### lambda input : return"
   ]
  },
  {
   "cell_type": "code",
   "execution_count": 112,
   "id": "c2bc3946",
   "metadata": {},
   "outputs": [],
   "source": [
    "x = lambda a,b : (a+b)"
   ]
  },
  {
   "cell_type": "code",
   "execution_count": 113,
   "id": "ebf73913",
   "metadata": {},
   "outputs": [
    {
     "data": {
      "text/plain": [
       "19"
      ]
     },
     "execution_count": 113,
     "metadata": {},
     "output_type": "execute_result"
    }
   ],
   "source": [
    "x(9,10)"
   ]
  },
  {
   "cell_type": "code",
   "execution_count": 114,
   "id": "aff95be8",
   "metadata": {},
   "outputs": [
    {
     "data": {
      "text/plain": [
       "15"
      ]
     },
     "execution_count": 114,
     "metadata": {},
     "output_type": "execute_result"
    }
   ],
   "source": [
    "x(a,b)    #predifined a and b"
   ]
  },
  {
   "cell_type": "code",
   "execution_count": 115,
   "id": "cc7ec574",
   "metadata": {},
   "outputs": [],
   "source": [
    "s = lambda a,n : a**n"
   ]
  },
  {
   "cell_type": "code",
   "execution_count": 116,
   "id": "f56c42e8",
   "metadata": {},
   "outputs": [
    {
     "data": {
      "text/plain": [
       "8"
      ]
     },
     "execution_count": 116,
     "metadata": {},
     "output_type": "execute_result"
    }
   ],
   "source": [
    "s(2,3)"
   ]
  },
  {
   "cell_type": "code",
   "execution_count": 117,
   "id": "5983c2f3",
   "metadata": {},
   "outputs": [],
   "source": [
    "b = lambda *args : args"
   ]
  },
  {
   "cell_type": "code",
   "execution_count": 118,
   "id": "1f27cb7e",
   "metadata": {},
   "outputs": [
    {
     "data": {
      "text/plain": [
       "('raj', 'multiple_arguments', 23, True, 23.5)"
      ]
     },
     "execution_count": 118,
     "metadata": {},
     "output_type": "execute_result"
    }
   ],
   "source": [
    "b('raj', \"multiple_arguments\", 23, True, 23.5)"
   ]
  },
  {
   "cell_type": "code",
   "execution_count": 119,
   "id": "5d632707",
   "metadata": {},
   "outputs": [],
   "source": [
    "c = lambda **kwargs : kwargs"
   ]
  },
  {
   "cell_type": "code",
   "execution_count": 120,
   "id": "5d290d85",
   "metadata": {},
   "outputs": [
    {
     "data": {
      "text/plain": [
       "{'name': 'raj', 'age': 25}"
      ]
     },
     "execution_count": 120,
     "metadata": {},
     "output_type": "execute_result"
    }
   ],
   "source": [
    "c(name = \"raj\", age = 25, )"
   ]
  },
  {
   "cell_type": "code",
   "execution_count": 121,
   "id": "f015ee96",
   "metadata": {},
   "outputs": [],
   "source": [
    "# for loop in lambda function"
   ]
  },
  {
   "cell_type": "code",
   "execution_count": 122,
   "id": "59767651",
   "metadata": {},
   "outputs": [],
   "source": [
    "# list comprehension\n",
    "c1 = lambda *args : [i for i in args]"
   ]
  },
  {
   "cell_type": "code",
   "execution_count": 123,
   "id": "7d068df8",
   "metadata": {},
   "outputs": [
    {
     "data": {
      "text/plain": [
       "[1, 2, 3, 4, 5, 6]"
      ]
     },
     "execution_count": 123,
     "metadata": {},
     "output_type": "execute_result"
    }
   ],
   "source": [
    "c1(1,2,3,4,5,6)"
   ]
  },
  {
   "cell_type": "code",
   "execution_count": 124,
   "id": "030f5b10",
   "metadata": {},
   "outputs": [],
   "source": [
    "c2 = lambda *args : [i**2 for i in args]"
   ]
  },
  {
   "cell_type": "code",
   "execution_count": 125,
   "id": "f91d78cd",
   "metadata": {},
   "outputs": [
    {
     "data": {
      "text/plain": [
       "[1, 4, 9, 16, 25, 36]"
      ]
     },
     "execution_count": 125,
     "metadata": {},
     "output_type": "execute_result"
    }
   ],
   "source": [
    "c2(1,2,3,4,5,6)"
   ]
  },
  {
   "cell_type": "code",
   "execution_count": 126,
   "id": "48b2ebe4",
   "metadata": {},
   "outputs": [],
   "source": [
    "# dictionary comprehension\n",
    "c3 = lambda *args : {i : i**2 for i in args}"
   ]
  },
  {
   "cell_type": "code",
   "execution_count": 127,
   "id": "25664724",
   "metadata": {},
   "outputs": [
    {
     "data": {
      "text/plain": [
       "{1: 1, 2: 4, 3: 9, 4: 16, 5: 25, 6: 36}"
      ]
     },
     "execution_count": 127,
     "metadata": {},
     "output_type": "execute_result"
    }
   ],
   "source": [
    "c3(1,2,3,4,5,6)"
   ]
  },
  {
   "cell_type": "markdown",
   "id": "7828b31a",
   "metadata": {},
   "source": [
    "### Creating a list"
   ]
  },
  {
   "cell_type": "code",
   "execution_count": 128,
   "id": "f234f011",
   "metadata": {},
   "outputs": [],
   "source": [
    "c4 =list(range(10))"
   ]
  },
  {
   "cell_type": "code",
   "execution_count": 129,
   "id": "d2bda035",
   "metadata": {},
   "outputs": [
    {
     "data": {
      "text/plain": [
       "[0, 1, 2, 3, 4, 5, 6, 7, 8, 9]"
      ]
     },
     "execution_count": 129,
     "metadata": {},
     "output_type": "execute_result"
    }
   ],
   "source": [
    "c4"
   ]
  },
  {
   "cell_type": "code",
   "execution_count": 130,
   "id": "667742bb",
   "metadata": {},
   "outputs": [],
   "source": [
    "def c5(n):\n",
    "    l = []\n",
    "    for i in range(n):\n",
    "        l.append(i)\n",
    "    return l"
   ]
  },
  {
   "cell_type": "code",
   "execution_count": 131,
   "id": "5cb3330e",
   "metadata": {},
   "outputs": [
    {
     "data": {
      "text/plain": [
       "[0, 1, 2, 3, 4, 5, 6, 7, 8, 9]"
      ]
     },
     "execution_count": 131,
     "metadata": {},
     "output_type": "execute_result"
    }
   ],
   "source": [
    "c5(10)"
   ]
  },
  {
   "cell_type": "code",
   "execution_count": 132,
   "id": "440bc731",
   "metadata": {},
   "outputs": [
    {
     "data": {
      "text/plain": [
       "[0, 1, 2, 3, 4, 5, 6, 7, 8, 9]"
      ]
     },
     "execution_count": 132,
     "metadata": {},
     "output_type": "execute_result"
    }
   ],
   "source": [
    "c6 = lambda n : [i for i in range(n)]\n",
    "c6(10)"
   ]
  },
  {
   "cell_type": "code",
   "execution_count": 134,
   "id": "66747e83",
   "metadata": {},
   "outputs": [
    {
     "name": "stdout",
     "output_type": "stream",
     "text": [
      "enter the number10\n",
      "[0, 1, 2, 3, 4, 5, 6, 7, 8, 9]\n"
     ]
    }
   ],
   "source": [
    "ask = int(input(\"enter the number\"))\n",
    "l = []\n",
    "for i in range(ask):\n",
    "    l.append(i)\n",
    "print(l)"
   ]
  },
  {
   "cell_type": "code",
   "execution_count": 135,
   "id": "01529bf1",
   "metadata": {},
   "outputs": [
    {
     "data": {
      "text/plain": [
       "[0, 1, 2, 3, 4, 5, 6, 7, 8, 9]"
      ]
     },
     "execution_count": 135,
     "metadata": {},
     "output_type": "execute_result"
    }
   ],
   "source": [
    "[i for i in range(10)]"
   ]
  },
  {
   "cell_type": "code",
   "execution_count": 136,
   "id": "724887ee",
   "metadata": {},
   "outputs": [
    {
     "name": "stdout",
     "output_type": "stream",
     "text": [
      "(2, 6)\n",
      "(3, 7)\n",
      "(4, 8)\n"
     ]
    }
   ],
   "source": [
    "c = (2,3,4)\n",
    "d = (6,7,8)\n",
    "for i in zip(c,d):\n",
    "    print(i)"
   ]
  },
  {
   "cell_type": "code",
   "execution_count": 137,
   "id": "3773f512",
   "metadata": {},
   "outputs": [
    {
     "name": "stdout",
     "output_type": "stream",
     "text": [
      "[24, 36, 58, 80, 66]\n"
     ]
    }
   ],
   "source": [
    "li = [22,34,56,78,64]\n",
    "li1 = []\n",
    "for i in li:\n",
    "    li1.append(i+2)\n",
    "print(li1)"
   ]
  },
  {
   "cell_type": "code",
   "execution_count": 138,
   "id": "f08ab31d",
   "metadata": {},
   "outputs": [
    {
     "data": {
      "text/plain": [
       "[24, 36, 58, 80, 66]"
      ]
     },
     "execution_count": 138,
     "metadata": {},
     "output_type": "execute_result"
    }
   ],
   "source": [
    "li = [22,34,56,78,64]\n",
    "[i+2 for i in li]"
   ]
  },
  {
   "cell_type": "code",
   "execution_count": null,
   "id": "1bb44b46",
   "metadata": {},
   "outputs": [],
   "source": []
  },
  {
   "cell_type": "code",
   "execution_count": null,
   "id": "8bd560a8",
   "metadata": {},
   "outputs": [],
   "source": []
  },
  {
   "cell_type": "code",
   "execution_count": 139,
   "id": "5fdf3e7e",
   "metadata": {},
   "outputs": [
    {
     "data": {
      "text/plain": [
       "[24, 36, 58, 80, 66]"
      ]
     },
     "execution_count": 139,
     "metadata": {},
     "output_type": "execute_result"
    }
   ],
   "source": [
    "list(map(lambda a: a+2, li))"
   ]
  },
  {
   "cell_type": "code",
   "execution_count": 140,
   "id": "ce483d39",
   "metadata": {},
   "outputs": [
    {
     "data": {
      "text/plain": [
       "<map at 0x146ff4112b0>"
      ]
     },
     "execution_count": 140,
     "metadata": {},
     "output_type": "execute_result"
    }
   ],
   "source": [
    "# map function takes map(function, iterable)\n",
    "def addtwo(n):\n",
    "    return n+2\n",
    "map(addtwo, li)"
   ]
  },
  {
   "cell_type": "code",
   "execution_count": 141,
   "id": "9c76fe7f",
   "metadata": {},
   "outputs": [
    {
     "data": {
      "text/plain": [
       "[24, 36, 58, 80, 66]"
      ]
     },
     "execution_count": 141,
     "metadata": {},
     "output_type": "execute_result"
    }
   ],
   "source": [
    "list(map(addtwo, li))"
   ]
  },
  {
   "cell_type": "code",
   "execution_count": 142,
   "id": "b525eeb6",
   "metadata": {},
   "outputs": [],
   "source": [
    "lis = [1,2,3,4,\"raj\",6,8,\"sahu\"]"
   ]
  },
  {
   "cell_type": "code",
   "execution_count": 143,
   "id": "c55c113a",
   "metadata": {},
   "outputs": [
    {
     "data": {
      "text/plain": [
       "['1', '2', '3', '4', 'raj', '6', '8', 'sahu']"
      ]
     },
     "execution_count": 143,
     "metadata": {},
     "output_type": "execute_result"
    }
   ],
   "source": [
    "# converting all the data into str format by using map and lambda function\n",
    "list(map(lambda i : str(i),lis))"
   ]
  },
  {
   "cell_type": "code",
   "execution_count": 144,
   "id": "8be66812",
   "metadata": {},
   "outputs": [],
   "source": [
    "def funct(n):\n",
    "    if type(n) == int:\n",
    "        n = str(n)\n",
    "    else:\n",
    "        n = n+\" ok\"\n",
    "    return n"
   ]
  },
  {
   "cell_type": "code",
   "execution_count": 145,
   "id": "5a520881",
   "metadata": {},
   "outputs": [
    {
     "data": {
      "text/plain": [
       "['1', '2', '3', '4', 'raj ok', '6', '8', 'sahu ok']"
      ]
     },
     "execution_count": 145,
     "metadata": {},
     "output_type": "execute_result"
    }
   ],
   "source": [
    "list(map(funct, lis))"
   ]
  },
  {
   "cell_type": "code",
   "execution_count": 156,
   "id": "9ed3cff3",
   "metadata": {},
   "outputs": [],
   "source": [
    "def func(n):\n",
    "    if type(n) == int:\n",
    "        n = n + 2\n",
    "    else:\n",
    "        n = n+\" ok\"\n",
    "    return n"
   ]
  },
  {
   "cell_type": "code",
   "execution_count": 147,
   "id": "93ccff9c",
   "metadata": {},
   "outputs": [
    {
     "data": {
      "text/plain": [
       "[3, 4, 5, 6, 'raj ok', 8, 10, 'sahu ok']"
      ]
     },
     "execution_count": 147,
     "metadata": {},
     "output_type": "execute_result"
    }
   ],
   "source": [
    "list(map(func,lis))"
   ]
  },
  {
   "cell_type": "code",
   "execution_count": 158,
   "id": "6dd1284e",
   "metadata": {},
   "outputs": [
    {
     "data": {
      "text/plain": [
       "[3, 4, 5, 6, 'raj ok', 8, 10, 'sahu ok']"
      ]
     },
     "execution_count": 158,
     "metadata": {},
     "output_type": "execute_result"
    }
   ],
   "source": [
    "# in form of lambda function\n",
    "list(map(lambda a: a+2 if type(a) == int else a + \" ok\",lis))"
   ]
  },
  {
   "cell_type": "code",
   "execution_count": null,
   "id": "d2386672",
   "metadata": {},
   "outputs": [],
   "source": []
  },
  {
   "cell_type": "code",
   "execution_count": 148,
   "id": "c1b0323a",
   "metadata": {},
   "outputs": [],
   "source": [
    "def func(n):\n",
    "    for i in n:\n",
    "        if type(i) == int:\n",
    "            i = i + 2\n",
    "        else:\n",
    "            i = i+\" ok\"\n",
    "    return i"
   ]
  },
  {
   "cell_type": "code",
   "execution_count": 155,
   "id": "fe693eba",
   "metadata": {},
   "outputs": [
    {
     "ename": "TypeError",
     "evalue": "'int' object is not iterable",
     "output_type": "error",
     "traceback": [
      "\u001b[1;31m---------------------------------------------------------------------------\u001b[0m",
      "\u001b[1;31mTypeError\u001b[0m                                 Traceback (most recent call last)",
      "Input \u001b[1;32mIn [155]\u001b[0m, in \u001b[0;36m<cell line: 1>\u001b[1;34m()\u001b[0m\n\u001b[1;32m----> 1\u001b[0m \u001b[38;5;28;43mlist\u001b[39;49m\u001b[43m(\u001b[49m\u001b[38;5;28;43mmap\u001b[39;49m\u001b[43m(\u001b[49m\u001b[43mfunc\u001b[49m\u001b[43m,\u001b[49m\u001b[43mlis\u001b[49m\u001b[43m)\u001b[49m\u001b[43m)\u001b[49m\n",
      "Input \u001b[1;32mIn [148]\u001b[0m, in \u001b[0;36mfunc\u001b[1;34m(n)\u001b[0m\n\u001b[0;32m      1\u001b[0m \u001b[38;5;28;01mdef\u001b[39;00m \u001b[38;5;21mfunc\u001b[39m(n):\n\u001b[1;32m----> 2\u001b[0m     \u001b[38;5;28;01mfor\u001b[39;00m i \u001b[38;5;129;01min\u001b[39;00m n:\n\u001b[0;32m      3\u001b[0m         \u001b[38;5;28;01mif\u001b[39;00m \u001b[38;5;28mtype\u001b[39m(i) \u001b[38;5;241m==\u001b[39m \u001b[38;5;28mint\u001b[39m:\n\u001b[0;32m      4\u001b[0m             i \u001b[38;5;241m=\u001b[39m i \u001b[38;5;241m+\u001b[39m \u001b[38;5;241m2\u001b[39m\n",
      "\u001b[1;31mTypeError\u001b[0m: 'int' object is not iterable"
     ]
    }
   ],
   "source": [
    "list(map(func,lis))"
   ]
  },
  {
   "cell_type": "code",
   "execution_count": 150,
   "id": "62be94b9",
   "metadata": {},
   "outputs": [],
   "source": [
    "kk = [1,2,3,4,56,7]"
   ]
  },
  {
   "cell_type": "code",
   "execution_count": 151,
   "id": "046f6951",
   "metadata": {},
   "outputs": [
    {
     "name": "stdout",
     "output_type": "stream",
     "text": [
      "3\n",
      "5\n",
      "6\n",
      "58\n",
      "9\n"
     ]
    }
   ],
   "source": [
    "for i in kk:\n",
    "    if i == 2:\n",
    "        continue\n",
    "    print(i+2)\n",
    "        "
   ]
  },
  {
   "cell_type": "code",
   "execution_count": 152,
   "id": "bd860212",
   "metadata": {},
   "outputs": [
    {
     "ename": "TypeError",
     "evalue": "'int' object is not iterable",
     "output_type": "error",
     "traceback": [
      "\u001b[1;31m---------------------------------------------------------------------------\u001b[0m",
      "\u001b[1;31mTypeError\u001b[0m                                 Traceback (most recent call last)",
      "Input \u001b[1;32mIn [152]\u001b[0m, in \u001b[0;36m<cell line: 1>\u001b[1;34m()\u001b[0m\n\u001b[0;32m      4\u001b[0m \u001b[38;5;28;01melse\u001b[39;00m:\n\u001b[0;32m      5\u001b[0m     i \u001b[38;5;241m=\u001b[39m i\u001b[38;5;241m+\u001b[39m\u001b[38;5;124m\"\u001b[39m\u001b[38;5;124m ok\u001b[39m\u001b[38;5;124m\"\u001b[39m\n\u001b[1;32m----> 6\u001b[0m \u001b[38;5;28mprint\u001b[39m(\u001b[38;5;28;43mlist\u001b[39;49m\u001b[43m(\u001b[49m\u001b[43mi\u001b[49m\u001b[43m)\u001b[49m)\n",
      "\u001b[1;31mTypeError\u001b[0m: 'int' object is not iterable"
     ]
    }
   ],
   "source": [
    "for i in lis:\n",
    "    if type(i) == int:\n",
    "        i = i + 2\n",
    "    else:\n",
    "        i = i+\" ok\"\n",
    "    print(list(i))"
   ]
  },
  {
   "cell_type": "code",
   "execution_count": 153,
   "id": "4a3d94de",
   "metadata": {},
   "outputs": [
    {
     "name": "stdout",
     "output_type": "stream",
     "text": [
      "3\n",
      "4\n",
      "5\n",
      "6\n",
      "raj ok\n",
      "8\n",
      "10\n",
      "sahu ok\n"
     ]
    }
   ],
   "source": [
    "for i in lis:\n",
    "    if type(i) == int:\n",
    "        i = i + 2\n",
    "    else:\n",
    "        i = i+\" ok\"\n",
    "    print(i)"
   ]
  },
  {
   "cell_type": "code",
   "execution_count": 154,
   "id": "3ce8ccb1",
   "metadata": {},
   "outputs": [
    {
     "name": "stdout",
     "output_type": "stream",
     "text": [
      "[3, 4, 5, 6, 8, 10]\n"
     ]
    }
   ],
   "source": [
    "g = []\n",
    "for i in lis:\n",
    "    if type(i) == int:\n",
    "        i = i + 2\n",
    "        g.append(i)\n",
    "print(g)\n",
    "   "
   ]
  },
  {
   "cell_type": "code",
   "execution_count": 162,
   "id": "d257a8f4",
   "metadata": {},
   "outputs": [
    {
     "name": "stdout",
     "output_type": "stream",
     "text": [
      "0 0\n",
      "1 1\n",
      "3 2\n",
      "6 3\n",
      "10 4\n",
      "15 5\n",
      "21 6\n",
      "28 7\n",
      "36 8\n",
      "45 9\n"
     ]
    }
   ],
   "source": [
    "l3 = list(range(10))\n",
    "a = 0\n",
    "for i in l3:\n",
    "    a = a + i\n",
    "    print(a,i)\n",
    "    i = i +1"
   ]
  },
  {
   "cell_type": "code",
   "execution_count": 166,
   "id": "03c17be0",
   "metadata": {},
   "outputs": [
    {
     "name": "stdout",
     "output_type": "stream",
     "text": [
      "0\n",
      "1\n",
      "3\n",
      "6\n",
      "10\n",
      "15\n",
      "21\n",
      "28\n",
      "36\n",
      "45\n"
     ]
    }
   ],
   "source": [
    "\n",
    "a = 0 \n",
    "for i in l3:\n",
    "    a = a + i \n",
    "    print(a)"
   ]
  },
  {
   "cell_type": "code",
   "execution_count": 170,
   "id": "1b01e11c",
   "metadata": {},
   "outputs": [
    {
     "name": "stdout",
     "output_type": "stream",
     "text": [
      "45\n"
     ]
    }
   ],
   "source": [
    "a = 0 \n",
    "for i in l3:\n",
    "    a = a +i \n",
    "print(a)"
   ]
  },
  {
   "cell_type": "code",
   "execution_count": 172,
   "id": "f13aff32",
   "metadata": {},
   "outputs": [
    {
     "name": "stdout",
     "output_type": "stream",
     "text": [
      "429\n"
     ]
    }
   ],
   "source": [
    "l4 = [34,54,65,78,46,84,68]\n",
    "a = 0 \n",
    "for i in l4:\n",
    "    a = a + i\n",
    "print(a)   "
   ]
  },
  {
   "cell_type": "code",
   "execution_count": 174,
   "id": "3d6e7401",
   "metadata": {},
   "outputs": [
    {
     "name": "stdout",
     "output_type": "stream",
     "text": [
      "34 34\n",
      "88 54\n",
      "153 65\n",
      "231 78\n",
      "277 46\n",
      "361 84\n",
      "429 68\n"
     ]
    }
   ],
   "source": [
    "a = 0 \n",
    "for i in l4:\n",
    "    a = a+i\n",
    "    print(a,i)"
   ]
  },
  {
   "cell_type": "code",
   "execution_count": 179,
   "id": "e2d3ee81",
   "metadata": {},
   "outputs": [
    {
     "name": "stdout",
     "output_type": "stream",
     "text": [
      "34 35\n",
      "88 55\n",
      "153 66\n",
      "231 79\n",
      "277 47\n",
      "361 85\n",
      "429 69\n"
     ]
    }
   ],
   "source": [
    "a = 0 \n",
    "for i in l4:\n",
    "    a = a + i\n",
    "    i = i + 1\n",
    "    print(a,i)"
   ]
  },
  {
   "cell_type": "code",
   "execution_count": 180,
   "id": "a60f262e",
   "metadata": {},
   "outputs": [
    {
     "name": "stdout",
     "output_type": "stream",
     "text": [
      "35 35\n",
      "90 55\n",
      "156 66\n",
      "235 79\n",
      "282 47\n",
      "367 85\n",
      "436 69\n"
     ]
    }
   ],
   "source": [
    "a = 0 \n",
    "for i in l4:\n",
    "    i = i + 1\n",
    "    a = a + i\n",
    "    print(a,i)"
   ]
  },
  {
   "cell_type": "code",
   "execution_count": 181,
   "id": "8768d4d8",
   "metadata": {},
   "outputs": [],
   "source": [
    "# reduce function   reduce(function , iterabale)"
   ]
  },
  {
   "cell_type": "code",
   "execution_count": 182,
   "id": "04eb094c",
   "metadata": {},
   "outputs": [],
   "source": [
    "from functools import reduce"
   ]
  },
  {
   "cell_type": "code",
   "execution_count": 187,
   "id": "6933fdfd",
   "metadata": {},
   "outputs": [
    {
     "data": {
      "text/plain": [
       "429"
      ]
     },
     "execution_count": 187,
     "metadata": {},
     "output_type": "execute_result"
    }
   ],
   "source": [
    "reduce(lambda a,b : a+b,l4)"
   ]
  },
  {
   "cell_type": "code",
   "execution_count": 188,
   "id": "148431e0",
   "metadata": {},
   "outputs": [
    {
     "data": {
      "text/plain": [
       "429"
      ]
     },
     "execution_count": 188,
     "metadata": {},
     "output_type": "execute_result"
    }
   ],
   "source": [
    "def addall(a,b):\n",
    "    return a+b\n",
    "reduce(addall,l4)"
   ]
  },
  {
   "cell_type": "code",
   "execution_count": 190,
   "id": "c31cb97c",
   "metadata": {},
   "outputs": [
    {
     "data": {
      "text/plain": [
       "9"
      ]
     },
     "execution_count": 190,
     "metadata": {},
     "output_type": "execute_result"
    }
   ],
   "source": [
    "reduce(lambda a,b : a if a > b else b,l)"
   ]
  },
  {
   "cell_type": "code",
   "execution_count": 191,
   "id": "bef84e06",
   "metadata": {},
   "outputs": [
    {
     "data": {
      "text/plain": [
       "[0, 1, 2, 3, 4, 5, 6, 7, 8, 9]"
      ]
     },
     "execution_count": 191,
     "metadata": {},
     "output_type": "execute_result"
    }
   ],
   "source": [
    "l"
   ]
  },
  {
   "cell_type": "code",
   "execution_count": 193,
   "id": "d03bcfe1",
   "metadata": {},
   "outputs": [
    {
     "ename": "TypeError",
     "evalue": "<lambda>() missing 1 required positional argument: 'c'",
     "output_type": "error",
     "traceback": [
      "\u001b[1;31m---------------------------------------------------------------------------\u001b[0m",
      "\u001b[1;31mTypeError\u001b[0m                                 Traceback (most recent call last)",
      "Input \u001b[1;32mIn [193]\u001b[0m, in \u001b[0;36m<cell line: 1>\u001b[1;34m()\u001b[0m\n\u001b[1;32m----> 1\u001b[0m \u001b[43mreduce\u001b[49m\u001b[43m(\u001b[49m\u001b[38;5;28;43;01mlambda\u001b[39;49;00m\u001b[43m \u001b[49m\u001b[43ma\u001b[49m\u001b[43m,\u001b[49m\u001b[43mb\u001b[49m\u001b[43m,\u001b[49m\u001b[43mc\u001b[49m\u001b[43m \u001b[49m\u001b[43m:\u001b[49m\u001b[43m \u001b[49m\u001b[43ma\u001b[49m\u001b[38;5;241;43m+\u001b[39;49m\u001b[43mb\u001b[49m\u001b[38;5;241;43m+\u001b[39;49m\u001b[43mc\u001b[49m\u001b[43m,\u001b[49m\u001b[43m \u001b[49m\u001b[43ml4\u001b[49m\u001b[43m)\u001b[49m\n",
      "\u001b[1;31mTypeError\u001b[0m: <lambda>() missing 1 required positional argument: 'c'"
     ]
    }
   ],
   "source": [
    "reduce(lambda a,b,c : a+b+c, l4)"
   ]
  },
  {
   "cell_type": "code",
   "execution_count": 207,
   "id": "58ce7e18",
   "metadata": {},
   "outputs": [
    {
     "data": {
      "text/plain": [
       "[34, 54, 65, 78, 46, 84, 68]"
      ]
     },
     "execution_count": 207,
     "metadata": {},
     "output_type": "execute_result"
    }
   ],
   "source": [
    "# filter function -Return an iterator yielding those items of iterable for which function(item) is true.\n",
    "l4"
   ]
  },
  {
   "cell_type": "code",
   "execution_count": 234,
   "id": "e8718f7f",
   "metadata": {},
   "outputs": [
    {
     "data": {
      "text/plain": [
       "['raj']"
      ]
     },
     "execution_count": 234,
     "metadata": {},
     "output_type": "execute_result"
    }
   ],
   "source": [
    "list(filter(lambda a : a if type(a) == str else 0 , newlist))"
   ]
  },
  {
   "cell_type": "code",
   "execution_count": 231,
   "id": "8a831fa9",
   "metadata": {},
   "outputs": [
    {
     "data": {
      "text/plain": [
       "[1, 2, 3, 4, 6, 7, 8, 'raj']"
      ]
     },
     "execution_count": 231,
     "metadata": {},
     "output_type": "execute_result"
    }
   ],
   "source": [
    "list(filter(lambda a : a if type(a) == int else -1 , newlist))"
   ]
  },
  {
   "cell_type": "code",
   "execution_count": 235,
   "id": "289e257c",
   "metadata": {},
   "outputs": [
    {
     "data": {
      "text/plain": [
       "[]"
      ]
     },
     "execution_count": 235,
     "metadata": {},
     "output_type": "execute_result"
    }
   ],
   "source": [
    "list(filter(lambda a : a if type(a) == str else 0 , l4))"
   ]
  },
  {
   "cell_type": "code",
   "execution_count": 236,
   "id": "4df8e605",
   "metadata": {},
   "outputs": [
    {
     "data": {
      "text/plain": [
       "[34, 54, 65, 78, 46, 84, 68]"
      ]
     },
     "execution_count": 236,
     "metadata": {},
     "output_type": "execute_result"
    }
   ],
   "source": [
    "list(filter(lambda a : a if type(a) == str else -1 , l4))"
   ]
  },
  {
   "cell_type": "code",
   "execution_count": 217,
   "id": "f83d5593",
   "metadata": {},
   "outputs": [],
   "source": [
    "newlist = [1,2,3,4,6,7,8,'raj' ]\n",
    "def tes(n):\n",
    "    if type(n) == str:\n",
    "        return n\n",
    "    else:\n",
    "        return \"ok\"\n",
    "    "
   ]
  },
  {
   "cell_type": "code",
   "execution_count": 218,
   "id": "b91fd434",
   "metadata": {},
   "outputs": [
    {
     "data": {
      "text/plain": [
       "[1, 2, 3, 4, 6, 7, 8, 'raj']"
      ]
     },
     "execution_count": 218,
     "metadata": {},
     "output_type": "execute_result"
    }
   ],
   "source": [
    "list(filter(tes,newlist))"
   ]
  },
  {
   "cell_type": "code",
   "execution_count": 221,
   "id": "081a0f40",
   "metadata": {},
   "outputs": [],
   "source": [
    "def fun(n):\n",
    "    if type(n) == str:\n",
    "        return True               #only true return \n",
    "    else:\n",
    "        return False"
   ]
  },
  {
   "cell_type": "code",
   "execution_count": 222,
   "id": "997ffa97",
   "metadata": {},
   "outputs": [
    {
     "data": {
      "text/plain": [
       "['raj']"
      ]
     },
     "execution_count": 222,
     "metadata": {},
     "output_type": "execute_result"
    }
   ],
   "source": [
    "list(filter(fun,newlist))"
   ]
  },
  {
   "cell_type": "code",
   "execution_count": 240,
   "id": "92fd15c0",
   "metadata": {},
   "outputs": [],
   "source": [
    "def fun(n):\n",
    "    if type(n) == int:\n",
    "        return True               #only true return and here both the condition is true\n",
    "    else:\n",
    "        return True"
   ]
  },
  {
   "cell_type": "code",
   "execution_count": 239,
   "id": "fb8868fe",
   "metadata": {},
   "outputs": [
    {
     "data": {
      "text/plain": [
       "[1, 2, 3, 4, 6, 7, 8, 'raj']"
      ]
     },
     "execution_count": 239,
     "metadata": {},
     "output_type": "execute_result"
    }
   ],
   "source": [
    "list(filter(fun,newlist))"
   ]
  },
  {
   "cell_type": "code",
   "execution_count": null,
   "id": "f8617730",
   "metadata": {},
   "outputs": [],
   "source": []
  },
  {
   "cell_type": "code",
   "execution_count": null,
   "id": "57f7e6ec",
   "metadata": {},
   "outputs": [],
   "source": []
  },
  {
   "cell_type": "code",
   "execution_count": 225,
   "id": "db1d78a1",
   "metadata": {},
   "outputs": [
    {
     "data": {
      "text/plain": [
       "['raj']"
      ]
     },
     "execution_count": 225,
     "metadata": {},
     "output_type": "execute_result"
    }
   ],
   "source": [
    "list(filter(lambda a : True if type(a) == str else False ,newlist))"
   ]
  },
  {
   "cell_type": "code",
   "execution_count": 227,
   "id": "0315acaa",
   "metadata": {},
   "outputs": [
    {
     "data": {
      "text/plain": [
       "[65, 78, 84, 68]"
      ]
     },
     "execution_count": 227,
     "metadata": {},
     "output_type": "execute_result"
    }
   ],
   "source": [
    "list(filter(lambda a : a if a >= 55 else False ,l4))"
   ]
  },
  {
   "cell_type": "code",
   "execution_count": 228,
   "id": "638470a5",
   "metadata": {},
   "outputs": [
    {
     "data": {
      "text/plain": [
       "[65, 78, 84, 68]"
      ]
     },
     "execution_count": 228,
     "metadata": {},
     "output_type": "execute_result"
    }
   ],
   "source": [
    "list(filter(lambda a : True if a >= 55 else False ,l4))"
   ]
  },
  {
   "cell_type": "code",
   "execution_count": 266,
   "id": "afa87781",
   "metadata": {},
   "outputs": [],
   "source": [
    "# assignment\n",
    "l5 = [1,2,3,4,5,'raj','sahu']"
   ]
  },
  {
   "cell_type": "code",
   "execution_count": 270,
   "id": "85c56397",
   "metadata": {},
   "outputs": [
    {
     "data": {
      "text/plain": [
       "'12345rajsahu'"
      ]
     },
     "execution_count": 270,
     "metadata": {},
     "output_type": "execute_result"
    }
   ],
   "source": [
    "reduce(lambda a,b : str(a)+str(b),l5)"
   ]
  },
  {
   "cell_type": "code",
   "execution_count": 271,
   "id": "fff4ad04",
   "metadata": {},
   "outputs": [
    {
     "data": {
      "text/plain": [
       "['1', '2', '3', '4', '5', 'r', 'a', 'j', 's', 'a', 'h', 'u']"
      ]
     },
     "execution_count": 271,
     "metadata": {},
     "output_type": "execute_result"
    }
   ],
   "source": [
    "list(reduce(lambda a,b : str(a)+str(b),l5))"
   ]
  },
  {
   "cell_type": "code",
   "execution_count": 274,
   "id": "5c691157",
   "metadata": {},
   "outputs": [
    {
     "name": "stdout",
     "output_type": "stream",
     "text": [
      "['sahu']\n"
     ]
    }
   ],
   "source": [
    "print(list(filter(lambda a : True if type(a) == str and a.startswith('s') else False, l5)))"
   ]
  },
  {
   "cell_type": "code",
   "execution_count": null,
   "id": "3d2b8494",
   "metadata": {},
   "outputs": [],
   "source": [
    "def one(n):\n",
    "    if type(n) == str:\n",
    "        return True\n",
    "    else:\n",
    "        return False"
   ]
  },
  {
   "cell_type": "code",
   "execution_count": 289,
   "id": "6a92e26d",
   "metadata": {},
   "outputs": [
    {
     "ename": "TypeError",
     "evalue": "one() missing 1 required positional argument: 'j'",
     "output_type": "error",
     "traceback": [
      "\u001b[1;31m---------------------------------------------------------------------------\u001b[0m",
      "\u001b[1;31mTypeError\u001b[0m                                 Traceback (most recent call last)",
      "Input \u001b[1;32mIn [289]\u001b[0m, in \u001b[0;36m<cell line: 1>\u001b[1;34m()\u001b[0m\n\u001b[1;32m----> 1\u001b[0m \u001b[38;5;28;43mlist\u001b[39;49m\u001b[43m(\u001b[49m\u001b[38;5;28;43mfilter\u001b[39;49m\u001b[43m(\u001b[49m\u001b[43mone\u001b[49m\u001b[43m,\u001b[49m\u001b[43ml5\u001b[49m\u001b[43m)\u001b[49m\u001b[43m)\u001b[49m\n",
      "\u001b[1;31mTypeError\u001b[0m: one() missing 1 required positional argument: 'j'"
     ]
    }
   ],
   "source": [
    "list(filter(one,l5))"
   ]
  },
  {
   "cell_type": "code",
   "execution_count": 292,
   "id": "9f16be1e",
   "metadata": {},
   "outputs": [],
   "source": [
    "def one(n):\n",
    "    if type(n) == str:\n",
    "        if (n[0] == \"s\" or n[0] == 'S'):\n",
    "             return True\n",
    "    else:\n",
    "        return False"
   ]
  },
  {
   "cell_type": "code",
   "execution_count": 293,
   "id": "b5d02001",
   "metadata": {},
   "outputs": [
    {
     "data": {
      "text/plain": [
       "['sahu']"
      ]
     },
     "execution_count": 293,
     "metadata": {},
     "output_type": "execute_result"
    }
   ],
   "source": [
    "list(filter(one,l5))"
   ]
  },
  {
   "cell_type": "code",
   "execution_count": 296,
   "id": "f9e1e17d",
   "metadata": {},
   "outputs": [],
   "source": [
    "def one1(n):\n",
    "    if type(n) == str:\n",
    "        if n.startswith('s') == True:\n",
    "             return True\n",
    "    else:\n",
    "        return False"
   ]
  },
  {
   "cell_type": "code",
   "execution_count": 297,
   "id": "b5070187",
   "metadata": {},
   "outputs": [
    {
     "data": {
      "text/plain": [
       "['sahu']"
      ]
     },
     "execution_count": 297,
     "metadata": {},
     "output_type": "execute_result"
    }
   ],
   "source": [
    "list(filter(one1,l5))"
   ]
  },
  {
   "cell_type": "code",
   "execution_count": 7,
   "id": "3235efcb",
   "metadata": {},
   "outputs": [],
   "source": [
    "def tess(n):\n",
    "    l = ['a','e','i','o','u']\n",
    "    if n in l:\n",
    "        return True\n",
    "    else:\n",
    "        return False"
   ]
  },
  {
   "cell_type": "code",
   "execution_count": 8,
   "id": "8cf87998",
   "metadata": {},
   "outputs": [],
   "source": [
    "l6 = ['g', 'e', 'e', 'j', 'k', 's', 'p', 'r']"
   ]
  },
  {
   "cell_type": "code",
   "execution_count": 9,
   "id": "97581ac0",
   "metadata": {},
   "outputs": [
    {
     "name": "stdout",
     "output_type": "stream",
     "text": [
      "e\n",
      "e\n"
     ]
    }
   ],
   "source": [
    "fil = filter(tess,l6)\n",
    "for s in fil:\n",
    "    print(s)"
   ]
  },
  {
   "cell_type": "code",
   "execution_count": null,
   "id": "8f5b0abb",
   "metadata": {},
   "outputs": [],
   "source": []
  }
 ],
 "metadata": {
  "kernelspec": {
   "display_name": "Python 3 (ipykernel)",
   "language": "python",
   "name": "python3"
  },
  "language_info": {
   "codemirror_mode": {
    "name": "ipython",
    "version": 3
   },
   "file_extension": ".py",
   "mimetype": "text/x-python",
   "name": "python",
   "nbconvert_exporter": "python",
   "pygments_lexer": "ipython3",
   "version": "3.9.12"
  }
 },
 "nbformat": 4,
 "nbformat_minor": 5
}
