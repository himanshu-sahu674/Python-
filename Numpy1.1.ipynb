{
 "cells": [
  {
   "cell_type": "code",
   "execution_count": 1,
   "id": "1b275a96",
   "metadata": {},
   "outputs": [],
   "source": [
    "import numpy as np"
   ]
  },
  {
   "cell_type": "code",
   "execution_count": 2,
   "id": "5184c229",
   "metadata": {},
   "outputs": [
    {
     "data": {
      "text/plain": [
       "array([ 1.  ,  2.  ,  3.  , 45.54])"
      ]
     },
     "execution_count": 2,
     "metadata": {},
     "output_type": "execute_result"
    }
   ],
   "source": [
    "np.array([1,2,3,45.54])"
   ]
  },
  {
   "cell_type": "code",
   "execution_count": 3,
   "id": "ae5835e3",
   "metadata": {},
   "outputs": [
    {
     "data": {
      "text/plain": [
       "array(['raj', '3', '4.5', '(3+4j)'], dtype='<U64')"
      ]
     },
     "execution_count": 3,
     "metadata": {},
     "output_type": "execute_result"
    }
   ],
   "source": [
    "np.array(['raj', 3,4.5, 3+4j])"
   ]
  },
  {
   "cell_type": "code",
   "execution_count": 4,
   "id": "6c8c4e4c",
   "metadata": {},
   "outputs": [],
   "source": [
    "a = np.array([5,6,7])"
   ]
  },
  {
   "cell_type": "code",
   "execution_count": 5,
   "id": "aa9040c9",
   "metadata": {},
   "outputs": [
    {
     "data": {
      "text/plain": [
       "numpy.ndarray"
      ]
     },
     "execution_count": 5,
     "metadata": {},
     "output_type": "execute_result"
    }
   ],
   "source": [
    "type(a)"
   ]
  },
  {
   "cell_type": "code",
   "execution_count": 6,
   "id": "2f35c7e7",
   "metadata": {},
   "outputs": [
    {
     "data": {
      "text/plain": [
       "array([4. +0.j, 5. +0.j, 6.7+0.j])"
      ]
     },
     "execution_count": 6,
     "metadata": {},
     "output_type": "execute_result"
    }
   ],
   "source": [
    "np.array([4, 5,6.7], dtype = complex)"
   ]
  },
  {
   "cell_type": "code",
   "execution_count": 7,
   "id": "424d142a",
   "metadata": {},
   "outputs": [
    {
     "data": {
      "text/plain": [
       "array(['5', '6', '7', '8'], dtype='<U1')"
      ]
     },
     "execution_count": 7,
     "metadata": {},
     "output_type": "execute_result"
    }
   ],
   "source": [
    "np.array([5,6,7,8], dtype = str)"
   ]
  },
  {
   "cell_type": "code",
   "execution_count": 8,
   "id": "104e4f57",
   "metadata": {},
   "outputs": [],
   "source": [
    "b = np.asarray([3,4,5,6])"
   ]
  },
  {
   "cell_type": "code",
   "execution_count": 9,
   "id": "03e5cec2",
   "metadata": {},
   "outputs": [
    {
     "data": {
      "text/plain": [
       "array([3, 4, 5, 6])"
      ]
     },
     "execution_count": 9,
     "metadata": {},
     "output_type": "execute_result"
    }
   ],
   "source": [
    "b"
   ]
  },
  {
   "cell_type": "code",
   "execution_count": 10,
   "id": "13e27392",
   "metadata": {},
   "outputs": [
    {
     "data": {
      "text/plain": [
       "numpy.ndarray"
      ]
     },
     "execution_count": 10,
     "metadata": {},
     "output_type": "execute_result"
    }
   ],
   "source": [
    "type(b)"
   ]
  },
  {
   "cell_type": "code",
   "execution_count": 11,
   "id": "bd0b3627",
   "metadata": {},
   "outputs": [],
   "source": [
    "# np.asarray and np.array gives the numpy.ndarray"
   ]
  },
  {
   "cell_type": "code",
   "execution_count": 12,
   "id": "eddce93e",
   "metadata": {},
   "outputs": [
    {
     "data": {
      "text/plain": [
       "array([4., 5., 7., 8.], dtype=float16)"
      ]
     },
     "execution_count": 12,
     "metadata": {},
     "output_type": "execute_result"
    }
   ],
   "source": [
    "np.asarray([4,5,7,8], dtype = np.float16)"
   ]
  },
  {
   "cell_type": "code",
   "execution_count": 13,
   "id": "93a7977d",
   "metadata": {},
   "outputs": [],
   "source": [
    "mat = np.matrix([5,6])"
   ]
  },
  {
   "cell_type": "code",
   "execution_count": 14,
   "id": "59284930",
   "metadata": {
    "scrolled": true
   },
   "outputs": [
    {
     "data": {
      "text/plain": [
       "matrix([[5, 6]])"
      ]
     },
     "execution_count": 14,
     "metadata": {},
     "output_type": "execute_result"
    }
   ],
   "source": [
    "mat"
   ]
  },
  {
   "cell_type": "code",
   "execution_count": 15,
   "id": "ca048a46",
   "metadata": {},
   "outputs": [
    {
     "data": {
      "text/plain": [
       "numpy.matrix"
      ]
     },
     "execution_count": 15,
     "metadata": {},
     "output_type": "execute_result"
    }
   ],
   "source": [
    "type(mat) #matrix is a subclass of array"
   ]
  },
  {
   "cell_type": "code",
   "execution_count": 16,
   "id": "2c1d5052",
   "metadata": {},
   "outputs": [],
   "source": [
    "# minimum 2d data we will receive from np.matrix"
   ]
  },
  {
   "cell_type": "code",
   "execution_count": 17,
   "id": "d89521d2",
   "metadata": {},
   "outputs": [
    {
     "data": {
      "text/plain": [
       "matrix([[5, 6]])"
      ]
     },
     "execution_count": 17,
     "metadata": {},
     "output_type": "execute_result"
    }
   ],
   "source": [
    "# if something is available in any of the array format it will not do a conversion\n",
    "#matrix is a subclass of array, so it won't convert the matrix into array\n",
    "np.asanyarray(mat)"
   ]
  },
  {
   "cell_type": "code",
   "execution_count": 18,
   "id": "c59059e1",
   "metadata": {},
   "outputs": [
    {
     "data": {
      "text/plain": [
       "[2, 3, 4, 5, 6]"
      ]
     },
     "execution_count": 18,
     "metadata": {},
     "output_type": "execute_result"
    }
   ],
   "source": [
    "#but for any list\n",
    "l = [2,3,4,5,6]\n",
    "l"
   ]
  },
  {
   "cell_type": "code",
   "execution_count": 19,
   "id": "8dc41627",
   "metadata": {},
   "outputs": [
    {
     "data": {
      "text/plain": [
       "list"
      ]
     },
     "execution_count": 19,
     "metadata": {},
     "output_type": "execute_result"
    }
   ],
   "source": [
    "type(l)"
   ]
  },
  {
   "cell_type": "code",
   "execution_count": 20,
   "id": "6c16c0ec",
   "metadata": {},
   "outputs": [],
   "source": [
    "l1 = np.asanyarray(l)"
   ]
  },
  {
   "cell_type": "code",
   "execution_count": 21,
   "id": "606bd292",
   "metadata": {},
   "outputs": [
    {
     "data": {
      "text/plain": [
       "numpy.ndarray"
      ]
     },
     "execution_count": 21,
     "metadata": {},
     "output_type": "execute_result"
    }
   ],
   "source": [
    "type(l1) #converted list to array"
   ]
  },
  {
   "cell_type": "code",
   "execution_count": 22,
   "id": "9fd037f0",
   "metadata": {},
   "outputs": [
    {
     "data": {
      "text/plain": [
       "array([[ True, False, False],\n",
       "       [False,  True, False],\n",
       "       [False, False,  True]])"
      ]
     },
     "execution_count": 22,
     "metadata": {},
     "output_type": "execute_result"
    }
   ],
   "source": [
    "# np.fromfuncrtion - whatever operation we are going to do inside this from function\n",
    "# it will return me an araryy\n",
    "\n",
    "\n",
    "np.fromfunction(lambda i,j : i==j, (3,3))"
   ]
  },
  {
   "cell_type": "code",
   "execution_count": 23,
   "id": "4ead7885",
   "metadata": {},
   "outputs": [
    {
     "data": {
      "text/plain": [
       "array([[0., 0., 0.],\n",
       "       [0., 1., 2.],\n",
       "       [0., 2., 4.]])"
      ]
     },
     "execution_count": 23,
     "metadata": {},
     "output_type": "execute_result"
    }
   ],
   "source": [
    "np.fromfunction(lambda i,j : i*j, (3,3))"
   ]
  },
  {
   "cell_type": "code",
   "execution_count": 24,
   "id": "edd32ce5",
   "metadata": {},
   "outputs": [
    {
     "data": {
      "text/plain": [
       "array([[1., 0., 0.],\n",
       "       [1., 1., 1.],\n",
       "       [1., 2., 4.]])"
      ]
     },
     "execution_count": 24,
     "metadata": {},
     "output_type": "execute_result"
    }
   ],
   "source": [
    "np.fromfunction(lambda i,j : i**j, (3,3))"
   ]
  },
  {
   "cell_type": "code",
   "execution_count": 25,
   "id": "747aeb8c",
   "metadata": {},
   "outputs": [
    {
     "data": {
      "text/plain": [
       "array([[1, 1, 1],\n",
       "       [1, 1, 1],\n",
       "       [4, 4, 4]], dtype=int32)"
      ]
     },
     "execution_count": 25,
     "metadata": {},
     "output_type": "execute_result"
    }
   ],
   "source": [
    "np.fromfunction(lambda i,j : i**i, (3,3), dtype = int)\n",
    "# it is not going to work if the data type str "
   ]
  },
  {
   "cell_type": "code",
   "execution_count": 26,
   "id": "40ccbdb4",
   "metadata": {},
   "outputs": [
    {
     "name": "stderr",
     "output_type": "stream",
     "text": [
      "C:\\Users\\himan\\AppData\\Local\\Temp\\ipykernel_13532\\1564731327.py:3: DeprecationWarning: string or file could not be read to its end due to unmatched data; this will raise a ValueError in the future.\n",
      "  np.fromstring(\"raj sahu\", sep = \" \")\n"
     ]
    },
    {
     "data": {
      "text/plain": [
       "array([], dtype=float64)"
      ]
     },
     "execution_count": 26,
     "metadata": {},
     "output_type": "execute_result"
    }
   ],
   "source": [
    "# np.fromstring = try to make an array with tha data that available into string format\n",
    "# the availabe string in data should be numerical and charactors\n",
    "np.fromstring(\"raj sahu\", sep = \" \")"
   ]
  },
  {
   "cell_type": "code",
   "execution_count": 27,
   "id": "111cb060",
   "metadata": {},
   "outputs": [
    {
     "data": {
      "text/plain": [
       "array([23, 56])"
      ]
     },
     "execution_count": 27,
     "metadata": {},
     "output_type": "execute_result"
    }
   ],
   "source": [
    "np.fromstring(\"23 56\", sep = \" \", dtype = int)"
   ]
  },
  {
   "cell_type": "code",
   "execution_count": 28,
   "id": "2a15af1c",
   "metadata": {},
   "outputs": [
    {
     "data": {
      "text/plain": [
       "array([23,  6])"
      ]
     },
     "execution_count": 28,
     "metadata": {},
     "output_type": "execute_result"
    }
   ],
   "source": [
    "np.fromstring(\"23 56\", sep = \"5\", dtype = int)"
   ]
  },
  {
   "cell_type": "code",
   "execution_count": 29,
   "id": "e02685e5",
   "metadata": {},
   "outputs": [
    {
     "data": {
      "text/plain": [
       "array([4., 6.])"
      ]
     },
     "execution_count": 29,
     "metadata": {},
     "output_type": "execute_result"
    }
   ],
   "source": [
    "np.fromstring(\"4,6\", sep = \",\")"
   ]
  },
  {
   "cell_type": "code",
   "execution_count": 30,
   "id": "ef9f3d19",
   "metadata": {},
   "outputs": [],
   "source": [
    "a1 = np.array([5,6,7,8,9])\n",
    "a2 = np.array([[3,4,5,6,7]])\n",
    "a3 = np.array([[1,2,3],[4,5,6],[7,8,9]])"
   ]
  },
  {
   "cell_type": "code",
   "execution_count": null,
   "id": "13d88aea",
   "metadata": {},
   "outputs": [
    {
     "name": "stdout",
     "output_type": "stream",
     "text": [
      "[5 6 7 8 9]\n",
      "1\n"
     ]
    }
   ],
   "source": [
    "print(a1)\n",
    "print(a1.ndim)"
   ]
  },
  {
   "cell_type": "code",
   "execution_count": null,
   "id": "6fbf6cad",
   "metadata": {},
   "outputs": [],
   "source": [
    "print(a2)\n",
    "print(a2.ndim)"
   ]
  },
  {
   "cell_type": "code",
   "execution_count": 33,
   "id": "0f919ca2",
   "metadata": {},
   "outputs": [],
   "source": [
    "print(a3)\n",
    "print(a3.ndim)"
   ]
  },
  {
   "cell_type": "code",
   "execution_count": 34,
   "id": "4f8adafa",
   "metadata": {},
   "outputs": [
    {
     "name": "stdout",
     "output_type": "stream",
     "text": [
      "5\n",
      "5\n",
      "9\n"
     ]
    }
   ],
   "source": [
    "# array.size function gives the size that is number of elements\n",
    "print(a1.size)\n",
    "print(a2.size)\n",
    "print(a3.size)"
   ]
  },
  {
   "cell_type": "code",
   "execution_count": 35,
   "id": "1c2ca6b0",
   "metadata": {},
   "outputs": [
    {
     "name": "stdout",
     "output_type": "stream",
     "text": [
      "(5,)\n",
      "(1, 5)\n",
      "(3, 3)\n"
     ]
    }
   ],
   "source": [
    "print(a1.shape)\n",
    "print(a2.shape)\n",
    "print(a3.shape)"
   ]
  },
  {
   "cell_type": "code",
   "execution_count": 36,
   "id": "6869f51f",
   "metadata": {},
   "outputs": [
    {
     "data": {
      "text/plain": [
       "array([[2, 3, 4, 5, 6],\n",
       "       [3, 4, 5, 5, 6]])"
      ]
     },
     "execution_count": 36,
     "metadata": {},
     "output_type": "execute_result"
    }
   ],
   "source": [
    "np.array([(2,3,4,5,6), (3,4,5,5,6)])\n",
    "# here the data has been passed as a list of tuples\n",
    "# np.array will directly convert it into array\n",
    "# but for that both the tuples should have same numbers of data"
   ]
  },
  {
   "cell_type": "code",
   "execution_count": 37,
   "id": "163f0b0c",
   "metadata": {},
   "outputs": [
    {
     "name": "stderr",
     "output_type": "stream",
     "text": [
      "C:\\Users\\himan\\AppData\\Local\\Temp\\ipykernel_13532\\703324218.py:1: VisibleDeprecationWarning: Creating an ndarray from ragged nested sequences (which is a list-or-tuple of lists-or-tuples-or ndarrays with different lengths or shapes) is deprecated. If you meant to do this, you must specify 'dtype=object' when creating the ndarray.\n",
      "  np.array([(2,3,4,5,6), (3,4,5,5,6,8)])\n"
     ]
    },
    {
     "data": {
      "text/plain": [
       "array([(2, 3, 4, 5, 6), (3, 4, 5, 5, 6, 8)], dtype=object)"
      ]
     },
     "execution_count": 37,
     "metadata": {},
     "output_type": "execute_result"
    }
   ],
   "source": [
    "np.array([(2,3,4,5,6), (3,4,5,5,6,8)])"
   ]
  },
  {
   "cell_type": "code",
   "execution_count": 38,
   "id": "7e384447",
   "metadata": {},
   "outputs": [
    {
     "data": {
      "text/plain": [
       "range(0, 10)"
      ]
     },
     "execution_count": 38,
     "metadata": {},
     "output_type": "execute_result"
    }
   ],
   "source": [
    "# np.arange function\n",
    "# first simple range function\n",
    "range(10)"
   ]
  },
  {
   "cell_type": "code",
   "execution_count": 39,
   "id": "2083e667",
   "metadata": {},
   "outputs": [
    {
     "name": "stdout",
     "output_type": "stream",
     "text": [
      "[0, 1, 2, 3, 4, 5, 6, 7, 8, 9]\n",
      "[5, 6, 7, 8, 9]\n"
     ]
    }
   ],
   "source": [
    "print(list(range(10)))\n",
    "print(list(range(5,10)))"
   ]
  },
  {
   "cell_type": "code",
   "execution_count": 40,
   "id": "b73d47bd",
   "metadata": {},
   "outputs": [
    {
     "data": {
      "text/plain": [
       "array([ 5.,  6.,  7.,  8.,  9., 10.])"
      ]
     },
     "execution_count": 40,
     "metadata": {},
     "output_type": "execute_result"
    }
   ],
   "source": [
    "# but as we try to enter any floating point value this will give an error\n",
    "# that's why we needed np.arange function to deal with floats\n",
    "np.arange(5,10.5)"
   ]
  },
  {
   "cell_type": "code",
   "execution_count": 41,
   "id": "c125c5cf",
   "metadata": {},
   "outputs": [
    {
     "data": {
      "text/plain": [
       "array([ 5. ,  5.5,  6. ,  6.5,  7. ,  7.5,  8. ,  8.5,  9. ,  9.5, 10. ])"
      ]
     },
     "execution_count": 41,
     "metadata": {},
     "output_type": "execute_result"
    }
   ],
   "source": [
    "np.arange(5,10.5,.5)"
   ]
  },
  {
   "cell_type": "code",
   "execution_count": 42,
   "id": "c002c28a",
   "metadata": {},
   "outputs": [
    {
     "data": {
      "text/plain": [
       "[5.0, 5.5, 6.0, 6.5, 7.0, 7.5, 8.0, 8.5, 9.0, 9.5, 10.0]"
      ]
     },
     "execution_count": 42,
     "metadata": {},
     "output_type": "execute_result"
    }
   ],
   "source": [
    "list(np.arange(5,10.5,.5))"
   ]
  },
  {
   "cell_type": "code",
   "execution_count": 43,
   "id": "61c407b6",
   "metadata": {},
   "outputs": [
    {
     "data": {
      "text/plain": [
       "(5.0, 5.5, 6.0, 6.5, 7.0, 7.5, 8.0, 8.5, 9.0, 9.5, 10.0)"
      ]
     },
     "execution_count": 43,
     "metadata": {},
     "output_type": "execute_result"
    }
   ],
   "source": [
    "tuple(np.arange(5,10.5,.5))"
   ]
  },
  {
   "cell_type": "code",
   "execution_count": 44,
   "id": "3ea00275",
   "metadata": {},
   "outputs": [
    {
     "data": {
      "text/plain": [
       "array([43982734.])"
      ]
     },
     "execution_count": 44,
     "metadata": {},
     "output_type": "execute_result"
    }
   ],
   "source": [
    "np.fromstring(\"43982734\", sep = \"2\")"
   ]
  },
  {
   "cell_type": "code",
   "execution_count": 45,
   "id": "8a64e55c",
   "metadata": {},
   "outputs": [
    {
     "data": {
      "text/plain": [
       "array([23.,  6.])"
      ]
     },
     "execution_count": 45,
     "metadata": {},
     "output_type": "execute_result"
    }
   ],
   "source": [
    "np.fromstring(\"23 56\" , sep = \"5\")"
   ]
  },
  {
   "cell_type": "code",
   "execution_count": 46,
   "id": "490e5d67",
   "metadata": {},
   "outputs": [
    {
     "data": {
      "text/plain": [
       "array([2.        , 2.06122449, 2.12244898, 2.18367347, 2.24489796,\n",
       "       2.30612245, 2.36734694, 2.42857143, 2.48979592, 2.55102041,\n",
       "       2.6122449 , 2.67346939, 2.73469388, 2.79591837, 2.85714286,\n",
       "       2.91836735, 2.97959184, 3.04081633, 3.10204082, 3.16326531,\n",
       "       3.2244898 , 3.28571429, 3.34693878, 3.40816327, 3.46938776,\n",
       "       3.53061224, 3.59183673, 3.65306122, 3.71428571, 3.7755102 ,\n",
       "       3.83673469, 3.89795918, 3.95918367, 4.02040816, 4.08163265,\n",
       "       4.14285714, 4.20408163, 4.26530612, 4.32653061, 4.3877551 ,\n",
       "       4.44897959, 4.51020408, 4.57142857, 4.63265306, 4.69387755,\n",
       "       4.75510204, 4.81632653, 4.87755102, 4.93877551, 5.        ])"
      ]
     },
     "execution_count": 46,
     "metadata": {},
     "output_type": "execute_result"
    }
   ],
   "source": [
    "# Return evenly spaced numbers over a specified interval. and total gives 50 data\n",
    "np.linspace(2,5)"
   ]
  },
  {
   "cell_type": "code",
   "execution_count": 47,
   "id": "b05153b5",
   "metadata": {},
   "outputs": [
    {
     "data": {
      "text/plain": [
       "array([2.        , 2.33333333, 2.66666667, 3.        , 3.33333333,\n",
       "       3.66666667, 4.        , 4.33333333, 4.66666667, 5.        ])"
      ]
     },
     "execution_count": 47,
     "metadata": {},
     "output_type": "execute_result"
    }
   ],
   "source": [
    "# linspoace can generate the data with specific num of interval and every data will be divided evenly\n",
    "# also it consider upper bound and lower bounds\n",
    "np.linspace(2,5, num=10)"
   ]
  },
  {
   "cell_type": "code",
   "execution_count": 48,
   "id": "5572bf4b",
   "metadata": {},
   "outputs": [
    {
     "data": {
      "text/plain": [
       "array([0., 1., 2., 3., 4., 5., 6., 7., 8., 9.])"
      ]
     },
     "execution_count": 48,
     "metadata": {},
     "output_type": "execute_result"
    }
   ],
   "source": [
    "np.linspace(0,9, num=10)"
   ]
  },
  {
   "cell_type": "code",
   "execution_count": 49,
   "id": "23333047",
   "metadata": {},
   "outputs": [
    {
     "data": {
      "text/plain": [
       "array([3. , 3.5, 4. , 4.5, 5. ])"
      ]
     },
     "execution_count": 49,
     "metadata": {},
     "output_type": "execute_result"
    }
   ],
   "source": [
    "np.linspace(3,5, num=5)"
   ]
  },
  {
   "cell_type": "code",
   "execution_count": 50,
   "id": "8b6a5eae",
   "metadata": {},
   "outputs": [
    {
     "name": "stdout",
     "output_type": "stream",
     "text": [
      "[0. 0. 0. 0.]\n",
      "1\n",
      "(4,)\n",
      "4\n"
     ]
    }
   ],
   "source": [
    "d1 = np.zeros(4)\n",
    "print(d1)\n",
    "print(d1.ndim)\n",
    "print(d1.shape)\n",
    "print(d1.size)"
   ]
  },
  {
   "cell_type": "code",
   "execution_count": 51,
   "id": "a499ff5a",
   "metadata": {},
   "outputs": [
    {
     "name": "stdout",
     "output_type": "stream",
     "text": [
      "[[0. 0. 0. 0.]\n",
      " [0. 0. 0. 0.]\n",
      " [0. 0. 0. 0.]]\n",
      "2\n",
      "(3, 4)\n",
      "12\n"
     ]
    }
   ],
   "source": [
    "d2 = np.zeros((3,4))\n",
    "print(d2)\n",
    "print(d2.ndim)\n",
    "print(d2.shape)\n",
    "print(d2.size)"
   ]
  },
  {
   "cell_type": "code",
   "execution_count": 52,
   "id": "923d35ef",
   "metadata": {},
   "outputs": [
    {
     "name": "stdout",
     "output_type": "stream",
     "text": [
      "[[[0. 0. 0.]\n",
      "  [0. 0. 0.]]]\n",
      "3\n",
      "(1, 2, 3)\n",
      "6\n"
     ]
    }
   ],
   "source": [
    "d3 = np.zeros((1,2,3))   #it is giving 1 array of size(2,3)\n",
    "print(d3)\n",
    "print(d3.ndim)\n",
    "print(d3.shape)\n",
    "print(d3.size)\n"
   ]
  },
  {
   "cell_type": "code",
   "execution_count": 53,
   "id": "125c7d96",
   "metadata": {},
   "outputs": [
    {
     "name": "stdout",
     "output_type": "stream",
     "text": [
      "[[[0. 0.]\n",
      "  [0. 0.]]\n",
      "\n",
      " [[0. 0.]\n",
      "  [0. 0.]]]\n",
      "3\n",
      "(2, 2, 2)\n",
      "8\n"
     ]
    }
   ],
   "source": [
    "d4 = np.zeros((2,2,2))   #giving 2 arraays of (2,2) \n",
    "print(d4)                #2 layers creating a depth of an array for making it 3d\n",
    "print(d4.ndim)\n",
    "print(d4.shape)\n",
    "print(d4.size)"
   ]
  },
  {
   "cell_type": "code",
   "execution_count": 54,
   "id": "1b4e6ec2",
   "metadata": {},
   "outputs": [
    {
     "data": {
      "text/plain": [
       "array([[1., 1., 1., 1.],\n",
       "       [1., 1., 1., 1.],\n",
       "       [1., 1., 1., 1.]])"
      ]
     },
     "execution_count": 54,
     "metadata": {},
     "output_type": "execute_result"
    }
   ],
   "source": [
    "np.ones((3,4))"
   ]
  },
  {
   "cell_type": "code",
   "execution_count": 55,
   "id": "ea52e7f9",
   "metadata": {},
   "outputs": [
    {
     "data": {
      "text/plain": [
       "array([[4., 4., 4., 4.],\n",
       "       [4., 4., 4., 4.],\n",
       "       [4., 4., 4., 4.]])"
      ]
     },
     "execution_count": 55,
     "metadata": {},
     "output_type": "execute_result"
    }
   ],
   "source": [
    "np.ones((3,4)) + 3"
   ]
  },
  {
   "cell_type": "code",
   "execution_count": 56,
   "id": "43e434bd",
   "metadata": {},
   "outputs": [
    {
     "data": {
      "text/plain": [
       "array([0., 0., 0., 0., 0., 0.])"
      ]
     },
     "execution_count": 56,
     "metadata": {},
     "output_type": "execute_result"
    }
   ],
   "source": [
    "np.empty(6)"
   ]
  },
  {
   "cell_type": "code",
   "execution_count": 57,
   "id": "29b6ecfd",
   "metadata": {},
   "outputs": [
    {
     "data": {
      "text/plain": [
       "array([[0., 0., 0., 1., 1., 1.],\n",
       "       [2., 2., 2., 0., 1., 2.],\n",
       "       [0., 1., 2., 0., 1., 2.]])"
      ]
     },
     "execution_count": 57,
     "metadata": {},
     "output_type": "execute_result"
    }
   ],
   "source": [
    "np.empty((3,6))   #it is giving an empty matrix with some random value "
   ]
  },
  {
   "cell_type": "code",
   "execution_count": 58,
   "id": "d4f2bae4",
   "metadata": {},
   "outputs": [
    {
     "data": {
      "text/plain": [
       "array([[1., 0., 0., 0.],\n",
       "       [0., 1., 0., 0.],\n",
       "       [0., 0., 1., 0.],\n",
       "       [0., 0., 0., 1.]])"
      ]
     },
     "execution_count": 58,
     "metadata": {},
     "output_type": "execute_result"
    }
   ],
   "source": [
    "np.eye(4)   #creating an identity matrix of order (4,4)"
   ]
  },
  {
   "cell_type": "code",
   "execution_count": 59,
   "id": "855e304a",
   "metadata": {},
   "outputs": [
    {
     "data": {
      "text/plain": [
       "array([[0, 1, 2, 3, 4],\n",
       "       [5, 6, 7, 8, 9]])"
      ]
     },
     "execution_count": 59,
     "metadata": {},
     "output_type": "execute_result"
    }
   ],
   "source": [
    "np.arange(10).reshape(2,5)"
   ]
  },
  {
   "cell_type": "code",
   "execution_count": 60,
   "id": "5a621c6e",
   "metadata": {},
   "outputs": [
    {
     "data": {
      "text/plain": [
       "array([[0, 1, 2],\n",
       "       [3, 4, 5],\n",
       "       [6, 7, 8]])"
      ]
     },
     "execution_count": 60,
     "metadata": {},
     "output_type": "execute_result"
    }
   ],
   "source": [
    "np.arange(9).reshape(3,3)"
   ]
  },
  {
   "cell_type": "code",
   "execution_count": 61,
   "id": "c5502040",
   "metadata": {},
   "outputs": [
    {
     "data": {
      "text/plain": [
       "array([[ 0,  1,  2,  3],\n",
       "       [ 4,  5,  6,  7],\n",
       "       [ 8,  9, 10, 11],\n",
       "       [12, 13, 14, 15]])"
      ]
     },
     "execution_count": 61,
     "metadata": {},
     "output_type": "execute_result"
    }
   ],
   "source": [
    "np.arange(16).reshape(4,4)"
   ]
  },
  {
   "cell_type": "code",
   "execution_count": 62,
   "id": "3fc9e0e5",
   "metadata": {},
   "outputs": [
    {
     "data": {
      "text/plain": [
       "array([[[ 0,  1],\n",
       "        [ 2,  3],\n",
       "        [ 4,  5],\n",
       "        [ 6,  7]],\n",
       "\n",
       "       [[ 8,  9],\n",
       "        [10, 11],\n",
       "        [12, 13],\n",
       "        [14, 15]]])"
      ]
     },
     "execution_count": 62,
     "metadata": {},
     "output_type": "execute_result"
    }
   ],
   "source": [
    "np.arange(16).reshape((2,4,2))"
   ]
  },
  {
   "cell_type": "code",
   "execution_count": 63,
   "id": "758f2453",
   "metadata": {},
   "outputs": [
    {
     "data": {
      "text/plain": [
       "array([[0],\n",
       "       [1],\n",
       "       [2],\n",
       "       [3],\n",
       "       [4]])"
      ]
     },
     "execution_count": 63,
     "metadata": {},
     "output_type": "execute_result"
    }
   ],
   "source": [
    "np.arange(5).reshape((5,1))"
   ]
  },
  {
   "cell_type": "code",
   "execution_count": 67,
   "id": "bd0a130a",
   "metadata": {},
   "outputs": [
    {
     "data": {
      "text/plain": [
       "array([[ 0,  1,  2,  3,  4,  5,  6,  7],\n",
       "       [ 8,  9, 10, 11, 12, 13, 14, 15]])"
      ]
     },
     "execution_count": 67,
     "metadata": {},
     "output_type": "execute_result"
    }
   ],
   "source": [
    "np.arange(16).reshape((2,-1))"
   ]
  },
  {
   "cell_type": "code",
   "execution_count": 72,
   "id": "7fd876dd",
   "metadata": {},
   "outputs": [
    {
     "data": {
      "text/plain": [
       "array([[0.81453362, 0.47751264, 0.73437033],\n",
       "       [0.30453663, 0.4245319 , 0.94364668]])"
      ]
     },
     "execution_count": 72,
     "metadata": {},
     "output_type": "execute_result"
    }
   ],
   "source": [
    "np.random.rand(2,3) #give us a dataset based on uniform distribution"
   ]
  },
  {
   "cell_type": "code",
   "execution_count": 73,
   "id": "36f62dc7",
   "metadata": {},
   "outputs": [
    {
     "data": {
      "text/plain": [
       "array([[ 1.71007847,  1.06786956,  0.73241951, -0.2644759 , -0.37530621],\n",
       "       [-0.1354612 , -0.02951951, -1.34454029,  1.0851795 ,  0.49332777],\n",
       "       [ 1.66934031,  1.49726679,  1.13154249,  0.51932694, -0.92509168],\n",
       "       [-1.61009695, -0.26388143,  0.99257112,  0.71534685, -0.00851947]])"
      ]
     },
     "execution_count": 73,
     "metadata": {},
     "output_type": "execute_result"
    }
   ],
   "source": [
    "np.random.randn(4,5)  #give us a dataset based on standard normal distribution"
   ]
  },
  {
   "cell_type": "code",
   "execution_count": 79,
   "id": "eb9ed201",
   "metadata": {},
   "outputs": [
    {
     "data": {
      "text/plain": [
       "array([[2, 3, 2],\n",
       "       [2, 1, 2],\n",
       "       [3, 2, 3],\n",
       "       [1, 2, 1]])"
      ]
     },
     "execution_count": 79,
     "metadata": {},
     "output_type": "execute_result"
    }
   ],
   "source": [
    "# every time i executed this the value will change \n",
    "np.random.randint(1,5,(4,3))  #giving the array in bw 1 to 5 of size (4,3)"
   ]
  },
  {
   "cell_type": "code",
   "execution_count": 86,
   "id": "cddc7644",
   "metadata": {},
   "outputs": [
    {
     "data": {
      "text/plain": [
       "array([[3, 2, 4],\n",
       "       [1, 3, 2],\n",
       "       [4, 3, 1],\n",
       "       [3, 2, 2]])"
      ]
     },
     "execution_count": 86,
     "metadata": {},
     "output_type": "execute_result"
    }
   ],
   "source": [
    "# to get the same value every time we will use seed function\n",
    "np.random.seed(6)\n",
    "np.random.randint(1,5,(4,3)) "
   ]
  },
  {
   "cell_type": "code",
   "execution_count": 88,
   "id": "a94c12bc",
   "metadata": {},
   "outputs": [
    {
     "data": {
      "text/plain": [
       "array([[2, 1, 3],\n",
       "       [2, 1, 2],\n",
       "       [2, 4, 2],\n",
       "       [2, 2, 3]])"
      ]
     },
     "execution_count": 88,
     "metadata": {},
     "output_type": "execute_result"
    }
   ],
   "source": [
    "np.random.seed(68934)\n",
    "np.random.randint(1,5,(4,3)) "
   ]
  },
  {
   "cell_type": "code",
   "execution_count": 90,
   "id": "80b1a0aa",
   "metadata": {},
   "outputs": [],
   "source": [
    "a5 = np.random.randint(2,6, (3,4))"
   ]
  },
  {
   "cell_type": "code",
   "execution_count": 91,
   "id": "4ef66efc",
   "metadata": {},
   "outputs": [
    {
     "data": {
      "text/plain": [
       "array([[3, 2, 3, 4],\n",
       "       [5, 2, 4, 3],\n",
       "       [3, 3, 3, 2]])"
      ]
     },
     "execution_count": 91,
     "metadata": {},
     "output_type": "execute_result"
    }
   ],
   "source": [
    "a5"
   ]
  },
  {
   "cell_type": "code",
   "execution_count": 92,
   "id": "46631111",
   "metadata": {},
   "outputs": [
    {
     "data": {
      "text/plain": [
       "array([[2, 3, 3, 4],\n",
       "       [2, 3, 4, 5],\n",
       "       [2, 3, 3, 3]])"
      ]
     },
     "execution_count": 92,
     "metadata": {},
     "output_type": "execute_result"
    }
   ],
   "source": [
    "# getting sorted data\n",
    "np.sort(a5)"
   ]
  },
  {
   "cell_type": "code",
   "execution_count": 93,
   "id": "dda5795b",
   "metadata": {},
   "outputs": [
    {
     "data": {
      "text/plain": [
       "array([[2, 3, 3, 4],\n",
       "       [2, 3, 4, 5],\n",
       "       [2, 3, 3, 3]])"
      ]
     },
     "execution_count": 93,
     "metadata": {},
     "output_type": "execute_result"
    }
   ],
   "source": [
    "# but the array is only sorted row wize\n",
    "np.sort(a5, axis =1) "
   ]
  },
  {
   "cell_type": "code",
   "execution_count": 95,
   "id": "dda5263c",
   "metadata": {},
   "outputs": [],
   "source": [
    "a6 = np.random.randint(2,10,(3,3))"
   ]
  },
  {
   "cell_type": "code",
   "execution_count": 96,
   "id": "48c56a48",
   "metadata": {},
   "outputs": [
    {
     "data": {
      "text/plain": [
       "array([[2, 8, 2],\n",
       "       [8, 2, 4],\n",
       "       [9, 9, 2]])"
      ]
     },
     "execution_count": 96,
     "metadata": {},
     "output_type": "execute_result"
    }
   ],
   "source": [
    "a6"
   ]
  },
  {
   "cell_type": "code",
   "execution_count": 97,
   "id": "451a63dd",
   "metadata": {},
   "outputs": [
    {
     "data": {
      "text/plain": [
       "array([[2, 2, 8],\n",
       "       [2, 4, 8],\n",
       "       [2, 9, 9]])"
      ]
     },
     "execution_count": 97,
     "metadata": {},
     "output_type": "execute_result"
    }
   ],
   "source": [
    "np.sort(a6, axis = 1)"
   ]
  },
  {
   "cell_type": "code",
   "execution_count": 102,
   "id": "d5c3b2f6",
   "metadata": {},
   "outputs": [
    {
     "data": {
      "text/plain": [
       "array([[2, 2, 2],\n",
       "       [8, 8, 2],\n",
       "       [9, 9, 4]])"
      ]
     },
     "execution_count": 102,
     "metadata": {},
     "output_type": "execute_result"
    }
   ],
   "source": [
    "np.sort(a6, axis = 0, kind = 'mergesort')"
   ]
  },
  {
   "cell_type": "code",
   "execution_count": 103,
   "id": "2a49ce51",
   "metadata": {},
   "outputs": [
    {
     "data": {
      "text/plain": [
       "array([[2, 2, 8],\n",
       "       [2, 4, 8],\n",
       "       [2, 9, 9]])"
      ]
     },
     "execution_count": 103,
     "metadata": {},
     "output_type": "execute_result"
    }
   ],
   "source": [
    "np.sort(a6)"
   ]
  },
  {
   "cell_type": "code",
   "execution_count": 104,
   "id": "9b028d33",
   "metadata": {},
   "outputs": [
    {
     "data": {
      "text/plain": [
       "9"
      ]
     },
     "execution_count": 104,
     "metadata": {},
     "output_type": "execute_result"
    }
   ],
   "source": [
    "a6.max()"
   ]
  },
  {
   "cell_type": "code",
   "execution_count": 108,
   "id": "8c43a238",
   "metadata": {},
   "outputs": [
    {
     "data": {
      "text/plain": [
       "array([9, 9, 2])"
      ]
     },
     "execution_count": 108,
     "metadata": {},
     "output_type": "execute_result"
    }
   ],
   "source": [
    "a6[2]"
   ]
  },
  {
   "cell_type": "code",
   "execution_count": 111,
   "id": "26c4510d",
   "metadata": {},
   "outputs": [
    {
     "data": {
      "text/plain": [
       "array([], shape=(0, 3), dtype=int32)"
      ]
     },
     "execution_count": 111,
     "metadata": {},
     "output_type": "execute_result"
    }
   ],
   "source": [
    "a6[2:1:1] #[row,col,step]"
   ]
  },
  {
   "cell_type": "code",
   "execution_count": 113,
   "id": "88e2537d",
   "metadata": {},
   "outputs": [],
   "source": [
    "a7 = np.random.randint(3,7,(7,7))"
   ]
  },
  {
   "cell_type": "code",
   "execution_count": 114,
   "id": "59cbea0e",
   "metadata": {},
   "outputs": [
    {
     "data": {
      "text/plain": [
       "array([[5, 4, 4, 6, 3, 3, 5],\n",
       "       [5, 6, 3, 3, 6, 4, 5],\n",
       "       [3, 4, 6, 5, 4, 6, 3],\n",
       "       [6, 4, 3, 3, 6, 6, 4],\n",
       "       [4, 6, 4, 6, 5, 4, 6],\n",
       "       [4, 4, 5, 4, 4, 3, 6],\n",
       "       [3, 5, 6, 4, 3, 5, 5]])"
      ]
     },
     "execution_count": 114,
     "metadata": {},
     "output_type": "execute_result"
    }
   ],
   "source": [
    "a7"
   ]
  },
  {
   "cell_type": "code",
   "execution_count": 115,
   "id": "2bdc0e2e",
   "metadata": {},
   "outputs": [
    {
     "data": {
      "text/plain": [
       "array([6, 4, 3, 3, 6, 6, 4])"
      ]
     },
     "execution_count": 115,
     "metadata": {},
     "output_type": "execute_result"
    }
   ],
   "source": [
    "a7[3]"
   ]
  },
  {
   "cell_type": "code",
   "execution_count": 116,
   "id": "5e79db16",
   "metadata": {},
   "outputs": [
    {
     "data": {
      "text/plain": [
       "array([[3, 4, 6, 5, 4, 6, 3],\n",
       "       [6, 4, 3, 3, 6, 6, 4],\n",
       "       [4, 6, 4, 6, 5, 4, 6]])"
      ]
     },
     "execution_count": 116,
     "metadata": {},
     "output_type": "execute_result"
    }
   ],
   "source": [
    "a7[2:5] #excluding the upper bound"
   ]
  },
  {
   "cell_type": "code",
   "execution_count": 117,
   "id": "77989383",
   "metadata": {},
   "outputs": [
    {
     "data": {
      "text/plain": [
       "array([[5, 6, 3, 3, 6, 4, 5],\n",
       "       [6, 4, 3, 3, 6, 6, 4],\n",
       "       [4, 4, 5, 4, 4, 3, 6]])"
      ]
     },
     "execution_count": 117,
     "metadata": {},
     "output_type": "execute_result"
    }
   ],
   "source": [
    "a7[1:6:2]"
   ]
  },
  {
   "cell_type": "code",
   "execution_count": 119,
   "id": "3bc107cf",
   "metadata": {},
   "outputs": [
    {
     "data": {
      "text/plain": [
       "array([[6, 5, 4, 6],\n",
       "       [3, 3, 6, 6],\n",
       "       [4, 6, 5, 4]])"
      ]
     },
     "execution_count": 119,
     "metadata": {},
     "output_type": "execute_result"
    }
   ],
   "source": [
    "a7[2:5,2:6]"
   ]
  },
  {
   "cell_type": "code",
   "execution_count": 121,
   "id": "dfb513f5",
   "metadata": {},
   "outputs": [
    {
     "data": {
      "text/plain": [
       "array([[5, 4],\n",
       "       [3, 6],\n",
       "       [6, 5]])"
      ]
     },
     "execution_count": 121,
     "metadata": {},
     "output_type": "execute_result"
    }
   ],
   "source": [
    "a7[2:5,3:5]"
   ]
  },
  {
   "cell_type": "code",
   "execution_count": 124,
   "id": "b53175a9",
   "metadata": {},
   "outputs": [],
   "source": [
    "a8 = np.random.randint(3,6,(3,4))"
   ]
  },
  {
   "cell_type": "code",
   "execution_count": 123,
   "id": "37bad11b",
   "metadata": {},
   "outputs": [],
   "source": [
    "a9 = np.random.randint(3,8,(3,4))"
   ]
  },
  {
   "cell_type": "code",
   "execution_count": 125,
   "id": "fc517e35",
   "metadata": {},
   "outputs": [
    {
     "data": {
      "text/plain": [
       "array([[5, 4, 4, 3],\n",
       "       [4, 4, 4, 4],\n",
       "       [3, 5, 4, 4]])"
      ]
     },
     "execution_count": 125,
     "metadata": {},
     "output_type": "execute_result"
    }
   ],
   "source": [
    "a8"
   ]
  },
  {
   "cell_type": "code",
   "execution_count": 126,
   "id": "cf582cc1",
   "metadata": {},
   "outputs": [
    {
     "data": {
      "text/plain": [
       "array([[6, 6, 5, 7],\n",
       "       [4, 5, 4, 7],\n",
       "       [3, 5, 5, 4]])"
      ]
     },
     "execution_count": 126,
     "metadata": {},
     "output_type": "execute_result"
    }
   ],
   "source": [
    "a9"
   ]
  },
  {
   "cell_type": "code",
   "execution_count": 127,
   "id": "e54e1927",
   "metadata": {},
   "outputs": [
    {
     "name": "stderr",
     "output_type": "stream",
     "text": [
      "C:\\Users\\himan\\AppData\\Local\\Temp\\ipykernel_13532\\3747121839.py:1: RuntimeWarning: divide by zero encountered in true_divide\n",
      "  a8/0\n"
     ]
    },
    {
     "data": {
      "text/plain": [
       "array([[inf, inf, inf, inf],\n",
       "       [inf, inf, inf, inf],\n",
       "       [inf, inf, inf, inf]])"
      ]
     },
     "execution_count": 127,
     "metadata": {},
     "output_type": "execute_result"
    }
   ],
   "source": [
    "a8/0 #in nupy it will give infinity"
   ]
  },
  {
   "cell_type": "code",
   "execution_count": 128,
   "id": "ea4cd477",
   "metadata": {},
   "outputs": [
    {
     "data": {
      "text/plain": [
       "array([[30, 24, 20, 21],\n",
       "       [16, 20, 16, 28],\n",
       "       [ 9, 25, 20, 16]])"
      ]
     },
     "execution_count": 128,
     "metadata": {},
     "output_type": "execute_result"
    }
   ],
   "source": [
    "a8*a9  #element wise multiplication"
   ]
  },
  {
   "cell_type": "code",
   "execution_count": 129,
   "id": "e090e675",
   "metadata": {},
   "outputs": [
    {
     "data": {
      "text/plain": [
       "array([[0.83333333, 0.66666667, 0.8       , 0.42857143],\n",
       "       [1.        , 0.8       , 1.        , 0.57142857],\n",
       "       [1.        , 1.        , 0.8       , 1.        ]])"
      ]
     },
     "execution_count": 129,
     "metadata": {},
     "output_type": "execute_result"
    }
   ],
   "source": [
    "a8/a9"
   ]
  },
  {
   "cell_type": "code",
   "execution_count": 130,
   "id": "ec882d2a",
   "metadata": {},
   "outputs": [],
   "source": [
    "a10 = np.random.randint(3,6,(3,3))"
   ]
  },
  {
   "cell_type": "code",
   "execution_count": 132,
   "id": "ce3c9ed2",
   "metadata": {},
   "outputs": [
    {
     "ename": "ValueError",
     "evalue": "operands could not be broadcast together with shapes (3,4) (3,3) ",
     "output_type": "error",
     "traceback": [
      "\u001b[1;31m---------------------------------------------------------------------------\u001b[0m",
      "\u001b[1;31mValueError\u001b[0m                                Traceback (most recent call last)",
      "Input \u001b[1;32mIn [132]\u001b[0m, in \u001b[0;36m<cell line: 1>\u001b[1;34m()\u001b[0m\n\u001b[1;32m----> 1\u001b[0m \u001b[43ma9\u001b[49m\u001b[38;5;241;43m*\u001b[39;49m\u001b[43ma10\u001b[49m\n",
      "\u001b[1;31mValueError\u001b[0m: operands could not be broadcast together with shapes (3,4) (3,3) "
     ]
    }
   ],
   "source": [
    "a9*a10 #not the same size array "
   ]
  },
  {
   "cell_type": "code",
   "execution_count": 139,
   "id": "4f9d3a1e",
   "metadata": {},
   "outputs": [
    {
     "name": "stdout",
     "output_type": "stream",
     "text": [
      "[[5 4 3]\n",
      " [4 4 5]\n",
      " [4 4 4]\n",
      " [3 4 4]]\n",
      "(4, 3)\n"
     ]
    }
   ],
   "source": [
    "# we can transpose matrix by .T\n",
    "print(a8.T)\n",
    "print(a8.T.shape)"
   ]
  },
  {
   "cell_type": "code",
   "execution_count": 143,
   "id": "6b8836fe",
   "metadata": {},
   "outputs": [
    {
     "name": "stdout",
     "output_type": "stream",
     "text": [
      "[[6 6 5 7]\n",
      " [4 5 4 7]\n",
      " [3 5 5 4]]\n",
      "(3, 4)\n"
     ]
    }
   ],
   "source": [
    "print(a9)\n",
    "print(a9.shape)"
   ]
  },
  {
   "cell_type": "code",
   "execution_count": 142,
   "id": "384f3af7",
   "metadata": {},
   "outputs": [
    {
     "data": {
      "text/plain": [
       "array([[55, 65, 56, 75],\n",
       "       [55, 69, 61, 76],\n",
       "       [52, 64, 56, 72],\n",
       "       [46, 58, 51, 65]])"
      ]
     },
     "execution_count": 142,
     "metadata": {},
     "output_type": "execute_result"
    }
   ],
   "source": [
    "# now we can do matrix multiplication because is compatible to do this\n",
    "a8.T@a9   #matrix multiplication done by @ not by *"
   ]
  },
  {
   "cell_type": "code",
   "execution_count": 146,
   "id": "bbe90d86",
   "metadata": {},
   "outputs": [
    {
     "name": "stdout",
     "output_type": "stream",
     "text": [
      "[[5 4 4 3]\n",
      " [4 4 4 4]\n",
      " [3 5 4 4]]\n",
      "[[25 16 16  9]\n",
      " [16 16 16 16]\n",
      " [ 9 25 16 16]]\n"
     ]
    }
   ],
   "source": [
    "print(a8)\n",
    "\n",
    "print(a8**2)"
   ]
  },
  {
   "cell_type": "code",
   "execution_count": null,
   "id": "d8f5e0ed",
   "metadata": {},
   "outputs": [],
   "source": []
  }
 ],
 "metadata": {
  "kernelspec": {
   "display_name": "Python 3 (ipykernel)",
   "language": "python",
   "name": "python3"
  },
  "language_info": {
   "codemirror_mode": {
    "name": "ipython",
    "version": 3
   },
   "file_extension": ".py",
   "mimetype": "text/x-python",
   "name": "python",
   "nbconvert_exporter": "python",
   "pygments_lexer": "ipython3",
   "version": "3.9.12"
  }
 },
 "nbformat": 4,
 "nbformat_minor": 5
}
